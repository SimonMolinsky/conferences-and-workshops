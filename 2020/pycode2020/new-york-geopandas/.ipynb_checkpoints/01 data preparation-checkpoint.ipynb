{
 "cells": [
  {
   "cell_type": "code",
   "execution_count": 34,
   "metadata": {},
   "outputs": [],
   "source": [
    "import numpy as np\n",
    "import pandas as pd\n",
    "import seaborn as sns\n",
    "import matplotlib.pyplot as plt\n",
    "\n",
    "from pandas.api.types import is_string_dtype"
   ]
  },
  {
   "cell_type": "code",
   "execution_count": 35,
   "metadata": {},
   "outputs": [],
   "source": [
    "# Read dataset and set id column as an index\n",
    "\n",
    "df = pd.read_csv('AB_NYC_2019.csv', index_col='id')"
   ]
  },
  {
   "cell_type": "code",
   "execution_count": 36,
   "metadata": {},
   "outputs": [
    {
     "name": "stdout",
     "output_type": "stream",
     "text": [
      "<class 'pandas.core.frame.DataFrame'>\n",
      "Int64Index: 48895 entries, 2539 to 36487245\n",
      "Data columns (total 15 columns):\n",
      " #   Column                          Non-Null Count  Dtype  \n",
      "---  ------                          --------------  -----  \n",
      " 0   name                            48879 non-null  object \n",
      " 1   host_id                         48895 non-null  int64  \n",
      " 2   host_name                       48874 non-null  object \n",
      " 3   neighbourhood_group             48895 non-null  object \n",
      " 4   neighbourhood                   48895 non-null  object \n",
      " 5   latitude                        48895 non-null  float64\n",
      " 6   longitude                       48895 non-null  float64\n",
      " 7   room_type                       48895 non-null  object \n",
      " 8   price                           48895 non-null  int64  \n",
      " 9   minimum_nights                  48895 non-null  int64  \n",
      " 10  number_of_reviews               48895 non-null  int64  \n",
      " 11  last_review                     38843 non-null  object \n",
      " 12  reviews_per_month               38843 non-null  float64\n",
      " 13  calculated_host_listings_count  48895 non-null  int64  \n",
      " 14  availability_365                48895 non-null  int64  \n",
      "dtypes: float64(3), int64(6), object(6)\n",
      "memory usage: 6.0+ MB\n"
     ]
    }
   ],
   "source": [
    "# Get info about dataset\n",
    "\n",
    "df.info()"
   ]
  },
  {
   "cell_type": "code",
   "execution_count": 37,
   "metadata": {},
   "outputs": [
    {
     "data": {
      "text/plain": [
       "Index(['name', 'host_id', 'host_name', 'neighbourhood_group', 'neighbourhood',\n",
       "       'latitude', 'longitude', 'room_type', 'price', 'minimum_nights',\n",
       "       'number_of_reviews', 'last_review', 'reviews_per_month',\n",
       "       'calculated_host_listings_count', 'availability_365'],\n",
       "      dtype='object')"
      ]
     },
     "execution_count": 37,
     "metadata": {},
     "output_type": "execute_result"
    }
   ],
   "source": [
    "df.columns"
   ]
  },
  {
   "cell_type": "code",
   "execution_count": 38,
   "metadata": {},
   "outputs": [
    {
     "data": {
      "text/html": [
       "<div>\n",
       "<style scoped>\n",
       "    .dataframe tbody tr th:only-of-type {\n",
       "        vertical-align: middle;\n",
       "    }\n",
       "\n",
       "    .dataframe tbody tr th {\n",
       "        vertical-align: top;\n",
       "    }\n",
       "\n",
       "    .dataframe thead th {\n",
       "        text-align: right;\n",
       "    }\n",
       "</style>\n",
       "<table border=\"1\" class=\"dataframe\">\n",
       "  <thead>\n",
       "    <tr style=\"text-align: right;\">\n",
       "      <th></th>\n",
       "      <th>name</th>\n",
       "      <th>host_id</th>\n",
       "      <th>host_name</th>\n",
       "      <th>neighbourhood_group</th>\n",
       "      <th>neighbourhood</th>\n",
       "      <th>latitude</th>\n",
       "      <th>longitude</th>\n",
       "      <th>room_type</th>\n",
       "      <th>price</th>\n",
       "      <th>minimum_nights</th>\n",
       "      <th>number_of_reviews</th>\n",
       "      <th>last_review</th>\n",
       "      <th>reviews_per_month</th>\n",
       "      <th>calculated_host_listings_count</th>\n",
       "      <th>availability_365</th>\n",
       "    </tr>\n",
       "    <tr>\n",
       "      <th>id</th>\n",
       "      <th></th>\n",
       "      <th></th>\n",
       "      <th></th>\n",
       "      <th></th>\n",
       "      <th></th>\n",
       "      <th></th>\n",
       "      <th></th>\n",
       "      <th></th>\n",
       "      <th></th>\n",
       "      <th></th>\n",
       "      <th></th>\n",
       "      <th></th>\n",
       "      <th></th>\n",
       "      <th></th>\n",
       "      <th></th>\n",
       "    </tr>\n",
       "  </thead>\n",
       "  <tbody>\n",
       "    <tr>\n",
       "      <th>2539</th>\n",
       "      <td>Clean &amp; quiet apt home by the park</td>\n",
       "      <td>2787</td>\n",
       "      <td>John</td>\n",
       "      <td>Brooklyn</td>\n",
       "      <td>Kensington</td>\n",
       "      <td>40.64749</td>\n",
       "      <td>-73.97237</td>\n",
       "      <td>Private room</td>\n",
       "      <td>149</td>\n",
       "      <td>1</td>\n",
       "      <td>9</td>\n",
       "      <td>2018-10-19</td>\n",
       "      <td>0.21</td>\n",
       "      <td>6</td>\n",
       "      <td>365</td>\n",
       "    </tr>\n",
       "    <tr>\n",
       "      <th>2595</th>\n",
       "      <td>Skylit Midtown Castle</td>\n",
       "      <td>2845</td>\n",
       "      <td>Jennifer</td>\n",
       "      <td>Manhattan</td>\n",
       "      <td>Midtown</td>\n",
       "      <td>40.75362</td>\n",
       "      <td>-73.98377</td>\n",
       "      <td>Entire home/apt</td>\n",
       "      <td>225</td>\n",
       "      <td>1</td>\n",
       "      <td>45</td>\n",
       "      <td>2019-05-21</td>\n",
       "      <td>0.38</td>\n",
       "      <td>2</td>\n",
       "      <td>355</td>\n",
       "    </tr>\n",
       "    <tr>\n",
       "      <th>3647</th>\n",
       "      <td>THE VILLAGE OF HARLEM....NEW YORK !</td>\n",
       "      <td>4632</td>\n",
       "      <td>Elisabeth</td>\n",
       "      <td>Manhattan</td>\n",
       "      <td>Harlem</td>\n",
       "      <td>40.80902</td>\n",
       "      <td>-73.94190</td>\n",
       "      <td>Private room</td>\n",
       "      <td>150</td>\n",
       "      <td>3</td>\n",
       "      <td>0</td>\n",
       "      <td>NaN</td>\n",
       "      <td>NaN</td>\n",
       "      <td>1</td>\n",
       "      <td>365</td>\n",
       "    </tr>\n",
       "    <tr>\n",
       "      <th>3831</th>\n",
       "      <td>Cozy Entire Floor of Brownstone</td>\n",
       "      <td>4869</td>\n",
       "      <td>LisaRoxanne</td>\n",
       "      <td>Brooklyn</td>\n",
       "      <td>Clinton Hill</td>\n",
       "      <td>40.68514</td>\n",
       "      <td>-73.95976</td>\n",
       "      <td>Entire home/apt</td>\n",
       "      <td>89</td>\n",
       "      <td>1</td>\n",
       "      <td>270</td>\n",
       "      <td>2019-07-05</td>\n",
       "      <td>4.64</td>\n",
       "      <td>1</td>\n",
       "      <td>194</td>\n",
       "    </tr>\n",
       "    <tr>\n",
       "      <th>5022</th>\n",
       "      <td>Entire Apt: Spacious Studio/Loft by central park</td>\n",
       "      <td>7192</td>\n",
       "      <td>Laura</td>\n",
       "      <td>Manhattan</td>\n",
       "      <td>East Harlem</td>\n",
       "      <td>40.79851</td>\n",
       "      <td>-73.94399</td>\n",
       "      <td>Entire home/apt</td>\n",
       "      <td>80</td>\n",
       "      <td>10</td>\n",
       "      <td>9</td>\n",
       "      <td>2018-11-19</td>\n",
       "      <td>0.10</td>\n",
       "      <td>1</td>\n",
       "      <td>0</td>\n",
       "    </tr>\n",
       "  </tbody>\n",
       "</table>\n",
       "</div>"
      ],
      "text/plain": [
       "                                                  name  host_id    host_name  \\\n",
       "id                                                                             \n",
       "2539                Clean & quiet apt home by the park     2787         John   \n",
       "2595                             Skylit Midtown Castle     2845     Jennifer   \n",
       "3647               THE VILLAGE OF HARLEM....NEW YORK !     4632    Elisabeth   \n",
       "3831                   Cozy Entire Floor of Brownstone     4869  LisaRoxanne   \n",
       "5022  Entire Apt: Spacious Studio/Loft by central park     7192        Laura   \n",
       "\n",
       "     neighbourhood_group neighbourhood  latitude  longitude        room_type  \\\n",
       "id                                                                             \n",
       "2539            Brooklyn    Kensington  40.64749  -73.97237     Private room   \n",
       "2595           Manhattan       Midtown  40.75362  -73.98377  Entire home/apt   \n",
       "3647           Manhattan        Harlem  40.80902  -73.94190     Private room   \n",
       "3831            Brooklyn  Clinton Hill  40.68514  -73.95976  Entire home/apt   \n",
       "5022           Manhattan   East Harlem  40.79851  -73.94399  Entire home/apt   \n",
       "\n",
       "      price  minimum_nights  number_of_reviews last_review  reviews_per_month  \\\n",
       "id                                                                              \n",
       "2539    149               1                  9  2018-10-19               0.21   \n",
       "2595    225               1                 45  2019-05-21               0.38   \n",
       "3647    150               3                  0         NaN                NaN   \n",
       "3831     89               1                270  2019-07-05               4.64   \n",
       "5022     80              10                  9  2018-11-19               0.10   \n",
       "\n",
       "      calculated_host_listings_count  availability_365  \n",
       "id                                                      \n",
       "2539                               6               365  \n",
       "2595                               2               355  \n",
       "3647                               1               365  \n",
       "3831                               1               194  \n",
       "5022                               1                 0  "
      ]
     },
     "execution_count": 38,
     "metadata": {},
     "output_type": "execute_result"
    }
   ],
   "source": [
    "df.head()"
   ]
  },
  {
   "cell_type": "code",
   "execution_count": 39,
   "metadata": {},
   "outputs": [],
   "source": [
    "# Drop name, host_id, host_name, last_review columns\n",
    "\n",
    "df = df.drop(['name', 'host_id', 'host_name', 'last_review'], axis=1)"
   ]
  },
  {
   "cell_type": "code",
   "execution_count": 40,
   "metadata": {},
   "outputs": [
    {
     "data": {
      "text/plain": [
       "Index(['neighbourhood_group', 'neighbourhood', 'latitude', 'longitude',\n",
       "       'room_type', 'price', 'minimum_nights', 'number_of_reviews',\n",
       "       'reviews_per_month', 'calculated_host_listings_count',\n",
       "       'availability_365'],\n",
       "      dtype='object')"
      ]
     },
     "execution_count": 40,
     "metadata": {},
     "output_type": "execute_result"
    }
   ],
   "source": [
    "df.columns"
   ]
  },
  {
   "cell_type": "code",
   "execution_count": 41,
   "metadata": {},
   "outputs": [
    {
     "name": "stdout",
     "output_type": "stream",
     "text": [
      "Number of unique columns in neighbourhood_group is 5 which is 0.010225994477962982% records in a column.\n",
      "\n",
      "Number of unique columns in neighbourhood is 221 which is 0.4519889559259638% records in a column.\n",
      "\n",
      "Number of unique columns in room_type is 3 which is 0.006135596686777789% records in a column.\n",
      "\n"
     ]
    }
   ],
   "source": [
    "# Now check % of unique values in each object column\n",
    "\n",
    "for col in df.columns:\n",
    "    if is_string_dtype(df[col]):\n",
    "        number_of_unique = df[col].nunique()\n",
    "        percent_of_all = (number_of_unique / len(df)) * 100\n",
    "        print(f'Number of unique columns in {col} is {number_of_unique} which is {percent_of_all}% records in a column.\\n')"
   ]
  },
  {
   "cell_type": "code",
   "execution_count": 42,
   "metadata": {},
   "outputs": [],
   "source": [
    "# Every time we are not close even to one percent, so we can perform label and one-hot encoding of our columns\n",
    "# Column neighbourhood will be label-encoded\n",
    "# Columns neighbourhood_group and room_type will be one-hot encoded\n",
    "# Before those steps it is good idea to check distribution of categorical variables! It is easier to do it before\n",
    "# one-hot encoding, when all labels are grouped under single column"
   ]
  },
  {
   "cell_type": "code",
   "execution_count": 43,
   "metadata": {},
   "outputs": [
    {
     "data": {
      "image/png": "[encoded data removed]",
      "text/plain": [
       "<Figure size 864x504 with 1 Axes>"
      ]
     },
     "metadata": {
      "needs_background": "light"
     },
     "output_type": "display_data"
    }
   ],
   "source": [
    "# Check distribution of neighbourhood\n",
    "\n",
    "plt.figure(figsize=(12, 7))\n",
    "sns.countplot(x='neighbourhood', data=df)\n",
    "plt.show()"
   ]
  },
  {
   "cell_type": "code",
   "execution_count": 44,
   "metadata": {},
   "outputs": [
    {
     "data": {
      "image/png": "[encoded data removed]",
      "text/plain": [
       "<Figure size 864x504 with 1 Axes>"
      ]
     },
     "metadata": {
      "needs_background": "light"
     },
     "output_type": "display_data"
    }
   ],
   "source": [
    "# Check distribution of neighbourhood_group\n",
    "\n",
    "plt.figure(figsize=(12, 7))\n",
    "sns.countplot(x='neighbourhood_group', data=df)\n",
    "plt.show()"
   ]
  },
  {
   "cell_type": "code",
   "execution_count": 45,
   "metadata": {},
   "outputs": [
    {
     "data": {
      "image/png": "[encoded data removed]",
      "text/plain": [
       "<Figure size 864x504 with 1 Axes>"
      ]
     },
     "metadata": {
      "needs_background": "light"
     },
     "output_type": "display_data"
    }
   ],
   "source": [
    "# Check distribution of room_type\n",
    "\n",
    "plt.figure(figsize=(12, 7))\n",
    "sns.countplot(x='room_type', data=df)\n",
    "plt.show()"
   ]
  },
  {
   "cell_type": "code",
   "execution_count": 46,
   "metadata": {},
   "outputs": [],
   "source": [
    "# Classes in our dataset are not well-balanced and it introduces bias to our model\n",
    "# So we test two cases: where we use those categorical datasets and when we drop them during the modeling\n",
    "# Now it's time for label encoding"
   ]
  },
  {
   "cell_type": "code",
   "execution_count": 47,
   "metadata": {},
   "outputs": [
    {
     "data": {
      "text/html": [
       "<div>\n",
       "<style scoped>\n",
       "    .dataframe tbody tr th:only-of-type {\n",
       "        vertical-align: middle;\n",
       "    }\n",
       "\n",
       "    .dataframe tbody tr th {\n",
       "        vertical-align: top;\n",
       "    }\n",
       "\n",
       "    .dataframe thead th {\n",
       "        text-align: right;\n",
       "    }\n",
       "</style>\n",
       "<table border=\"1\" class=\"dataframe\">\n",
       "  <thead>\n",
       "    <tr style=\"text-align: right;\">\n",
       "      <th></th>\n",
       "      <th>neighbourhood_group</th>\n",
       "      <th>neighbourhood</th>\n",
       "      <th>latitude</th>\n",
       "      <th>longitude</th>\n",
       "      <th>room_type</th>\n",
       "      <th>price</th>\n",
       "      <th>minimum_nights</th>\n",
       "      <th>number_of_reviews</th>\n",
       "      <th>reviews_per_month</th>\n",
       "      <th>calculated_host_listings_count</th>\n",
       "      <th>availability_365</th>\n",
       "      <th>neighbourhood_cat</th>\n",
       "    </tr>\n",
       "    <tr>\n",
       "      <th>id</th>\n",
       "      <th></th>\n",
       "      <th></th>\n",
       "      <th></th>\n",
       "      <th></th>\n",
       "      <th></th>\n",
       "      <th></th>\n",
       "      <th></th>\n",
       "      <th></th>\n",
       "      <th></th>\n",
       "      <th></th>\n",
       "      <th></th>\n",
       "      <th></th>\n",
       "    </tr>\n",
       "  </thead>\n",
       "  <tbody>\n",
       "    <tr>\n",
       "      <th>2539</th>\n",
       "      <td>Brooklyn</td>\n",
       "      <td>Kensington</td>\n",
       "      <td>40.64749</td>\n",
       "      <td>-73.97237</td>\n",
       "      <td>Private room</td>\n",
       "      <td>149</td>\n",
       "      <td>1</td>\n",
       "      <td>9</td>\n",
       "      <td>0.21</td>\n",
       "      <td>6</td>\n",
       "      <td>365</td>\n",
       "      <td>108</td>\n",
       "    </tr>\n",
       "    <tr>\n",
       "      <th>2595</th>\n",
       "      <td>Manhattan</td>\n",
       "      <td>Midtown</td>\n",
       "      <td>40.75362</td>\n",
       "      <td>-73.98377</td>\n",
       "      <td>Entire home/apt</td>\n",
       "      <td>225</td>\n",
       "      <td>1</td>\n",
       "      <td>45</td>\n",
       "      <td>0.38</td>\n",
       "      <td>2</td>\n",
       "      <td>355</td>\n",
       "      <td>127</td>\n",
       "    </tr>\n",
       "    <tr>\n",
       "      <th>3647</th>\n",
       "      <td>Manhattan</td>\n",
       "      <td>Harlem</td>\n",
       "      <td>40.80902</td>\n",
       "      <td>-73.94190</td>\n",
       "      <td>Private room</td>\n",
       "      <td>150</td>\n",
       "      <td>3</td>\n",
       "      <td>0</td>\n",
       "      <td>NaN</td>\n",
       "      <td>1</td>\n",
       "      <td>365</td>\n",
       "      <td>94</td>\n",
       "    </tr>\n",
       "    <tr>\n",
       "      <th>3831</th>\n",
       "      <td>Brooklyn</td>\n",
       "      <td>Clinton Hill</td>\n",
       "      <td>40.68514</td>\n",
       "      <td>-73.95976</td>\n",
       "      <td>Entire home/apt</td>\n",
       "      <td>89</td>\n",
       "      <td>1</td>\n",
       "      <td>270</td>\n",
       "      <td>4.64</td>\n",
       "      <td>1</td>\n",
       "      <td>194</td>\n",
       "      <td>41</td>\n",
       "    </tr>\n",
       "    <tr>\n",
       "      <th>5022</th>\n",
       "      <td>Manhattan</td>\n",
       "      <td>East Harlem</td>\n",
       "      <td>40.79851</td>\n",
       "      <td>-73.94399</td>\n",
       "      <td>Entire home/apt</td>\n",
       "      <td>80</td>\n",
       "      <td>10</td>\n",
       "      <td>9</td>\n",
       "      <td>0.10</td>\n",
       "      <td>1</td>\n",
       "      <td>0</td>\n",
       "      <td>61</td>\n",
       "    </tr>\n",
       "  </tbody>\n",
       "</table>\n",
       "</div>"
      ],
      "text/plain": [
       "     neighbourhood_group neighbourhood  latitude  longitude        room_type  \\\n",
       "id                                                                             \n",
       "2539            Brooklyn    Kensington  40.64749  -73.97237     Private room   \n",
       "2595           Manhattan       Midtown  40.75362  -73.98377  Entire home/apt   \n",
       "3647           Manhattan        Harlem  40.80902  -73.94190     Private room   \n",
       "3831            Brooklyn  Clinton Hill  40.68514  -73.95976  Entire home/apt   \n",
       "5022           Manhattan   East Harlem  40.79851  -73.94399  Entire home/apt   \n",
       "\n",
       "      price  minimum_nights  number_of_reviews  reviews_per_month  \\\n",
       "id                                                                  \n",
       "2539    149               1                  9               0.21   \n",
       "2595    225               1                 45               0.38   \n",
       "3647    150               3                  0                NaN   \n",
       "3831     89               1                270               4.64   \n",
       "5022     80              10                  9               0.10   \n",
       "\n",
       "      calculated_host_listings_count  availability_365  neighbourhood_cat  \n",
       "id                                                                         \n",
       "2539                               6               365                108  \n",
       "2595                               2               355                127  \n",
       "3647                               1               365                 94  \n",
       "3831                               1               194                 41  \n",
       "5022                               1                 0                 61  "
      ]
     },
     "execution_count": 47,
     "metadata": {},
     "output_type": "execute_result"
    }
   ],
   "source": [
    "# Label encoding\n",
    "\n",
    "df['neighbourhood'] = df['neighbourhood'].astype('category')\n",
    "df['neighbourhood_cat'] = df['neighbourhood'].cat.codes\n",
    "\n",
    "df.head()"
   ]
  },
  {
   "cell_type": "code",
   "execution_count": 48,
   "metadata": {},
   "outputs": [],
   "source": [
    "# One-hot encoding\n",
    "\n",
    "df = pd.get_dummies(df, columns=['neighbourhood_group', 'room_type'],\n",
    "                    prefix=['neighbourhood_group', 'room_type'])"
   ]
  },
  {
   "cell_type": "code",
   "execution_count": 49,
   "metadata": {},
   "outputs": [
    {
     "name": "stdout",
     "output_type": "stream",
     "text": [
      "neighbourhood\n",
      "latitude\n",
      "longitude\n",
      "price\n",
      "minimum_nights\n",
      "number_of_reviews\n",
      "reviews_per_month\n",
      "calculated_host_listings_count\n",
      "availability_365\n",
      "neighbourhood_cat\n",
      "neighbourhood_group_Bronx\n",
      "neighbourhood_group_Brooklyn\n",
      "neighbourhood_group_Manhattan\n",
      "neighbourhood_group_Queens\n",
      "neighbourhood_group_Staten Island\n",
      "room_type_Entire home/apt\n",
      "room_type_Private room\n",
      "room_type_Shared room\n"
     ]
    }
   ],
   "source": [
    "for col in df.columns:\n",
    "    print(col)"
   ]
  },
  {
   "cell_type": "code",
   "execution_count": 50,
   "metadata": {},
   "outputs": [],
   "source": [
    "# Now it's time to remove NaN's from our dataset"
   ]
  },
  {
   "cell_type": "code",
   "execution_count": null,
   "metadata": {},
   "outputs": [],
   "source": []
  }
 ],
 "metadata": {
  "kernelspec": {
   "display_name": "Python 3",
   "language": "python",
   "name": "python3"
  },
  "language_info": {
   "codemirror_mode": {
    "name": "ipython",
    "version": 3
   },
   "file_extension": ".py",
   "mimetype": "text/x-python",
   "name": "python",
   "nbconvert_exporter": "python",
   "pygments_lexer": "ipython3",
   "version": "3.9.0"
  }
 },
 "nbformat": 4,
 "nbformat_minor": 4
}
