{
 "cells": [
  {
   "cell_type": "markdown",
   "metadata": {},
   "source": [
    "# Feature engineering with GeoPandas\n",
    "\n",
    "It is short example of feature engineering with GeoPandas. If we analyze spatial processes we cannot forget about spatial data! Sometimes we can get nice features for machine learning problems which were virtually hidden from us and from model.\n",
    "\n",
    "Our task is divided into five parts:\n",
    "\n",
    "1. Load point data and transform it from simple DataFrame to GeoDataFrame.\n",
    "2. Create distance to borough centroid feature (numerical).\n",
    "3. Create: school district id, fire division id, police precint id and health center id columns.\n",
    "4. Check distribution of categorical features vs price.\n",
    "5. Check correlation between numerical values and price."
   ]
  },
  {
   "cell_type": "markdown",
   "metadata": {},
   "source": [
    "## Step 1: Load point data and transform it from simple DataFrame to GeoDataFrame\n",
    "\n",
    "- import packages: _numpy_, _pandas_, _geopandas_, _matplotlib.pyplot_, from _shapely.geometry_ import _Point_,\n",
    "- read ```AB_NYC_2019.csv``` file, set ```id``` as an index column,\n",
    "- create column with ```Point``` geometry, and drop unwanted columns to have: ```['neighbourhood_group', 'neighbourhood', 'room_type', 'price', 'minimum_nights', 'number_of_reviews', 'reviews_per_month', 'calculated_host_listings_count', 'geometry']```,\n",
    "- set _crs_ od _GeoDataFrame_ to **EPSG:4326**,\n",
    "- load other spatial datasets: Boroughs (```nybbwi_20d/nybbwi.shp```), fire divisions (```nyfd_20d/nyfd.shp```), police precints (```nypp_20d/nypp.shp```), school districts (```nysd_20d/nysd.shp```) and health centres (```nyhc_20d/nyhc.shp```). Plot them and check info about their structure,\n",
    "- check if all datasets have the same crs,\n",
    "- transform crs of datasets if it's different (you may transform Point's crs or Polygon's crs. It's up to you)."
   ]
  },
  {
   "cell_type": "code",
   "execution_count": 1,
   "metadata": {},
   "outputs": [],
   "source": [
    "# Import packages\n",
    "\n",
    "import numpy as np\n",
    "import geopandas as gpd\n",
    "import pandas as pd\n",
    "import matplotlib.pyplot as plt\n",
    "\n",
    "from shapely.geometry import Point"
   ]
  },
  {
   "cell_type": "code",
   "execution_count": 2,
   "metadata": {},
   "outputs": [
    {
     "data": {
      "text/html": [
       "<div>\n",
       "<style scoped>\n",
       "    .dataframe tbody tr th:only-of-type {\n",
       "        vertical-align: middle;\n",
       "    }\n",
       "\n",
       "    .dataframe tbody tr th {\n",
       "        vertical-align: top;\n",
       "    }\n",
       "\n",
       "    .dataframe thead th {\n",
       "        text-align: right;\n",
       "    }\n",
       "</style>\n",
       "<table border=\"1\" class=\"dataframe\">\n",
       "  <thead>\n",
       "    <tr style=\"text-align: right;\">\n",
       "      <th></th>\n",
       "      <th>name</th>\n",
       "      <th>host_id</th>\n",
       "      <th>host_name</th>\n",
       "      <th>neighbourhood_group</th>\n",
       "      <th>neighbourhood</th>\n",
       "      <th>latitude</th>\n",
       "      <th>longitude</th>\n",
       "      <th>room_type</th>\n",
       "      <th>price</th>\n",
       "      <th>minimum_nights</th>\n",
       "      <th>number_of_reviews</th>\n",
       "      <th>last_review</th>\n",
       "      <th>reviews_per_month</th>\n",
       "      <th>calculated_host_listings_count</th>\n",
       "      <th>availability_365</th>\n",
       "    </tr>\n",
       "    <tr>\n",
       "      <th>id</th>\n",
       "      <th></th>\n",
       "      <th></th>\n",
       "      <th></th>\n",
       "      <th></th>\n",
       "      <th></th>\n",
       "      <th></th>\n",
       "      <th></th>\n",
       "      <th></th>\n",
       "      <th></th>\n",
       "      <th></th>\n",
       "      <th></th>\n",
       "      <th></th>\n",
       "      <th></th>\n",
       "      <th></th>\n",
       "      <th></th>\n",
       "    </tr>\n",
       "  </thead>\n",
       "  <tbody>\n",
       "    <tr>\n",
       "      <th>2539</th>\n",
       "      <td>Clean &amp; quiet apt home by the park</td>\n",
       "      <td>2787</td>\n",
       "      <td>John</td>\n",
       "      <td>Brooklyn</td>\n",
       "      <td>Kensington</td>\n",
       "      <td>40.64749</td>\n",
       "      <td>-73.97237</td>\n",
       "      <td>Private room</td>\n",
       "      <td>149</td>\n",
       "      <td>1</td>\n",
       "      <td>9</td>\n",
       "      <td>2018-10-19</td>\n",
       "      <td>0.21</td>\n",
       "      <td>6</td>\n",
       "      <td>365</td>\n",
       "    </tr>\n",
       "    <tr>\n",
       "      <th>2595</th>\n",
       "      <td>Skylit Midtown Castle</td>\n",
       "      <td>2845</td>\n",
       "      <td>Jennifer</td>\n",
       "      <td>Manhattan</td>\n",
       "      <td>Midtown</td>\n",
       "      <td>40.75362</td>\n",
       "      <td>-73.98377</td>\n",
       "      <td>Entire home/apt</td>\n",
       "      <td>225</td>\n",
       "      <td>1</td>\n",
       "      <td>45</td>\n",
       "      <td>2019-05-21</td>\n",
       "      <td>0.38</td>\n",
       "      <td>2</td>\n",
       "      <td>355</td>\n",
       "    </tr>\n",
       "    <tr>\n",
       "      <th>3647</th>\n",
       "      <td>THE VILLAGE OF HARLEM....NEW YORK !</td>\n",
       "      <td>4632</td>\n",
       "      <td>Elisabeth</td>\n",
       "      <td>Manhattan</td>\n",
       "      <td>Harlem</td>\n",
       "      <td>40.80902</td>\n",
       "      <td>-73.94190</td>\n",
       "      <td>Private room</td>\n",
       "      <td>150</td>\n",
       "      <td>3</td>\n",
       "      <td>0</td>\n",
       "      <td>NaN</td>\n",
       "      <td>NaN</td>\n",
       "      <td>1</td>\n",
       "      <td>365</td>\n",
       "    </tr>\n",
       "    <tr>\n",
       "      <th>3831</th>\n",
       "      <td>Cozy Entire Floor of Brownstone</td>\n",
       "      <td>4869</td>\n",
       "      <td>LisaRoxanne</td>\n",
       "      <td>Brooklyn</td>\n",
       "      <td>Clinton Hill</td>\n",
       "      <td>40.68514</td>\n",
       "      <td>-73.95976</td>\n",
       "      <td>Entire home/apt</td>\n",
       "      <td>89</td>\n",
       "      <td>1</td>\n",
       "      <td>270</td>\n",
       "      <td>2019-07-05</td>\n",
       "      <td>4.64</td>\n",
       "      <td>1</td>\n",
       "      <td>194</td>\n",
       "    </tr>\n",
       "    <tr>\n",
       "      <th>5022</th>\n",
       "      <td>Entire Apt: Spacious Studio/Loft by central park</td>\n",
       "      <td>7192</td>\n",
       "      <td>Laura</td>\n",
       "      <td>Manhattan</td>\n",
       "      <td>East Harlem</td>\n",
       "      <td>40.79851</td>\n",
       "      <td>-73.94399</td>\n",
       "      <td>Entire home/apt</td>\n",
       "      <td>80</td>\n",
       "      <td>10</td>\n",
       "      <td>9</td>\n",
       "      <td>2018-11-19</td>\n",
       "      <td>0.10</td>\n",
       "      <td>1</td>\n",
       "      <td>0</td>\n",
       "    </tr>\n",
       "  </tbody>\n",
       "</table>\n",
       "</div>"
      ],
      "text/plain": [
       "                                                  name  host_id    host_name  \\\n",
       "id                                                                             \n",
       "2539                Clean & quiet apt home by the park     2787         John   \n",
       "2595                             Skylit Midtown Castle     2845     Jennifer   \n",
       "3647               THE VILLAGE OF HARLEM....NEW YORK !     4632    Elisabeth   \n",
       "3831                   Cozy Entire Floor of Brownstone     4869  LisaRoxanne   \n",
       "5022  Entire Apt: Spacious Studio/Loft by central park     7192        Laura   \n",
       "\n",
       "     neighbourhood_group neighbourhood  latitude  longitude        room_type  \\\n",
       "id                                                                             \n",
       "2539            Brooklyn    Kensington  40.64749  -73.97237     Private room   \n",
       "2595           Manhattan       Midtown  40.75362  -73.98377  Entire home/apt   \n",
       "3647           Manhattan        Harlem  40.80902  -73.94190     Private room   \n",
       "3831            Brooklyn  Clinton Hill  40.68514  -73.95976  Entire home/apt   \n",
       "5022           Manhattan   East Harlem  40.79851  -73.94399  Entire home/apt   \n",
       "\n",
       "      price  minimum_nights  number_of_reviews last_review  reviews_per_month  \\\n",
       "id                                                                              \n",
       "2539    149               1                  9  2018-10-19               0.21   \n",
       "2595    225               1                 45  2019-05-21               0.38   \n",
       "3647    150               3                  0         NaN                NaN   \n",
       "3831     89               1                270  2019-07-05               4.64   \n",
       "5022     80              10                  9  2018-11-19               0.10   \n",
       "\n",
       "      calculated_host_listings_count  availability_365  \n",
       "id                                                      \n",
       "2539                               6               365  \n",
       "2595                               2               355  \n",
       "3647                               1               365  \n",
       "3831                               1               194  \n",
       "5022                               1                 0  "
      ]
     },
     "execution_count": 2,
     "metadata": {},
     "output_type": "execute_result"
    }
   ],
   "source": [
    "# Read NYC airbnb data\n",
    "\n",
    "df = pd.read_csv('AB_NYC_2019.csv', index_col='id')\n",
    "df.head()"
   ]
  },
  {
   "cell_type": "code",
   "execution_count": 3,
   "metadata": {},
   "outputs": [
    {
     "name": "stdout",
     "output_type": "stream",
     "text": [
      "<class 'pandas.core.frame.DataFrame'>\n",
      "Int64Index: 48895 entries, 2539 to 36487245\n",
      "Data columns (total 15 columns):\n",
      " #   Column                          Non-Null Count  Dtype  \n",
      "---  ------                          --------------  -----  \n",
      " 0   name                            48879 non-null  object \n",
      " 1   host_id                         48895 non-null  int64  \n",
      " 2   host_name                       48874 non-null  object \n",
      " 3   neighbourhood_group             48895 non-null  object \n",
      " 4   neighbourhood                   48895 non-null  object \n",
      " 5   latitude                        48895 non-null  float64\n",
      " 6   longitude                       48895 non-null  float64\n",
      " 7   room_type                       48895 non-null  object \n",
      " 8   price                           48895 non-null  int64  \n",
      " 9   minimum_nights                  48895 non-null  int64  \n",
      " 10  number_of_reviews               48895 non-null  int64  \n",
      " 11  last_review                     38843 non-null  object \n",
      " 12  reviews_per_month               38843 non-null  float64\n",
      " 13  calculated_host_listings_count  48895 non-null  int64  \n",
      " 14  availability_365                48895 non-null  int64  \n",
      "dtypes: float64(3), int64(6), object(6)\n",
      "memory usage: 6.0+ MB\n"
     ]
    }
   ],
   "source": [
    "df.info()"
   ]
  },
  {
   "cell_type": "code",
   "execution_count": 4,
   "metadata": {},
   "outputs": [],
   "source": [
    "# Transform geometry\n",
    "\n",
    "def lat_lon_to_point(dataframe, lon_col='longitude', lat_col='latitude'):\n",
    "    \"\"\"Function transform longitude and latitude coordinates into GeoSeries.\n",
    "    \n",
    "    INPUT:\n",
    "    \n",
    "    :param dataframe: DataFrame to be transformed,\n",
    "    :param lon_col: (str) longitude column name, default is 'longitude',\n",
    "    :param lat_col: (str) latitude column name, default is 'latitude'.\n",
    "    \n",
    "    OUTPUT:\n",
    "    \n",
    "    :return: (GeoPandas GeoSeries object)\n",
    "    \"\"\"\n",
    "\n",
    "    geometry = dataframe.apply(lambda x: Point([x[lon_col], x[lat_col]]), axis=1)\n",
    "    geoseries = gpd.GeoSeries(geometry)\n",
    "    geoseries.name = 'geometry'\n",
    "    \n",
    "    return geoseries"
   ]
  },
  {
   "cell_type": "code",
   "execution_count": 5,
   "metadata": {},
   "outputs": [],
   "source": [
    "gdf = df[['neighbourhood_group', 'neighbourhood', 'room_type', 'price', 'minimum_nights', 'number_of_reviews',\n",
    "         'reviews_per_month', 'calculated_host_listings_count']]\n",
    "geometry = lat_lon_to_point(df)\n",
    "gdf = gdf.join(geometry)"
   ]
  },
  {
   "cell_type": "code",
   "execution_count": 6,
   "metadata": {},
   "outputs": [
    {
     "data": {
      "text/html": [
       "<div>\n",
       "<style scoped>\n",
       "    .dataframe tbody tr th:only-of-type {\n",
       "        vertical-align: middle;\n",
       "    }\n",
       "\n",
       "    .dataframe tbody tr th {\n",
       "        vertical-align: top;\n",
       "    }\n",
       "\n",
       "    .dataframe thead th {\n",
       "        text-align: right;\n",
       "    }\n",
       "</style>\n",
       "<table border=\"1\" class=\"dataframe\">\n",
       "  <thead>\n",
       "    <tr style=\"text-align: right;\">\n",
       "      <th></th>\n",
       "      <th>neighbourhood_group</th>\n",
       "      <th>neighbourhood</th>\n",
       "      <th>room_type</th>\n",
       "      <th>price</th>\n",
       "      <th>minimum_nights</th>\n",
       "      <th>number_of_reviews</th>\n",
       "      <th>reviews_per_month</th>\n",
       "      <th>calculated_host_listings_count</th>\n",
       "      <th>geometry</th>\n",
       "    </tr>\n",
       "    <tr>\n",
       "      <th>id</th>\n",
       "      <th></th>\n",
       "      <th></th>\n",
       "      <th></th>\n",
       "      <th></th>\n",
       "      <th></th>\n",
       "      <th></th>\n",
       "      <th></th>\n",
       "      <th></th>\n",
       "      <th></th>\n",
       "    </tr>\n",
       "  </thead>\n",
       "  <tbody>\n",
       "    <tr>\n",
       "      <th>2539</th>\n",
       "      <td>Brooklyn</td>\n",
       "      <td>Kensington</td>\n",
       "      <td>Private room</td>\n",
       "      <td>149</td>\n",
       "      <td>1</td>\n",
       "      <td>9</td>\n",
       "      <td>0.21</td>\n",
       "      <td>6</td>\n",
       "      <td>POINT (-73.97237 40.64749)</td>\n",
       "    </tr>\n",
       "    <tr>\n",
       "      <th>2595</th>\n",
       "      <td>Manhattan</td>\n",
       "      <td>Midtown</td>\n",
       "      <td>Entire home/apt</td>\n",
       "      <td>225</td>\n",
       "      <td>1</td>\n",
       "      <td>45</td>\n",
       "      <td>0.38</td>\n",
       "      <td>2</td>\n",
       "      <td>POINT (-73.98377 40.75362)</td>\n",
       "    </tr>\n",
       "    <tr>\n",
       "      <th>3647</th>\n",
       "      <td>Manhattan</td>\n",
       "      <td>Harlem</td>\n",
       "      <td>Private room</td>\n",
       "      <td>150</td>\n",
       "      <td>3</td>\n",
       "      <td>0</td>\n",
       "      <td>NaN</td>\n",
       "      <td>1</td>\n",
       "      <td>POINT (-73.94190 40.80902)</td>\n",
       "    </tr>\n",
       "    <tr>\n",
       "      <th>3831</th>\n",
       "      <td>Brooklyn</td>\n",
       "      <td>Clinton Hill</td>\n",
       "      <td>Entire home/apt</td>\n",
       "      <td>89</td>\n",
       "      <td>1</td>\n",
       "      <td>270</td>\n",
       "      <td>4.64</td>\n",
       "      <td>1</td>\n",
       "      <td>POINT (-73.95976 40.68514)</td>\n",
       "    </tr>\n",
       "    <tr>\n",
       "      <th>5022</th>\n",
       "      <td>Manhattan</td>\n",
       "      <td>East Harlem</td>\n",
       "      <td>Entire home/apt</td>\n",
       "      <td>80</td>\n",
       "      <td>10</td>\n",
       "      <td>9</td>\n",
       "      <td>0.10</td>\n",
       "      <td>1</td>\n",
       "      <td>POINT (-73.94399 40.79851)</td>\n",
       "    </tr>\n",
       "  </tbody>\n",
       "</table>\n",
       "</div>"
      ],
      "text/plain": [
       "     neighbourhood_group neighbourhood        room_type  price  \\\n",
       "id                                                               \n",
       "2539            Brooklyn    Kensington     Private room    149   \n",
       "2595           Manhattan       Midtown  Entire home/apt    225   \n",
       "3647           Manhattan        Harlem     Private room    150   \n",
       "3831            Brooklyn  Clinton Hill  Entire home/apt     89   \n",
       "5022           Manhattan   East Harlem  Entire home/apt     80   \n",
       "\n",
       "      minimum_nights  number_of_reviews  reviews_per_month  \\\n",
       "id                                                           \n",
       "2539               1                  9               0.21   \n",
       "2595               1                 45               0.38   \n",
       "3647               3                  0                NaN   \n",
       "3831               1                270               4.64   \n",
       "5022              10                  9               0.10   \n",
       "\n",
       "      calculated_host_listings_count                    geometry  \n",
       "id                                                                \n",
       "2539                               6  POINT (-73.97237 40.64749)  \n",
       "2595                               2  POINT (-73.98377 40.75362)  \n",
       "3647                               1  POINT (-73.94190 40.80902)  \n",
       "3831                               1  POINT (-73.95976 40.68514)  \n",
       "5022                               1  POINT (-73.94399 40.79851)  "
      ]
     },
     "execution_count": 6,
     "metadata": {},
     "output_type": "execute_result"
    }
   ],
   "source": [
    "gdf.head()"
   ]
  },
  {
   "cell_type": "code",
   "execution_count": 7,
   "metadata": {},
   "outputs": [
    {
     "name": "stdout",
     "output_type": "stream",
     "text": [
      "<class 'pandas.core.frame.DataFrame'>\n",
      "Int64Index: 48895 entries, 2539 to 36487245\n",
      "Data columns (total 9 columns):\n",
      " #   Column                          Non-Null Count  Dtype   \n",
      "---  ------                          --------------  -----   \n",
      " 0   neighbourhood_group             48895 non-null  object  \n",
      " 1   neighbourhood                   48895 non-null  object  \n",
      " 2   room_type                       48895 non-null  object  \n",
      " 3   price                           48895 non-null  int64   \n",
      " 4   minimum_nights                  48895 non-null  int64   \n",
      " 5   number_of_reviews               48895 non-null  int64   \n",
      " 6   reviews_per_month               38843 non-null  float64 \n",
      " 7   calculated_host_listings_count  48895 non-null  int64   \n",
      " 8   geometry                        48895 non-null  geometry\n",
      "dtypes: float64(1), geometry(1), int64(4), object(3)\n",
      "memory usage: 5.0+ MB\n"
     ]
    }
   ],
   "source": [
    "gdf.info()"
   ]
  },
  {
   "cell_type": "code",
   "execution_count": 8,
   "metadata": {},
   "outputs": [],
   "source": [
    "# Set crs\n",
    "\n",
    "gdf = gpd.GeoDataFrame(gdf)\n",
    "gdf.crs = 'EPSG:4326'"
   ]
  },
  {
   "cell_type": "code",
   "execution_count": 9,
   "metadata": {},
   "outputs": [
    {
     "name": "stdout",
     "output_type": "stream",
     "text": [
      "<class 'geopandas.geodataframe.GeoDataFrame'>\n",
      "Int64Index: 48895 entries, 2539 to 36487245\n",
      "Data columns (total 9 columns):\n",
      " #   Column                          Non-Null Count  Dtype   \n",
      "---  ------                          --------------  -----   \n",
      " 0   neighbourhood_group             48895 non-null  object  \n",
      " 1   neighbourhood                   48895 non-null  object  \n",
      " 2   room_type                       48895 non-null  object  \n",
      " 3   price                           48895 non-null  int64   \n",
      " 4   minimum_nights                  48895 non-null  int64   \n",
      " 5   number_of_reviews               48895 non-null  int64   \n",
      " 6   reviews_per_month               38843 non-null  float64 \n",
      " 7   calculated_host_listings_count  48895 non-null  int64   \n",
      " 8   geometry                        48895 non-null  geometry\n",
      "dtypes: float64(1), geometry(1), int64(4), object(3)\n",
      "memory usage: 5.0+ MB\n"
     ]
    }
   ],
   "source": [
    "gdf.info()"
   ]
  },
  {
   "cell_type": "code",
   "execution_count": 10,
   "metadata": {},
   "outputs": [],
   "source": [
    "# Load all other spatial datasets"
   ]
  },
  {
   "cell_type": "code",
   "execution_count": 11,
   "metadata": {},
   "outputs": [
    {
     "name": "stdout",
     "output_type": "stream",
     "text": [
      "<class 'geopandas.geodataframe.GeoDataFrame'>\n",
      "RangeIndex: 5 entries, 0 to 4\n",
      "Data columns (total 5 columns):\n",
      " #   Column      Non-Null Count  Dtype   \n",
      "---  ------      --------------  -----   \n",
      " 0   BoroCode    5 non-null      int64   \n",
      " 1   BoroName    5 non-null      object  \n",
      " 2   Shape_Leng  5 non-null      float64 \n",
      " 3   Shape_Area  5 non-null      float64 \n",
      " 4   geometry    5 non-null      geometry\n",
      "dtypes: float64(2), geometry(1), int64(1), object(1)\n",
      "memory usage: 328.0+ bytes\n",
      "None\n"
     ]
    },
    {
     "data": {
      "text/plain": [
       "<AxesSubplot:>"
      ]
     },
     "execution_count": 11,
     "metadata": {},
     "output_type": "execute_result"
    },
    {
     "data": {
      "image/png": "[encoded data removed]",
      "text/plain": [
       "<Figure size 432x288 with 1 Axes>"
      ]
     },
     "metadata": {
      "needs_background": "light"
     },
     "output_type": "display_data"
    }
   ],
   "source": [
    "gdf_boroughs = gpd.read_file('nybbwi_20d/nybbwi.shp')\n",
    "print(gdf_boroughs.info())\n",
    "gdf_boroughs.plot()"
   ]
  },
  {
   "cell_type": "code",
   "execution_count": 12,
   "metadata": {},
   "outputs": [
    {
     "name": "stdout",
     "output_type": "stream",
     "text": [
      "<class 'geopandas.geodataframe.GeoDataFrame'>\n",
      "RangeIndex: 9 entries, 0 to 8\n",
      "Data columns (total 4 columns):\n",
      " #   Column      Non-Null Count  Dtype   \n",
      "---  ------      --------------  -----   \n",
      " 0   FireDiv     9 non-null      int64   \n",
      " 1   Shape_Leng  9 non-null      float64 \n",
      " 2   Shape_Area  9 non-null      float64 \n",
      " 3   geometry    9 non-null      geometry\n",
      "dtypes: float64(2), geometry(1), int64(1)\n",
      "memory usage: 416.0 bytes\n",
      "None\n"
     ]
    },
    {
     "data": {
      "text/plain": [
       "<AxesSubplot:>"
      ]
     },
     "execution_count": 12,
     "metadata": {},
     "output_type": "execute_result"
    },
    {
     "data": {
      "image/png": "[encoded data removed]",
      "text/plain": [
       "<Figure size 432x288 with 1 Axes>"
      ]
     },
     "metadata": {
      "needs_background": "light"
     },
     "output_type": "display_data"
    }
   ],
   "source": [
    "gdf_fire_division = gpd.read_file('nyfd_20d/nyfd.shp')\n",
    "print(gdf_fire_division.info())\n",
    "gdf_fire_division.plot()"
   ]
  },
  {
   "cell_type": "code",
   "execution_count": 13,
   "metadata": {},
   "outputs": [
    {
     "name": "stdout",
     "output_type": "stream",
     "text": [
      "<class 'geopandas.geodataframe.GeoDataFrame'>\n",
      "RangeIndex: 77 entries, 0 to 76\n",
      "Data columns (total 4 columns):\n",
      " #   Column      Non-Null Count  Dtype   \n",
      "---  ------      --------------  -----   \n",
      " 0   Precinct    77 non-null     int64   \n",
      " 1   Shape_Leng  77 non-null     float64 \n",
      " 2   Shape_Area  77 non-null     float64 \n",
      " 3   geometry    77 non-null     geometry\n",
      "dtypes: float64(2), geometry(1), int64(1)\n",
      "memory usage: 2.5 KB\n",
      "None\n"
     ]
    },
    {
     "data": {
      "text/plain": [
       "<AxesSubplot:>"
      ]
     },
     "execution_count": 13,
     "metadata": {},
     "output_type": "execute_result"
    },
    {
     "data": {
      "image/png": "[encoded data removed]",
      "text/plain": [
       "<Figure size 432x288 with 1 Axes>"
      ]
     },
     "metadata": {
      "needs_background": "light"
     },
     "output_type": "display_data"
    }
   ],
   "source": [
    "gdf_police_precincts = gpd.read_file('nypp_20d/nypp.shp')\n",
    "print(gdf_police_precincts.info())\n",
    "gdf_police_precincts.plot()"
   ]
  },
  {
   "cell_type": "code",
   "execution_count": 14,
   "metadata": {},
   "outputs": [
    {
     "name": "stdout",
     "output_type": "stream",
     "text": [
      "<class 'geopandas.geodataframe.GeoDataFrame'>\n",
      "RangeIndex: 33 entries, 0 to 32\n",
      "Data columns (total 4 columns):\n",
      " #   Column      Non-Null Count  Dtype   \n",
      "---  ------      --------------  -----   \n",
      " 0   SchoolDist  33 non-null     int64   \n",
      " 1   Shape_Leng  33 non-null     float64 \n",
      " 2   Shape_Area  33 non-null     float64 \n",
      " 3   geometry    33 non-null     geometry\n",
      "dtypes: float64(2), geometry(1), int64(1)\n",
      "memory usage: 1.2 KB\n",
      "None\n"
     ]
    },
    {
     "data": {
      "text/plain": [
       "<AxesSubplot:>"
      ]
     },
     "execution_count": 14,
     "metadata": {},
     "output_type": "execute_result"
    },
    {
     "data": {
      "image/png": "[encoded data removed]",
      "text/plain": [
       "<Figure size 432x288 with 1 Axes>"
      ]
     },
     "metadata": {
      "needs_background": "light"
     },
     "output_type": "display_data"
    }
   ],
   "source": [
    "gdf_school_districts = gpd.read_file('nysd_20d/nysd.shp')\n",
    "print(gdf_school_districts.info())\n",
    "gdf_school_districts.plot()"
   ]
  },
  {
   "cell_type": "code",
   "execution_count": 15,
   "metadata": {},
   "outputs": [
    {
     "name": "stdout",
     "output_type": "stream",
     "text": [
      "<class 'geopandas.geodataframe.GeoDataFrame'>\n",
      "RangeIndex: 30 entries, 0 to 29\n",
      "Data columns (total 6 columns):\n",
      " #   Column      Non-Null Count  Dtype   \n",
      "---  ------      --------------  -----   \n",
      " 0   BoroCode    30 non-null     int64   \n",
      " 1   BoroName    30 non-null     object  \n",
      " 2   HCentDist   30 non-null     int64   \n",
      " 3   Shape_Leng  30 non-null     float64 \n",
      " 4   Shape_Area  30 non-null     float64 \n",
      " 5   geometry    30 non-null     geometry\n",
      "dtypes: float64(2), geometry(1), int64(2), object(1)\n",
      "memory usage: 1.5+ KB\n",
      "None\n"
     ]
    },
    {
     "data": {
      "text/plain": [
       "<AxesSubplot:>"
      ]
     },
     "execution_count": 15,
     "metadata": {},
     "output_type": "execute_result"
    },
    {
     "data": {
      "image/png": "[encoded data removed]",
      "text/plain": [
       "<Figure size 432x288 with 1 Axes>"
      ]
     },
     "metadata": {
      "needs_background": "light"
     },
     "output_type": "display_data"
    }
   ],
   "source": [
    "gdf_health_centers = gpd.read_file('nyhc_20d/nyhc.shp')\n",
    "print(gdf_health_centers.info())\n",
    "gdf_health_centers.plot()"
   ]
  },
  {
   "cell_type": "markdown",
   "metadata": {},
   "source": [
    "> **IMPORTANT** Take a look into each dataset. As you may noticed, area divisions among datasets differs. We are not duplicating any records and each dataset bring new knowledge into a feature space."
   ]
  },
  {
   "cell_type": "code",
   "execution_count": 16,
   "metadata": {},
   "outputs": [
    {
     "data": {
      "text/plain": [
       "True"
      ]
     },
     "execution_count": 16,
     "metadata": {},
     "output_type": "execute_result"
    }
   ],
   "source": [
    "gdf_boroughs.crs == gdf_fire_division.crs == gdf_health_centers.crs == gdf_police_precincts.crs == gdf_school_districts.crs"
   ]
  },
  {
   "cell_type": "markdown",
   "metadata": {},
   "source": [
    "> **IMPORTANT** Polygons have the same crs because they're all downloaded from a single data source. Our point crs is different. We can transform it's crs to fit into polygons' crs or we can transform projection of all polygons into EPSG:4326. This is your decision. Usually we pick projection with smallest possible geometrical distortion for a given area but sometimes it is more convenient to use popular projections (EPSG:4326 is an example). Transformation of vectors is not so painful as transformation of spatial rasters, so it is better to transform vector into a raster projection than otherwise. (Reprojection of rasters distorts their pixel values and you may lost some information; it works similar to Gaussian filters applied to images and blurs scene)."
   ]
  },
  {
   "cell_type": "code",
   "execution_count": 17,
   "metadata": {},
   "outputs": [],
   "source": [
    "# Transform point dataset projection\n",
    "\n",
    "gdf = gdf.to_crs(gdf_boroughs.crs)"
   ]
  },
  {
   "cell_type": "markdown",
   "metadata": {},
   "source": [
    "**SUMMARY OF PREPROCESSING**\n",
    "\n",
    "We have:\n",
    "\n",
    "- Boroughs borders,\n",
    "- Fire divisions range areas,\n",
    "- Health centers range areas,\n",
    "- Police Precints range areas,\n",
    "- School Districts range areas.\n",
    "\n",
    "We can assume that every of those utilities has a profund effect on the price of renting. So we create few features:\n",
    "\n",
    "1. Distance from each point to each borough's centroid.\n",
    "2. Categories of Fire Division, Health Center, Police Precint and School District of the point."
   ]
  },
  {
   "cell_type": "markdown",
   "metadata": {},
   "source": [
    "## Step 2: Distances from each point to each borough's centroid\n",
    "\n",
    "Use ```centroid``` attribute and ```distance``` method of GeoDataFrame objects."
   ]
  },
  {
   "cell_type": "code",
   "execution_count": 18,
   "metadata": {},
   "outputs": [],
   "source": [
    "# Get boroughs centroids\n",
    "\n",
    "gdf_boroughs['centroids'] = gdf_boroughs.centroid"
   ]
  },
  {
   "cell_type": "code",
   "execution_count": 19,
   "metadata": {},
   "outputs": [],
   "source": [
    "# Create new columns\n",
    "\n",
    "cent = 'cent_'\n",
    "\n",
    "for idx, row in gdf_boroughs.iterrows():\n",
    "    cent_name = cent + row['BoroName']\n",
    "    gdf[cent_name] = gdf['geometry'].distance(row['centroids'])"
   ]
  },
  {
   "cell_type": "code",
   "execution_count": 20,
   "metadata": {},
   "outputs": [
    {
     "data": {
      "text/html": [
       "<div>\n",
       "<style scoped>\n",
       "    .dataframe tbody tr th:only-of-type {\n",
       "        vertical-align: middle;\n",
       "    }\n",
       "\n",
       "    .dataframe tbody tr th {\n",
       "        vertical-align: top;\n",
       "    }\n",
       "\n",
       "    .dataframe thead th {\n",
       "        text-align: right;\n",
       "    }\n",
       "</style>\n",
       "<table border=\"1\" class=\"dataframe\">\n",
       "  <thead>\n",
       "    <tr style=\"text-align: right;\">\n",
       "      <th></th>\n",
       "      <th>neighbourhood_group</th>\n",
       "      <th>neighbourhood</th>\n",
       "      <th>room_type</th>\n",
       "      <th>price</th>\n",
       "      <th>minimum_nights</th>\n",
       "      <th>number_of_reviews</th>\n",
       "      <th>reviews_per_month</th>\n",
       "      <th>calculated_host_listings_count</th>\n",
       "      <th>geometry</th>\n",
       "      <th>cent_Manhattan</th>\n",
       "      <th>cent_Bronx</th>\n",
       "      <th>cent_Brooklyn</th>\n",
       "      <th>cent_Queens</th>\n",
       "      <th>cent_Staten Island</th>\n",
       "    </tr>\n",
       "    <tr>\n",
       "      <th>id</th>\n",
       "      <th></th>\n",
       "      <th></th>\n",
       "      <th></th>\n",
       "      <th></th>\n",
       "      <th></th>\n",
       "      <th></th>\n",
       "      <th></th>\n",
       "      <th></th>\n",
       "      <th></th>\n",
       "      <th></th>\n",
       "      <th></th>\n",
       "      <th></th>\n",
       "      <th></th>\n",
       "      <th></th>\n",
       "    </tr>\n",
       "  </thead>\n",
       "  <tbody>\n",
       "    <tr>\n",
       "      <th>2539</th>\n",
       "      <td>Brooklyn</td>\n",
       "      <td>Kensington</td>\n",
       "      <td>Private room</td>\n",
       "      <td>149</td>\n",
       "      <td>1</td>\n",
       "      <td>9</td>\n",
       "      <td>0.21</td>\n",
       "      <td>6</td>\n",
       "      <td>POINT (991917.306 175175.801)</td>\n",
       "      <td>46182.769343</td>\n",
       "      <td>80563.504775</td>\n",
       "      <td>7807.517142</td>\n",
       "      <td>42786.797159</td>\n",
       "      <td>55674.183036</td>\n",
       "    </tr>\n",
       "    <tr>\n",
       "      <th>2595</th>\n",
       "      <td>Manhattan</td>\n",
       "      <td>Midtown</td>\n",
       "      <td>Entire home/apt</td>\n",
       "      <td>225</td>\n",
       "      <td>1</td>\n",
       "      <td>45</td>\n",
       "      <td>0.38</td>\n",
       "      <td>2</td>\n",
       "      <td>POINT (988746.581 213841.392)</td>\n",
       "      <td>8432.312799</td>\n",
       "      <td>50190.620449</td>\n",
       "      <td>44336.899043</td>\n",
       "      <td>48413.994684</td>\n",
       "      <td>80871.576220</td>\n",
       "    </tr>\n",
       "    <tr>\n",
       "      <th>3647</th>\n",
       "      <td>Manhattan</td>\n",
       "      <td>Harlem</td>\n",
       "      <td>Private room</td>\n",
       "      <td>150</td>\n",
       "      <td>3</td>\n",
       "      <td>0</td>\n",
       "      <td>NaN</td>\n",
       "      <td>1</td>\n",
       "      <td>POINT (1000333.625 234030.386)</td>\n",
       "      <td>14861.711823</td>\n",
       "      <td>28577.640028</td>\n",
       "      <td>63545.862436</td>\n",
       "      <td>52966.580368</td>\n",
       "      <td>104116.699204</td>\n",
       "    </tr>\n",
       "    <tr>\n",
       "      <th>3831</th>\n",
       "      <td>Brooklyn</td>\n",
       "      <td>Clinton Hill</td>\n",
       "      <td>Entire home/apt</td>\n",
       "      <td>89</td>\n",
       "      <td>1</td>\n",
       "      <td>270</td>\n",
       "      <td>4.64</td>\n",
       "      <td>1</td>\n",
       "      <td>POINT (995410.253 188894.145)</td>\n",
       "      <td>32583.201814</td>\n",
       "      <td>66660.239092</td>\n",
       "      <td>18581.696468</td>\n",
       "      <td>36235.081058</td>\n",
       "      <td>66528.530090</td>\n",
       "    </tr>\n",
       "    <tr>\n",
       "      <th>5022</th>\n",
       "      <td>Manhattan</td>\n",
       "      <td>East Harlem</td>\n",
       "      <td>Entire home/apt</td>\n",
       "      <td>80</td>\n",
       "      <td>10</td>\n",
       "      <td>9</td>\n",
       "      <td>0.10</td>\n",
       "      <td>1</td>\n",
       "      <td>POINT (999757.504 230200.853)</td>\n",
       "      <td>11394.696463</td>\n",
       "      <td>31181.127174</td>\n",
       "      <td>59700.711073</td>\n",
       "      <td>50287.338986</td>\n",
       "      <td>100590.416810</td>\n",
       "    </tr>\n",
       "  </tbody>\n",
       "</table>\n",
       "</div>"
      ],
      "text/plain": [
       "     neighbourhood_group neighbourhood        room_type  price  \\\n",
       "id                                                               \n",
       "2539            Brooklyn    Kensington     Private room    149   \n",
       "2595           Manhattan       Midtown  Entire home/apt    225   \n",
       "3647           Manhattan        Harlem     Private room    150   \n",
       "3831            Brooklyn  Clinton Hill  Entire home/apt     89   \n",
       "5022           Manhattan   East Harlem  Entire home/apt     80   \n",
       "\n",
       "      minimum_nights  number_of_reviews  reviews_per_month  \\\n",
       "id                                                           \n",
       "2539               1                  9               0.21   \n",
       "2595               1                 45               0.38   \n",
       "3647               3                  0                NaN   \n",
       "3831               1                270               4.64   \n",
       "5022              10                  9               0.10   \n",
       "\n",
       "      calculated_host_listings_count                        geometry  \\\n",
       "id                                                                     \n",
       "2539                               6   POINT (991917.306 175175.801)   \n",
       "2595                               2   POINT (988746.581 213841.392)   \n",
       "3647                               1  POINT (1000333.625 234030.386)   \n",
       "3831                               1   POINT (995410.253 188894.145)   \n",
       "5022                               1   POINT (999757.504 230200.853)   \n",
       "\n",
       "      cent_Manhattan    cent_Bronx  cent_Brooklyn   cent_Queens  \\\n",
       "id                                                                \n",
       "2539    46182.769343  80563.504775    7807.517142  42786.797159   \n",
       "2595     8432.312799  50190.620449   44336.899043  48413.994684   \n",
       "3647    14861.711823  28577.640028   63545.862436  52966.580368   \n",
       "3831    32583.201814  66660.239092   18581.696468  36235.081058   \n",
       "5022    11394.696463  31181.127174   59700.711073  50287.338986   \n",
       "\n",
       "      cent_Staten Island  \n",
       "id                        \n",
       "2539        55674.183036  \n",
       "2595        80871.576220  \n",
       "3647       104116.699204  \n",
       "3831        66528.530090  \n",
       "5022       100590.416810  "
      ]
     },
     "execution_count": 20,
     "metadata": {},
     "output_type": "execute_result"
    }
   ],
   "source": [
    "gdf.head()"
   ]
  },
  {
   "cell_type": "markdown",
   "metadata": {},
   "source": [
    "## Step 3: Create: school district id, fire division id, police precint id and health center id columns\n",
    "\n",
    "How? Just join every external dataframe to points GeoDataFrame. Check if points is ```within``` area."
   ]
  },
  {
   "cell_type": "code",
   "execution_count": 21,
   "metadata": {},
   "outputs": [],
   "source": [
    "# Add fire divisions\n",
    "\n",
    "gdf2 = gpd.sjoin(gdf, gdf_fire_division[['geometry', 'FireDiv']], how='left', op='within')\n",
    "gdf2.drop('index_right', axis=1, inplace=True)"
   ]
  },
  {
   "cell_type": "code",
   "execution_count": 22,
   "metadata": {},
   "outputs": [
    {
     "data": {
      "text/html": [
       "<div>\n",
       "<style scoped>\n",
       "    .dataframe tbody tr th:only-of-type {\n",
       "        vertical-align: middle;\n",
       "    }\n",
       "\n",
       "    .dataframe tbody tr th {\n",
       "        vertical-align: top;\n",
       "    }\n",
       "\n",
       "    .dataframe thead th {\n",
       "        text-align: right;\n",
       "    }\n",
       "</style>\n",
       "<table border=\"1\" class=\"dataframe\">\n",
       "  <thead>\n",
       "    <tr style=\"text-align: right;\">\n",
       "      <th></th>\n",
       "      <th>neighbourhood_group</th>\n",
       "      <th>neighbourhood</th>\n",
       "      <th>room_type</th>\n",
       "      <th>price</th>\n",
       "      <th>minimum_nights</th>\n",
       "      <th>number_of_reviews</th>\n",
       "      <th>reviews_per_month</th>\n",
       "      <th>calculated_host_listings_count</th>\n",
       "      <th>geometry</th>\n",
       "      <th>cent_Manhattan</th>\n",
       "      <th>cent_Bronx</th>\n",
       "      <th>cent_Brooklyn</th>\n",
       "      <th>cent_Queens</th>\n",
       "      <th>cent_Staten Island</th>\n",
       "      <th>FireDiv</th>\n",
       "    </tr>\n",
       "    <tr>\n",
       "      <th>id</th>\n",
       "      <th></th>\n",
       "      <th></th>\n",
       "      <th></th>\n",
       "      <th></th>\n",
       "      <th></th>\n",
       "      <th></th>\n",
       "      <th></th>\n",
       "      <th></th>\n",
       "      <th></th>\n",
       "      <th></th>\n",
       "      <th></th>\n",
       "      <th></th>\n",
       "      <th></th>\n",
       "      <th></th>\n",
       "      <th></th>\n",
       "    </tr>\n",
       "  </thead>\n",
       "  <tbody>\n",
       "    <tr>\n",
       "      <th>2539</th>\n",
       "      <td>Brooklyn</td>\n",
       "      <td>Kensington</td>\n",
       "      <td>Private room</td>\n",
       "      <td>149</td>\n",
       "      <td>1</td>\n",
       "      <td>9</td>\n",
       "      <td>0.21</td>\n",
       "      <td>6</td>\n",
       "      <td>POINT (991917.306 175175.801)</td>\n",
       "      <td>46182.769343</td>\n",
       "      <td>80563.504775</td>\n",
       "      <td>7807.517142</td>\n",
       "      <td>42786.797159</td>\n",
       "      <td>55674.183036</td>\n",
       "      <td>11.0</td>\n",
       "    </tr>\n",
       "    <tr>\n",
       "      <th>2595</th>\n",
       "      <td>Manhattan</td>\n",
       "      <td>Midtown</td>\n",
       "      <td>Entire home/apt</td>\n",
       "      <td>225</td>\n",
       "      <td>1</td>\n",
       "      <td>45</td>\n",
       "      <td>0.38</td>\n",
       "      <td>2</td>\n",
       "      <td>POINT (988746.581 213841.392)</td>\n",
       "      <td>8432.312799</td>\n",
       "      <td>50190.620449</td>\n",
       "      <td>44336.899043</td>\n",
       "      <td>48413.994684</td>\n",
       "      <td>80871.576220</td>\n",
       "      <td>3.0</td>\n",
       "    </tr>\n",
       "    <tr>\n",
       "      <th>3647</th>\n",
       "      <td>Manhattan</td>\n",
       "      <td>Harlem</td>\n",
       "      <td>Private room</td>\n",
       "      <td>150</td>\n",
       "      <td>3</td>\n",
       "      <td>0</td>\n",
       "      <td>NaN</td>\n",
       "      <td>1</td>\n",
       "      <td>POINT (1000333.625 234030.386)</td>\n",
       "      <td>14861.711823</td>\n",
       "      <td>28577.640028</td>\n",
       "      <td>63545.862436</td>\n",
       "      <td>52966.580368</td>\n",
       "      <td>104116.699204</td>\n",
       "      <td>6.0</td>\n",
       "    </tr>\n",
       "    <tr>\n",
       "      <th>3831</th>\n",
       "      <td>Brooklyn</td>\n",
       "      <td>Clinton Hill</td>\n",
       "      <td>Entire home/apt</td>\n",
       "      <td>89</td>\n",
       "      <td>1</td>\n",
       "      <td>270</td>\n",
       "      <td>4.64</td>\n",
       "      <td>1</td>\n",
       "      <td>POINT (995410.253 188894.145)</td>\n",
       "      <td>32583.201814</td>\n",
       "      <td>66660.239092</td>\n",
       "      <td>18581.696468</td>\n",
       "      <td>36235.081058</td>\n",
       "      <td>66528.530090</td>\n",
       "      <td>11.0</td>\n",
       "    </tr>\n",
       "    <tr>\n",
       "      <th>5022</th>\n",
       "      <td>Manhattan</td>\n",
       "      <td>East Harlem</td>\n",
       "      <td>Entire home/apt</td>\n",
       "      <td>80</td>\n",
       "      <td>10</td>\n",
       "      <td>9</td>\n",
       "      <td>0.10</td>\n",
       "      <td>1</td>\n",
       "      <td>POINT (999757.504 230200.853)</td>\n",
       "      <td>11394.696463</td>\n",
       "      <td>31181.127174</td>\n",
       "      <td>59700.711073</td>\n",
       "      <td>50287.338986</td>\n",
       "      <td>100590.416810</td>\n",
       "      <td>3.0</td>\n",
       "    </tr>\n",
       "  </tbody>\n",
       "</table>\n",
       "</div>"
      ],
      "text/plain": [
       "     neighbourhood_group neighbourhood        room_type  price  \\\n",
       "id                                                               \n",
       "2539            Brooklyn    Kensington     Private room    149   \n",
       "2595           Manhattan       Midtown  Entire home/apt    225   \n",
       "3647           Manhattan        Harlem     Private room    150   \n",
       "3831            Brooklyn  Clinton Hill  Entire home/apt     89   \n",
       "5022           Manhattan   East Harlem  Entire home/apt     80   \n",
       "\n",
       "      minimum_nights  number_of_reviews  reviews_per_month  \\\n",
       "id                                                           \n",
       "2539               1                  9               0.21   \n",
       "2595               1                 45               0.38   \n",
       "3647               3                  0                NaN   \n",
       "3831               1                270               4.64   \n",
       "5022              10                  9               0.10   \n",
       "\n",
       "      calculated_host_listings_count                        geometry  \\\n",
       "id                                                                     \n",
       "2539                               6   POINT (991917.306 175175.801)   \n",
       "2595                               2   POINT (988746.581 213841.392)   \n",
       "3647                               1  POINT (1000333.625 234030.386)   \n",
       "3831                               1   POINT (995410.253 188894.145)   \n",
       "5022                               1   POINT (999757.504 230200.853)   \n",
       "\n",
       "      cent_Manhattan    cent_Bronx  cent_Brooklyn   cent_Queens  \\\n",
       "id                                                                \n",
       "2539    46182.769343  80563.504775    7807.517142  42786.797159   \n",
       "2595     8432.312799  50190.620449   44336.899043  48413.994684   \n",
       "3647    14861.711823  28577.640028   63545.862436  52966.580368   \n",
       "3831    32583.201814  66660.239092   18581.696468  36235.081058   \n",
       "5022    11394.696463  31181.127174   59700.711073  50287.338986   \n",
       "\n",
       "      cent_Staten Island  FireDiv  \n",
       "id                                 \n",
       "2539        55674.183036     11.0  \n",
       "2595        80871.576220      3.0  \n",
       "3647       104116.699204      6.0  \n",
       "3831        66528.530090     11.0  \n",
       "5022       100590.416810      3.0  "
      ]
     },
     "execution_count": 22,
     "metadata": {},
     "output_type": "execute_result"
    }
   ],
   "source": [
    "gdf2.head()"
   ]
  },
  {
   "cell_type": "code",
   "execution_count": 23,
   "metadata": {},
   "outputs": [],
   "source": [
    "# Add Health Centers\n",
    "\n",
    "gdf2 = gpd.sjoin(gdf2, gdf_health_centers[['geometry', 'HCentDist']], how='left', op='within')\n",
    "gdf2.drop('index_right', axis=1, inplace=True)"
   ]
  },
  {
   "cell_type": "code",
   "execution_count": 24,
   "metadata": {},
   "outputs": [],
   "source": [
    "# Add Police Precints\n",
    "\n",
    "gdf2 = gpd.sjoin(gdf2, gdf_police_precincts[['geometry', 'Precinct']], how='left', op='within')\n",
    "gdf2.drop('index_right', axis=1, inplace=True)"
   ]
  },
  {
   "cell_type": "code",
   "execution_count": 25,
   "metadata": {},
   "outputs": [],
   "source": [
    "# Add School Districts\n",
    "\n",
    "gdf2 = gpd.sjoin(gdf2, gdf_school_districts[['geometry', 'SchoolDist']], how='left', op='within')\n",
    "gdf2.drop('index_right', axis=1, inplace=True)"
   ]
  },
  {
   "cell_type": "markdown",
   "metadata": {},
   "source": [
    "## Step 4: Check distribution of categorical features vs price"
   ]
  },
  {
   "cell_type": "code",
   "execution_count": 26,
   "metadata": {},
   "outputs": [
    {
     "name": "stdout",
     "output_type": "stream",
     "text": [
      "<class 'geopandas.geodataframe.GeoDataFrame'>\n",
      "Int64Index: 48895 entries, 2539 to 36487245\n",
      "Data columns (total 18 columns):\n",
      " #   Column                          Non-Null Count  Dtype   \n",
      "---  ------                          --------------  -----   \n",
      " 0   neighbourhood_group             48895 non-null  object  \n",
      " 1   neighbourhood                   48895 non-null  object  \n",
      " 2   room_type                       48895 non-null  object  \n",
      " 3   price                           48895 non-null  int64   \n",
      " 4   minimum_nights                  48895 non-null  int64   \n",
      " 5   number_of_reviews               48895 non-null  int64   \n",
      " 6   reviews_per_month               38843 non-null  float64 \n",
      " 7   calculated_host_listings_count  48895 non-null  int64   \n",
      " 8   geometry                        48895 non-null  geometry\n",
      " 9   cent_Manhattan                  48895 non-null  float64 \n",
      " 10  cent_Bronx                      48895 non-null  float64 \n",
      " 11  cent_Brooklyn                   48895 non-null  float64 \n",
      " 12  cent_Queens                     48895 non-null  float64 \n",
      " 13  cent_Staten Island              48895 non-null  float64 \n",
      " 14  FireDiv                         48881 non-null  float64 \n",
      " 15  HCentDist                       48883 non-null  float64 \n",
      " 16  Precinct                        48883 non-null  float64 \n",
      " 17  SchoolDist                      48883 non-null  float64 \n",
      "dtypes: float64(10), geometry(1), int64(4), object(3)\n",
      "memory usage: 7.1+ MB\n"
     ]
    }
   ],
   "source": [
    "# First check columns dtypes\n",
    "\n",
    "gdf2.info()"
   ]
  },
  {
   "cell_type": "code",
   "execution_count": 27,
   "metadata": {},
   "outputs": [
    {
     "data": {
      "text/plain": [
       "Index(['neighbourhood_group', 'neighbourhood', 'room_type', 'price',\n",
       "       'minimum_nights', 'number_of_reviews', 'reviews_per_month',\n",
       "       'calculated_host_listings_count', 'geometry', 'cent_Manhattan',\n",
       "       'cent_Bronx', 'cent_Brooklyn', 'cent_Queens', 'cent_Staten Island',\n",
       "       'FireDiv', 'HCentDist', 'Precinct', 'SchoolDist'],\n",
       "      dtype='object')"
      ]
     },
     "execution_count": 27,
     "metadata": {},
     "output_type": "execute_result"
    }
   ],
   "source": [
    "gdf2.columns"
   ]
  },
  {
   "cell_type": "code",
   "execution_count": 28,
   "metadata": {},
   "outputs": [],
   "source": [
    "# Change ['FireDiv', 'HCentDist', 'Precinct', 'SchoolDist'] columns to categorical type\n",
    "\n",
    "categorical_columns = ['FireDiv', 'HCentDist', 'Precinct', 'SchoolDist']\n",
    "\n",
    "for col in categorical_columns:\n",
    "    gdf2[col] = gdf2[col].astype('category', copy=False)"
   ]
  },
  {
   "cell_type": "code",
   "execution_count": 29,
   "metadata": {},
   "outputs": [
    {
     "name": "stdout",
     "output_type": "stream",
     "text": [
      "<class 'geopandas.geodataframe.GeoDataFrame'>\n",
      "Int64Index: 48895 entries, 2539 to 36487245\n",
      "Data columns (total 18 columns):\n",
      " #   Column                          Non-Null Count  Dtype   \n",
      "---  ------                          --------------  -----   \n",
      " 0   neighbourhood_group             48895 non-null  object  \n",
      " 1   neighbourhood                   48895 non-null  object  \n",
      " 2   room_type                       48895 non-null  object  \n",
      " 3   price                           48895 non-null  int64   \n",
      " 4   minimum_nights                  48895 non-null  int64   \n",
      " 5   number_of_reviews               48895 non-null  int64   \n",
      " 6   reviews_per_month               38843 non-null  float64 \n",
      " 7   calculated_host_listings_count  48895 non-null  int64   \n",
      " 8   geometry                        48895 non-null  geometry\n",
      " 9   cent_Manhattan                  48895 non-null  float64 \n",
      " 10  cent_Bronx                      48895 non-null  float64 \n",
      " 11  cent_Brooklyn                   48895 non-null  float64 \n",
      " 12  cent_Queens                     48895 non-null  float64 \n",
      " 13  cent_Staten Island              48895 non-null  float64 \n",
      " 14  FireDiv                         48881 non-null  category\n",
      " 15  HCentDist                       48883 non-null  category\n",
      " 16  Precinct                        48883 non-null  category\n",
      " 17  SchoolDist                      48883 non-null  category\n",
      "dtypes: category(4), float64(6), geometry(1), int64(4), object(3)\n",
      "memory usage: 5.8+ MB\n"
     ]
    }
   ],
   "source": [
    "gdf2.info()"
   ]
  },
  {
   "cell_type": "code",
   "execution_count": 30,
   "metadata": {},
   "outputs": [],
   "source": [
    "# Import seaborn and plot boxplots for each spatial category\n",
    "\n",
    "import seaborn as sns"
   ]
  },
  {
   "cell_type": "code",
   "execution_count": 31,
   "metadata": {},
   "outputs": [],
   "source": [
    "# Show categorical"
   ]
  },
  {
   "cell_type": "code",
   "execution_count": 32,
   "metadata": {
    "scrolled": false
   },
   "outputs": [
    {
     "data": {
      "image/png": "[encoded data removed]",
      "text/plain": [
       "<Figure size 432x720 with 1 Axes>"
      ]
     },
     "metadata": {
      "needs_background": "light"
     },
     "output_type": "display_data"
    },
    {
     "data": {
      "image/png": "[encoded data removed]",
      "text/plain": [
       "<Figure size 432x720 with 1 Axes>"
      ]
     },
     "metadata": {
      "needs_background": "light"
     },
     "output_type": "display_data"
    },
    {
     "data": {
      "image/png": "[encoded data removed]",
      "text/plain": [
       "<Figure size 432x720 with 1 Axes>"
      ]
     },
     "metadata": {
      "needs_background": "light"
     },
     "output_type": "display_data"
    },
    {
     "data": {
      "image/png": "[encoded data removed]",
      "text/plain": [
       "<Figure size 432x720 with 1 Axes>"
      ]
     },
     "metadata": {
      "needs_background": "light"
     },
     "output_type": "display_data"
    }
   ],
   "source": [
    "for cat in categorical_columns:\n",
    "    plt.figure(figsize=(6, 10))\n",
    "    sns.boxplot(y=cat, x='price', data=gdf2, orient='h', showfliers=False)"
   ]
  },
  {
   "cell_type": "markdown",
   "metadata": {},
   "source": [
    "## Step 5: Check linear correlation between numerical variables and price"
   ]
  },
  {
   "cell_type": "code",
   "execution_count": 33,
   "metadata": {},
   "outputs": [
    {
     "data": {
      "text/plain": [
       "price                             1.000000\n",
       "minimum_nights                    0.042799\n",
       "number_of_reviews                -0.047954\n",
       "reviews_per_month                -0.030608\n",
       "calculated_host_listings_count    0.057472\n",
       "cent_Manhattan                   -0.138039\n",
       "cent_Bronx                        0.009832\n",
       "cent_Brooklyn                     0.021219\n",
       "cent_Queens                       0.100943\n",
       "cent_Staten Island               -0.051738\n",
       "dtype: float64"
      ]
     },
     "execution_count": 33,
     "metadata": {},
     "output_type": "execute_result"
    }
   ],
   "source": [
    "# Check corr with numerical\n",
    "\n",
    "gdf2.corrwith(gdf2['price'])"
   ]
  },
  {
   "cell_type": "markdown",
   "metadata": {},
   "source": [
    "## Now your's turn! Good luck!"
   ]
  },
  {
   "cell_type": "markdown",
   "metadata": {},
   "source": [
    "---"
   ]
  }
 ],
 "metadata": {
  "kernelspec": {
   "display_name": "Python 3",
   "language": "python",
   "name": "python3"
  },
  "language_info": {
   "codemirror_mode": {
    "name": "ipython",
    "version": 3
   },
   "file_extension": ".py",
   "mimetype": "text/x-python",
   "name": "python",
   "nbconvert_exporter": "python",
   "pygments_lexer": "ipython3",
   "version": "3.9.1"
  }
 },
 "nbformat": 4,
 "nbformat_minor": 4
}
