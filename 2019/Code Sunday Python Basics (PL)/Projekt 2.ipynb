{
 "cells": [
  {
   "cell_type": "code",
   "execution_count": null,
   "metadata": {},
   "outputs": [],
   "source": [
    "%matplotlib notebook"
   ]
  },
  {
   "cell_type": "markdown",
   "metadata": {},
   "source": [
    "# Python podstawy, część 2: projekt - wczytaj, wyświetl i przekształć obraz\n",
    "\n"
   ]
  },
  {
   "cell_type": "markdown",
   "metadata": {},
   "source": [
    "Drugi projekt dotyczy przetwarzania obrazów (a nie tekstu, tak jak pierwszy). Tym razem musisz przygotować listę plików w folderze znanym z ćwiczenia 2 i wybrać spośród nich plik graficzny, z rozszerzeniem .jpg.\n",
    "\n",
    "Odczytanie pliku graficznego z poziomu programu nie jest takie proste i najpierw musimy utworzyć ku temu specjalne środowisko. Biblioteki, które będziemy używać to opencv (używana do obróbki i analizy obrazów), matplotlib (używana do wyświetlania danych) oraz numpy (operacje matematyczne), pamiętaj również o notebook żeby pracować w notatnikach Jupyter.\n",
    "\n",
    "Z tego względu utworzone zostanie specjalne środowisko conda: image_processing. Moduły pobierane będą z kanału **conda-forge**\n",
    "\n",
    "Po jego utworzeniu i instalacji potrzebnych bibliotek, można przejść do obróbki obrazu."
   ]
  },
  {
   "cell_type": "markdown",
   "metadata": {},
   "source": [
    "## Projekt 2 / Etap 1: import bibliotek i wczytanie obrazu\n",
    "\n",
    "Na początku musisz zaimportować wszystkie potrzebne biblioteki. Tym razem import przebiegać będzie inaczej niż zwykle, ponieważ nie potrzebujemy \"całej\" biblioteki a tylko jej moduł lub pojedyncze funkcje. Bibliotekę opencv zaimportujemy w całości, podobnie numpy (import cv2, import numpy). Różnicą jest biblioteka matplotlib. Nie potrzebujemy jej całej - wystarczy jeden moduł \"pyplot\".\n",
    "\n",
    "Moglibyśmy zawsze pisać ręcznie:\n",
    "\n",
    "matplotlib.pyplot.funkcja_wyswietlajaca_obraz(parametry funkcji)\n",
    "\n",
    "Ale możemy też pisać:\n",
    "\n",
    "plt.funkcja_wyswietlajaca_obraz(parametry funkcji)\n",
    "\n",
    "Oszczędzamy w ten sposób miejsce. Jak matplotlib.pyplot zostaje przekształcone do plt? Odpowiedź tkwi w importowaniu:\n",
    "\n",
    "> import matplotlib.pyplot as plt\n",
    "\n",
    "Co oznacza: zaimportuj moduł pyplot z biblioteki matplotlib i nazwij go \"plt\" (moglibysmy nazwać go jakkolwiek, równie dobrze \"rysuj\", \"xyz\", \"my_module\", ale konwencjonalnie przyjęło się nazywanie go jako \"plt\".\n",
    "\n",
    "* Twoim zadaniem jest import: opencv, numpy i matplotlib.pyplot"
   ]
  },
  {
   "cell_type": "code",
   "execution_count": null,
   "metadata": {},
   "outputs": [],
   "source": []
  },
  {
   "cell_type": "markdown",
   "metadata": {},
   "source": [
    "Następny krok to zadanie znane z poprzedniego: wczytaj listę plików z folderu pliki i ją wyświetl po czym zbuduj ścieżkę do pliku jpg z obrazem. Pamiętaj o imporcie potrzebnej biblioteki."
   ]
  },
  {
   "cell_type": "code",
   "execution_count": null,
   "metadata": {},
   "outputs": [],
   "source": []
  },
  {
   "cell_type": "markdown",
   "metadata": {},
   "source": [
    "Ostatni krok to wczytanie obrazu do pamięci programu. Do tej operacji musisz wykorzystać bibliotekę opencv i jej funkcję **imread(adres_do_pliku_graficznego)**. https://docs.opencv.org/3.0-beta/modules/imgcodecs/doc/reading_and_writing_images.html?highlight=imread#cv2.imread"
   ]
  },
  {
   "cell_type": "code",
   "execution_count": null,
   "metadata": {},
   "outputs": [],
   "source": []
  },
  {
   "cell_type": "markdown",
   "metadata": {},
   "source": [
    "By upewnić się, czy obraz został wczytany poprawnie możemy sprawdzić jego wymiary w pikselach i liczbę kanałów, pisząc: **nazwa_zmiennej_przechowującej_obraz.shape**"
   ]
  },
  {
   "cell_type": "code",
   "execution_count": null,
   "metadata": {},
   "outputs": [],
   "source": []
  },
  {
   "cell_type": "markdown",
   "metadata": {},
   "source": [
    "## Projekt 2 / Etap 2: wyświetlenie obrazu\n",
    "\n",
    "Obraz możemy wyświetlić dwojako. Albo używając **matplotlib.pyplot** jako bazy albo funkcji **imshow** z biblioteki OpenCV. Ze względu na to, że pracujemy w notatniku Jupytera, wykorzystamy funkcje z biblioteki matplotlib.\n",
    "\n",
    "Spróbuj najpierw wyświetlić obraz wykorzystując konstrukcję podaną niżej:"
   ]
  },
  {
   "cell_type": "code",
   "execution_count": null,
   "metadata": {},
   "outputs": [],
   "source": [
    "plt.figure()\n",
    "plt.axis(\"off\")\n",
    "plt.imshow(nazwa_zmiennej_przechowujacej_obraz)\n",
    "plt.show()"
   ]
  },
  {
   "cell_type": "markdown",
   "metadata": {},
   "source": [
    "Nie wszystko jednak się zgadza... Kolory na ilustracji są podmienione, tzn: kanał czerwony jest zamieniony z niebieskim (zielone liście nadal są zielone bo kanał zielony jest \"w środku\"). Bardziej technicznie rzecz ujmując:\n",
    "\n",
    "- OpenCV wczytuje zdjęcia kolorowe jako zbiór kanałów: Niebieski-Zielony-Czerwony (BGR)\n",
    "- Matplotlib wyświetla zdjęcia kolorowe jako zbiór kanałów: Czerwony-Zielony-Niebieski (RGB)\n",
    "\n",
    "Musimy więc zamienić kanały miejscami. Spróbujemy to zrobić ręcznie przez adresowanie! Na początku stwórzmy trzy zmienne dla każdego kanału osobno. Dla przykładu kanał Niebieski (Blue) wyekstrahowany ze zdjęcia:"
   ]
  },
  {
   "cell_type": "code",
   "execution_count": null,
   "metadata": {},
   "outputs": [],
   "source": [
    "blue_img = nazwa_zmiennej_obrazu[:, :, 0]  # Co oznacza - wszystkie piksele wysokości, wszystkie piksele szerokości, kanał 1\n",
    "\n",
    "plt.figure()\n",
    "plt.axis(\"off\")\n",
    "plt.imshow(blue_img, cmap='gray')  # parametr cmap oznacza kolorowanie pikseli. Być może \"Blues\" byłby lepszy?\n",
    "plt.show()"
   ]
  },
  {
   "cell_type": "code",
   "execution_count": null,
   "metadata": {},
   "outputs": [],
   "source": [
    "# Kanał zielony"
   ]
  },
  {
   "cell_type": "code",
   "execution_count": null,
   "metadata": {},
   "outputs": [],
   "source": [
    "# Kanał czerwony"
   ]
  },
  {
   "cell_type": "markdown",
   "metadata": {},
   "source": [
    "Kiedy mamy już trzy kanały, to możemy je zamienić miejscami dzięki operacjom przeprowadzanym w bibliotece numpy. Jak to zrobić? Ustawiamy nowe kanały w liście: [kanał czerowny, kanał zielony, kanał niebieski] i przekształcamy tę listę w macierz numpy, która jest obsługiwana przez matplotlib. Przekształcenie w macierz numpy odbywa się dzięki poleceniu: numpy.dstack([lista kanałów]). Spróbuj to zrobić i wyświetlić wynikowy obraz!"
   ]
  },
  {
   "cell_type": "code",
   "execution_count": null,
   "metadata": {},
   "outputs": [],
   "source": [
    "# Numpy dstack"
   ]
  },
  {
   "cell_type": "code",
   "execution_count": null,
   "metadata": {},
   "outputs": [],
   "source": [
    "# Wyświetlenie RGB"
   ]
  },
  {
   "cell_type": "markdown",
   "metadata": {},
   "source": [
    "## Projekt 2 / Etap 3: zapisanie obrazu\n",
    "\n",
    "Ostatnim zadaniem jest zapisanie obrazu. Tym razem obędzie się bez podpowiedzi, tylko wytyczne:\n",
    "\n",
    "- obraz ma zostać zapisany w folderze pliki, musisz więc przygotować ścieżkę do niego\n",
    "- obraz ma zostac zapisany jako waz.jpg\n",
    "- do zapisu wykorzystaj funkcję imwrite opencv https://docs.opencv.org/3.0-beta/modules/imgcodecs/doc/reading_and_writing_images.html#imwrite"
   ]
  },
  {
   "cell_type": "code",
   "execution_count": null,
   "metadata": {},
   "outputs": [],
   "source": []
  }
 ],
 "metadata": {
  "kernelspec": {
   "display_name": "Python 3",
   "language": "python",
   "name": "python3"
  },
  "language_info": {
   "codemirror_mode": {
    "name": "ipython",
    "version": 3
   },
   "file_extension": ".py",
   "mimetype": "text/x-python",
   "name": "python",
   "nbconvert_exporter": "python",
   "pygments_lexer": "ipython3",
   "version": "3.7.3"
  }
 },
 "nbformat": 4,
 "nbformat_minor": 2
}
