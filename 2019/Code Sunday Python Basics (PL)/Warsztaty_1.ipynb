{
 "cells": [
  {
   "cell_type": "markdown",
   "metadata": {},
   "source": [
    "# Python podstawy, część 1: zmienne\n",
    "\n",
    "Zmienne w Pythonie (i innych językach programowania) to \"pojemniki\", które przechowują wartości danych. Innymi słowy, są to nazwy, które nadajemy informacjom przetwarzanym przez komputer.\n",
    "\n",
    "Zmienna ma swój typ **(int, float, complex, str)** tzn.: za pomocą zmiennych różnych typów opisujemy:\n",
    "* int: liczby całkowite,\n",
    "* float: liczby rzeczywiste,\n",
    "* complex: liczby zespolone,\n",
    "* str: ciągi znaków,\n",
    "* bool: wartości prawda i fałsz (True / False).\n",
    "\n",
    "Python wprowadza zasady odnośnie nazw zmiennych:\n",
    "- zmienna musi zaczynać się od angielskiej litery albo podkreślnika, np.:"
   ]
  },
  {
   "cell_type": "code",
   "execution_count": null,
   "metadata": {},
   "outputs": [],
   "source": [
    "zmienna = 0\n",
    "_zmienna = 0"
   ]
  },
  {
   "cell_type": "markdown",
   "metadata": {},
   "source": [
    "- zmienna nie może zaczynać się od numeru, czyli:"
   ]
  },
  {
   "cell_type": "code",
   "execution_count": null,
   "metadata": {},
   "outputs": [],
   "source": [
    "11_zmienna = 0"
   ]
  },
  {
   "cell_type": "markdown",
   "metadata": {},
   "source": [
    "- zmienna może być stworzona tylko ze znaków alfanumerycznych i podkreślnika,\n",
    "- wielkość znaków MA znaczenie."
   ]
  },
  {
   "cell_type": "code",
   "execution_count": null,
   "metadata": {},
   "outputs": [],
   "source": [
    "Zmienna = 10.09\n",
    "zmieNNA = 10.09\n",
    "\n",
    "print(id(Zmienna), id(zmieNNA))\n",
    "print(id(Zmienna) == id(zmieNNA))"
   ]
  },
  {
   "cell_type": "markdown",
   "metadata": {},
   "source": [
    "ale:"
   ]
  },
  {
   "cell_type": "code",
   "execution_count": null,
   "metadata": {},
   "outputs": [],
   "source": [
    "Zmienna = 10\n",
    "zmieNNA = 10\n",
    "\n",
    "print(id(Zmienna), id(zmieNNA))\n",
    "print(id(Zmienna) == id(zmieNNA))"
   ]
  },
  {
   "cell_type": "markdown",
   "metadata": {},
   "source": [
    "## Ćwiczenie 1: przypisanie wartości do zmiennych\n",
    "\n",
    "Przypisz wartości:\n",
    "- 10,\n",
    "- 0.45,\n",
    "- 7j,\n",
    "- 'tekst'\n",
    "\n",
    "do wybranych zmiennych i sprawdź ich typ - przykład w komórce poniżej."
   ]
  },
  {
   "cell_type": "code",
   "execution_count": null,
   "metadata": {},
   "outputs": [],
   "source": [
    "zmienna = 1\n",
    "type(zmienna)"
   ]
  },
  {
   "cell_type": "code",
   "execution_count": null,
   "metadata": {},
   "outputs": [],
   "source": [
    "# Miejsce na twój kod\n",
    "\n",
    "\n"
   ]
  },
  {
   "cell_type": "markdown",
   "metadata": {},
   "source": [
    "## Ćwiczenie 2: Podstawowe operacje na zmiennych\n",
    "\n",
    "### A) Dodawanie:"
   ]
  },
  {
   "cell_type": "code",
   "execution_count": null,
   "metadata": {},
   "outputs": [],
   "source": [
    "a = 5\n",
    "b = 10\n",
    "c = a + b\n",
    "print(c)"
   ]
  },
  {
   "cell_type": "markdown",
   "metadata": {},
   "source": [
    "### B) Odejmowanie:"
   ]
  },
  {
   "cell_type": "code",
   "execution_count": null,
   "metadata": {},
   "outputs": [],
   "source": [
    "a = 5\n",
    "b = 10\n",
    "c = a - b\n",
    "print(c)"
   ]
  },
  {
   "cell_type": "markdown",
   "metadata": {},
   "source": [
    "### C) Mnożenie:"
   ]
  },
  {
   "cell_type": "code",
   "execution_count": null,
   "metadata": {},
   "outputs": [],
   "source": [
    "a = 5\n",
    "b = 10\n",
    "c = a * b\n",
    "print(c)"
   ]
  },
  {
   "cell_type": "markdown",
   "metadata": {},
   "source": [
    "### D) Dzielenie:"
   ]
  },
  {
   "cell_type": "code",
   "execution_count": null,
   "metadata": {},
   "outputs": [],
   "source": [
    "a = 5\n",
    "b = 10\n",
    "c = a / b\n",
    "print(c)"
   ]
  },
  {
   "cell_type": "markdown",
   "metadata": {},
   "source": [
    "Teraz twoja kolej: przetestuj te wszystkie operacje dla pozostałych typów zmiennych:\n",
    "\n",
    "\n",
    "1) Dodaj dwie zmienne typu float (liczby zmiennoprzecinkowe),\n",
    "\n",
    "2) Odejmij od zmiennej typu int zmienną typu float,\n",
    "\n",
    "3) Pomnóż zmienną typu str ze zmienną typu int (!),\n",
    "\n",
    "4) Dodaj dwie zmienne typu str,\n",
    "\n",
    "5) Dodaj do siebie zmienną bool True i False, jaki jest wynik?"
   ]
  },
  {
   "cell_type": "code",
   "execution_count": null,
   "metadata": {},
   "outputs": [],
   "source": []
  },
  {
   "cell_type": "code",
   "execution_count": null,
   "metadata": {},
   "outputs": [],
   "source": []
  },
  {
   "cell_type": "code",
   "execution_count": null,
   "metadata": {},
   "outputs": [],
   "source": []
  },
  {
   "cell_type": "code",
   "execution_count": null,
   "metadata": {},
   "outputs": [],
   "source": []
  },
  {
   "cell_type": "code",
   "execution_count": null,
   "metadata": {},
   "outputs": [],
   "source": []
  },
  {
   "cell_type": "markdown",
   "metadata": {},
   "source": [
    "## Ćwiczenie 3: Operacje boolowskie na zmiennych\n",
    "\n",
    "Python umożliwia przeprowadzenie wszystkich operacji porównania:\n",
    "- to, czy zmienne są różne: !=\n",
    "- to, czy zmienne są takie same: ==\n",
    "- to, czy jedna zmienna jest większa niż inna: >\n",
    "- to, czy jedna zmienna jest mniejsza niż inna: <\n",
    "- to czy jedna zmienna jest większa lub równa niż inna: >=\n",
    "- to czy jedna zmienna jest mniejsza lub równa niż inna: <=\n",
    "\n",
    "Operacje porównania używane są zwykle do sprawdzania, czy dane którymi operujemy, są zgodne z tym, czego oczekuje się od programu albo służą ustalaniu kolejności wykonywania operacji (co może być ze sobą powiązane).\n",
    "\n",
    "Przećwiczymy różne operacje boolowskie na zmiennych."
   ]
  },
  {
   "cell_type": "markdown",
   "metadata": {},
   "source": [
    "* Sprawdź, czy 1 nie równa się 10\n",
    "* Sprawdź, czy 1 równa się '1'\n",
    "* Sprawdź, czy 'Hello World' równa się 'Hello World'\n",
    "* Sprawdź, czy 10 jest większe lub równe 10.0\n",
    "* Sprawdź, czy 0.99 do potęgi 5 jest większe niż 0.5 (w Pythonie potęguje się przez podwójną gwiazdkę, przykład w komórce poniżej):"
   ]
  },
  {
   "cell_type": "code",
   "execution_count": null,
   "metadata": {},
   "outputs": [],
   "source": []
  },
  {
   "cell_type": "code",
   "execution_count": null,
   "metadata": {},
   "outputs": [],
   "source": []
  },
  {
   "cell_type": "code",
   "execution_count": null,
   "metadata": {},
   "outputs": [],
   "source": []
  },
  {
   "cell_type": "code",
   "execution_count": null,
   "metadata": {},
   "outputs": [],
   "source": []
  },
  {
   "cell_type": "code",
   "execution_count": null,
   "metadata": {},
   "outputs": [],
   "source": []
  },
  {
   "cell_type": "markdown",
   "metadata": {},
   "source": [
    "## Ćwiczenie 4: Operacje na ciągach znaków\n",
    "\n",
    "Praca inżyniera danych jak i programisty często polega na przetwarzaniu ciągów znaków: nazw produktów, imion i nazwisk, loginów i haseł, wpisów na blogach albo artykułów w internetowych wiadomościach. Stąd trzeba przyłożyć dużą wagę do tych zagadnień.\n",
    "\n",
    "Inicjowałeś już zmienne typu string i wiesz, że można je do siebie dodawać. Teraz poznasz kolejne operacje, które mogą być na nich wykonywane.\n",
    "\n",
    "---\n",
    "\n",
    "Przekopiuj ten tekst do jednej zmiennej: 'Python is '\n",
    "\n",
    "A ten do drugiej zmiennej: 'awesome programming language.'\n",
    "\n",
    "A ten do trzeciej zmiennej: 'Java Script too, try it!'\n",
    "\n",
    "---\n",
    "\n",
    "Od teraz będziesz pracować na tych trzech ciągach znaków."
   ]
  },
  {
   "cell_type": "code",
   "execution_count": null,
   "metadata": {},
   "outputs": [],
   "source": []
  },
  {
   "cell_type": "markdown",
   "metadata": {},
   "source": [
    "> Zadanie 1: Dodaj do siebie zmienne phrase_1 i phrase_2 i wyświetl je za pomocą metody print()"
   ]
  },
  {
   "cell_type": "code",
   "execution_count": null,
   "metadata": {},
   "outputs": [],
   "source": []
  },
  {
   "cell_type": "markdown",
   "metadata": {},
   "source": [
    "> Zadanie 2: sprawdź liczbę znaków we frazie. Wykorzystaj metodę len(zmienna_będąca_ciągiem_znaków)"
   ]
  },
  {
   "cell_type": "code",
   "execution_count": null,
   "metadata": {},
   "outputs": [],
   "source": []
  },
  {
   "cell_type": "markdown",
   "metadata": {},
   "source": [
    "> Zadanie 3: Uwórz nową zmienną i dodaj do siebie wszystkie łańcuchy znaków (phrase_1, phrase_2 i phrase_3). Następnie znajdź we frazie pozycję słów 'Java Script'. Użyj do tego metody find() - przykład poniżej."
   ]
  },
  {
   "cell_type": "code",
   "execution_count": null,
   "metadata": {},
   "outputs": [],
   "source": [
    "z = 'To jest przykład wykorzystania metody find'\n",
    "z.find('przykład')"
   ]
  },
  {
   "cell_type": "code",
   "execution_count": null,
   "metadata": {},
   "outputs": [],
   "source": []
  },
  {
   "cell_type": "markdown",
   "metadata": {},
   "source": [
    "> Zadanie 4: Wykorzystaj wiedzę z poprzedniego zadania wraz ze specjalną własnością Pythona odnoszącą się do adresowania znaków w ciągach liter i utwórz nową zmienną, która będzie składać się z tekstu 'Python is awesome programming language, try it!'. Możesz to zrobić na kilka sposobów, ale wykorzystując tylko zmienne phrase_1, phrase_2 i phrase_3, operacje adresowania, metodę find i dodawanie łańcuchów znaków. \n",
    "Kluczem do rozwiązania jest adresowanie znaków. W przykładzie wyżej użyłeś metody find(), która wskazała miejsce, od którego rozpoczyna się dana fraza. Znając to miejsce, (jak i dowolne inne, zawierające się w długości łańcucha znaków), możesz manipulować łańcuchem znaków. Zwróć uwagę na kwadratowe nawiasy i dwukropki wewnątrz nich:"
   ]
  },
  {
   "cell_type": "code",
   "execution_count": null,
   "metadata": {},
   "outputs": [],
   "source": [
    "z = 'To jest przykład wykorzystania metody find'\n",
    "pozycja_przykladu = z.find('przykład')\n",
    "print(z[pozycja_przykladu:])  # przycina zdanie [od 8 znaku : {domyślnie do końca jeśli nie podamy żadnej liczby}]\n",
    "print(z[:pozycja_przykladu])  # przycina zdanie [{domyślnie od początku jeśli nie podamy żadnej liczby}: do 8 znaku]\n",
    "print(z[pozycja_przykladu:pozycja_przykladu+len('przyklad')])  # nieco bardziej zaawansowane wykorzystanie metody"
   ]
  },
  {
   "cell_type": "code",
   "execution_count": null,
   "metadata": {},
   "outputs": [],
   "source": []
  },
  {
   "cell_type": "markdown",
   "metadata": {},
   "source": [
    "> Zadanie 5: zliczanie znaków. Zastosuj metodę count() do zliczenia ile razy w tekście wystąpiła litera 'i'."
   ]
  },
  {
   "cell_type": "code",
   "execution_count": null,
   "metadata": {},
   "outputs": [],
   "source": [
    "# Tekst zaczerpnięty z artykułu Patti Miller - https://www.theguardian.com/books/2019/jul/25/walking-helped-me-discover-the-slow-unfurling-joy-of-reading-books-aloud\n",
    "\n",
    "phrase = 'The next year, walking 270km westwards across the Massif Centrale in France, The Way of the World by Nicolas Bouvier came with us. I remember one evening on a farm, sitting on the front veranda of our cabin, waiting for a rare blue moon to rise as Anthony read of the glorious blue tiles on the Royal Mosque at Isfahan.'"
   ]
  },
  {
   "cell_type": "code",
   "execution_count": null,
   "metadata": {},
   "outputs": [],
   "source": []
  },
  {
   "cell_type": "markdown",
   "metadata": {},
   "source": [
    "> Zadanie 6: Teraz zlicz wszystkie litery, i wielkie, i małe litery 'i' w tekście z poprzedniego zadania. Pomocne mogą się okazać metody lower() albo upper()."
   ]
  },
  {
   "cell_type": "code",
   "execution_count": null,
   "metadata": {},
   "outputs": [],
   "source": []
  },
  {
   "cell_type": "markdown",
   "metadata": {},
   "source": [
    "> Zadanie 7: W każdym łańcuchu znaków możesz usunąć wybrany ciąg znaków i zastąpić go innym znakiem. Bardzo często trzeba zamieniać przecinki na kropki i odwrotnie, jeśli wczytujesz ciągi liczb zapisane w systemie polskim albo anglosaskim. Wykorzystaj metodę replace i zamień wszystkie spacje w ciągu znaków \"10 11 12 13\" na przecinki. Przykład poniżej:"
   ]
  },
  {
   "cell_type": "code",
   "execution_count": null,
   "metadata": {},
   "outputs": [],
   "source": [
    "z = 'to jest przykładowy tekst'\n",
    "z.replace('t', 'p')"
   ]
  },
  {
   "cell_type": "code",
   "execution_count": null,
   "metadata": {},
   "outputs": [],
   "source": []
  }
 ],
 "metadata": {
  "kernelspec": {
   "display_name": "Python 3",
   "language": "python",
   "name": "python3"
  },
  "language_info": {
   "codemirror_mode": {
    "name": "ipython",
    "version": 3
   },
   "file_extension": ".py",
   "mimetype": "text/x-python",
   "name": "python",
   "nbconvert_exporter": "python",
   "pygments_lexer": "ipython3",
   "version": "3.7.3"
  }
 },
 "nbformat": 4,
 "nbformat_minor": 2
}
