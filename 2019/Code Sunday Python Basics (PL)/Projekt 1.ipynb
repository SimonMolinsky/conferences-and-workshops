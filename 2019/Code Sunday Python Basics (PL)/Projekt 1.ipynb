{
 "cells": [
  {
   "cell_type": "code",
   "execution_count": null,
   "metadata": {},
   "outputs": [],
   "source": [
    "import random\n",
    "import string"
   ]
  },
  {
   "cell_type": "markdown",
   "metadata": {},
   "source": [
    "# Python podstawy, część 1: projekt - generator haseł\n",
    "\n",
    "W trakcie pracy z tymi notatnikami będziesz tworzył swój własny generator haseł. Nie martw się jeśli nie rozumiesz składni, wszystko wyjaśni się w kolejnych częściach kursu a ty już teraz zrozumiesz dlaczego używa się czegoś w taki a nie inny sposób. Postaraj się pracować sam z treścią projektu!\n",
    "\n",
    "W ramach 1 projektu stworzysz swój własny generator haseł. Będziemy robić to w etapach (podobnymi etapami projektuje się oprogramowanie, poczynając od prostych funkcji a kończąc na zaawansowanych modułach). W pierwszej części projektu nauczysz się generować losowe znaki \"z klawiatury\". W drugiej części nauczysz się dodać cyfry do tych znaków. W trzeciej części nauczysz się dodawać kolejne znaki do ciągu. W ostatniej części stworzysz program do generowania haseł o odpowiedniej długości."
   ]
  },
  {
   "cell_type": "markdown",
   "metadata": {},
   "source": [
    "## Projekt 1 / Etap 1: generowanie losowych znaków\n",
    "\n",
    "Twoim zadaniem jest **wykorzystanie** metody, która losuje znak alfanumeryczny z alfabetu łacińskiego. To nie jest takie proste, ponieważ trzeba wykorzystać dwie różne metody:\n",
    "\n",
    "- random.choice(zbiór spośród którego losujemy) https://docs.python.org/3/library/random.html\n",
    "- string.ascii_letters https://docs.python.org/3/library/string.html\n",
    "\n",
    "Musisz połączyć obie metody, aby uzyskać swój losowy znak. Przetestuj je. Poniżej przykład wykorzystania łączenia metod, gdzie print to jedna metoda, a random.rand() jest drugą metodą:"
   ]
  },
  {
   "cell_type": "code",
   "execution_count": null,
   "metadata": {},
   "outputs": [],
   "source": [
    "print(random.random())"
   ]
  },
  {
   "cell_type": "code",
   "execution_count": null,
   "metadata": {},
   "outputs": [],
   "source": []
  },
  {
   "cell_type": "markdown",
   "metadata": {},
   "source": [
    "## Projekt 1 / Etap 2: dodanie do zakresu znaków cyfr\n",
    "\n",
    "Twoim zadaniem jest dodanie do ascii_letters cyfr. Metoda, która zawiera ciąg cyfr to:\n",
    "\n",
    "- string.digits https://docs.python.org/3/library/string.html\n",
    "\n",
    "Sprawdź długość całego łańcucha znaków (i litery, i cyfry). Wylosuj znak z tego łańcucha.\n",
    "\n",
    "- długość: metoda len() https://docs.python.org/3/library/functions.html#len\n",
    "- losowanie znaku: random.choice() https://docs.python.org/3/library/random.html"
   ]
  },
  {
   "cell_type": "code",
   "execution_count": null,
   "metadata": {},
   "outputs": [],
   "source": []
  },
  {
   "cell_type": "markdown",
   "metadata": {},
   "source": [
    "## Projekt 1 / Etap 3: zbuduj ciąg losowych znaków\n",
    "\n",
    "Do tego momentu losowano tylko pojedyncze znaki. Spróbuj wylosować 3 znaki i połączyć je w jeden ciąg."
   ]
  },
  {
   "cell_type": "code",
   "execution_count": null,
   "metadata": {},
   "outputs": [],
   "source": []
  },
  {
   "cell_type": "markdown",
   "metadata": {},
   "source": [
    "## Projekt 1 / Etap 4: program generujący hasła\n",
    "\n",
    "Poniżej znajduje się Pythonowy konstrukt, nazywany funkcją. Funkcje opisują pewne procesy, które muszą zostać wykonane, żeby otrzymać dane w odpowiedniej formie. Przykłady funkcji to:\n",
    "\n",
    "print() - funkcja służy do wyświetlania danych\n",
    "len() - funkcja służy do obliczania liczby elementów w zbiorze\n",
    "random.random() - funkcja generuje losową wartość\n",
    "\n",
    "Większa część pracy programisty w Data Science to pisanie albo wykorzystywanie funkcji. Funkcje są pewnym rodzajem \"przepisu\", do którego dostarcza się składniki (o tym w dalszej części warsztatów).\n",
    "\n",
    "Jak być może spostrzegłeś / spostrzegłaś w poprzednim etapie, ręczne wpisywanie raz za razem random.choice() i dodawanie do siebie wyników jest uciążliwe i zajmuje dużo miejsca. Czas to nieco uporządkować!\n",
    "\n",
    "Napiszemy funkcję, która sama generuje hasła o długości zadanej przez użytkownika! Twoim zadaniem jest uzupełnienie \"ciała funkcji\" o odpowiednie zapisy. Na razie nie martw się zrozumieniem tego, co właściwie się dzieje. Na to przyjdzie czas."
   ]
  },
  {
   "cell_type": "code",
   "execution_count": null,
   "metadata": {},
   "outputs": [],
   "source": [
    "def generuj_haslo(liczba_znakow):  # wywołanie funkcji\n",
    "    haslo = ''\n",
    "    for krok in range(0, liczba_znakow): # pętla, która powtarza kroki tyle razy, ile znakow zadalismy\n",
    "        wylosowany_znak =  # losowanie znaku - Twoje zadania\n",
    "        haslo = haslo +  # należy dodać wylosowany znak - Twoje zadanie\n",
    "    return haslo"
   ]
  },
  {
   "cell_type": "code",
   "execution_count": null,
   "metadata": {},
   "outputs": [],
   "source": [
    "generuj_haslo()  # Przetestuj funkcję!"
   ]
  }
 ],
 "metadata": {
  "kernelspec": {
   "display_name": "Python 3",
   "language": "python",
   "name": "python3"
  },
  "language_info": {
   "codemirror_mode": {
    "name": "ipython",
    "version": 3
   },
   "file_extension": ".py",
   "mimetype": "text/x-python",
   "name": "python",
   "nbconvert_exporter": "python",
   "pygments_lexer": "ipython3",
   "version": "3.7.3"
  }
 },
 "nbformat": 4,
 "nbformat_minor": 2
}
