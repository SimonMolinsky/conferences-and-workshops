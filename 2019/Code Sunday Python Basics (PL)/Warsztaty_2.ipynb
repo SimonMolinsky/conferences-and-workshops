{
 "cells": [
  {
   "cell_type": "markdown",
   "metadata": {},
   "source": [
    "# Python podstawy, część 2: operacje wejścia/wyjścia (I/O)\n",
    "\n",
    "Znając podstawowe typy zmiennych Pythona możesz rozpocząć swoją przygodę z programowaniem. Jednakże sensowne tworzenie aplikacji wymaga umiejętności odczytywania i zapisywania danych. Wszystkie obliczenia czy przekształcenia są do niczego jeśli gdzieś nie zachowa się wyników albo infomracji wejściowych. Przykładowo: gdyby MS Word umożliwiał tylko pisanie dokumentów bez możliwości ich zapisywania, wystarczyłaby awaria albo chwila nieuwagi i cała praca poszłaby na marne.\n",
    "\n",
    "W tej części kursu nauczymy się odczytywać pliki jak i je zapisywać. Zaczniemy od plików tekstów, ze względu na to, że są bardzo intuicyjne. Za to w ramach projektu odczytamy i wyświetlimy zdjęcie, żeby pokazać, że Python pozwala na obróbkę nie tylko tekstu ale również obrazów, muzyki, danych binarnych i wielu innych formatów plików.\n",
    "\n",
    "Na początku celem jest określenie, jakie pliki właściwie znajdują się w folderze, który nas interesuje. By to zrobić, należy skorzystać z modułu Pythona. W Projekcie 1 wykorzystywaliśmy dwa moduły _string_ i _random_. Tym razem skorzystamy z modułu _os_ (skrót od operating system).\n",
    "\n",
    "Zaimportuj ten moduł do środowiska pracy."
   ]
  },
  {
   "cell_type": "code",
   "execution_count": null,
   "metadata": {},
   "outputs": [],
   "source": [
    "import os"
   ]
  },
  {
   "cell_type": "markdown",
   "metadata": {},
   "source": [
    "Po imporcie modułu mozemy przystąpić do stworzenia listy plików z folderu \"pliki\" znajdującego się wewnątrz naszego katalogu. \"Lista plików\" to specyficzny typ danych. _Lista_ grupuje elementy jednego typu i tworzona jest za pomocą nawiasów kwadratowych z wartościami oddzielanymi przecinkami. Przykłady list znajdują się poniżej:"
   ]
  },
  {
   "cell_type": "code",
   "execution_count": null,
   "metadata": {},
   "outputs": [],
   "source": [
    "lista_cyfr = [1, 2, 3, 4]\n",
    "lista_ciagow_znakow = ['ciag_1', 'ciag_2', 'ciag_3']\n",
    "lista_list = [[1, 2], [3, 4]]"
   ]
  },
  {
   "cell_type": "markdown",
   "metadata": {},
   "source": [
    "Do elementów w listach możemy się odwoływać tak samo jak do pozycji liter w łańcuchach znaków przez zapis zmiennej z nawiasem kwadratowym z podaną pozycją elementu:"
   ]
  },
  {
   "cell_type": "code",
   "execution_count": null,
   "metadata": {},
   "outputs": [],
   "source": [
    "cyfra_dwa = lista_cyfr[1]\n",
    "print(cyfra_dwa)"
   ]
  },
  {
   "cell_type": "markdown",
   "metadata": {},
   "source": [
    "Listy można też ograniczać, tak samo jak ciągi znaków, przez zapis z nawiasem kwadratowym i dwukropkiem:"
   ]
  },
  {
   "cell_type": "code",
   "execution_count": null,
   "metadata": {},
   "outputs": [],
   "source": [
    "ograniczona_lista = lista_cyfr[1:3]\n",
    "print(ograniczona_lista)"
   ]
  },
  {
   "cell_type": "markdown",
   "metadata": {},
   "source": [
    "Ostatnie zagadnienie związane z listami to ich zagnieżdżanie. Listy mogą przechowywać dowolne obiekty, w tym inne listy. Stąd, by dostać się do cyfry 3 w zmiennej lista_list należy wpisać \"dwupoziomowy\" adres:"
   ]
  },
  {
   "cell_type": "code",
   "execution_count": null,
   "metadata": {},
   "outputs": [],
   "source": [
    "cyfra_trzy = lista_list[1][0]\n",
    "print(cyfra_trzy)"
   ]
  },
  {
   "cell_type": "markdown",
   "metadata": {},
   "source": [
    "Do list wrócimy jeszcze w dalszej części kursu ponieważ są one bardzo przydatnym narzędziem. A teraz wróćmy do naszego zadania, czyli stworzenia listy plików w wybranym folderze. Jak to zrobić? Inicjujemy zmienną, która przechowa naszą listę i wywołujemy metodę os.listdir():"
   ]
  },
  {
   "cell_type": "code",
   "execution_count": null,
   "metadata": {},
   "outputs": [],
   "source": [
    "bazowa_sciezka = ''\n",
    "lista_plikow = os.listdir(bazowa_sciezka)  # Twoim zadaniem jest uzupełnienie wartości w nawiasie: https://docs.python.org/3/library/os.html"
   ]
  },
  {
   "cell_type": "code",
   "execution_count": null,
   "metadata": {},
   "outputs": [],
   "source": [
    "print(lista_plikow)"
   ]
  },
  {
   "cell_type": "markdown",
   "metadata": {},
   "source": [
    "Posiadając listę plików czas na \"otworzenie\" swojego pierwszego pliku. Nas interesuje plik \"pytonki.txt\". By go otworzyć, musisz podać do niego pełną ścieżkę czyli musisz połączyć dwa łańcuchy znaków, przykład takiego połączenia dla naszej listy wygląda następująco:"
   ]
  },
  {
   "cell_type": "code",
   "execution_count": null,
   "metadata": {},
   "outputs": [],
   "source": [
    "adres_do_obrazu = bazowa_sciezka + lista_plikow[2]\n",
    "adres_do_obrazu_2 = os.path.join(bazowa_sciezka, lista_plikow[2])\n",
    "print('To po dodaniu str:\\n', adres_do_obrazu)\n",
    "print('')\n",
    "print('To, po wykorzystaniu os.path.join:\\n', adres_do_obrazu_2)"
   ]
  },
  {
   "cell_type": "markdown",
   "metadata": {},
   "source": [
    "Przygotuj ścieżkę do pliku pytonki.txt"
   ]
  },
  {
   "cell_type": "code",
   "execution_count": null,
   "metadata": {},
   "outputs": [],
   "source": []
  },
  {
   "cell_type": "markdown",
   "metadata": {},
   "source": [
    "Posiadając ścieżkę do interesującego pliku tekstowego możesz przystąpić do jego otworzenia. Służy do tego funkcja open(). Analogicznie, plik po przetwarzaniu należy zawsze zamknąć ze względu na wycieki pamięci i błędy w programie. Służy do tego funkcja close(). Poniżej przykład, który stworzy nowy plik i go zamknie (musisz po tym zaktualizować swoją listę plików jeśli będziesz chciał/a z niej korzystać)."
   ]
  },
  {
   "cell_type": "code",
   "execution_count": null,
   "metadata": {},
   "outputs": [],
   "source": [
    "moj_nowy_plik = 'nowy.txt'\n",
    "adres_nowego_pliku = os.path.join(bazowa_sciezka, moj_nowy_plik)\n",
    "plik = open(adres_nowego_pliku)\n",
    "plik.close()"
   ]
  },
  {
   "cell_type": "markdown",
   "metadata": {},
   "source": [
    "Nie zadziałało! Plik nie istnieje i otrzymaliśmy błąd, w którym napisano wprost: 'No such file or directory' - nie ma takiego pliku ani katalogu. Co w takim wypadku? Tutaj zależy to od kontekstu. Na kursie poznajemy różne funkcje i tak naprawdę musimy sprawdzić, jak tworzyć pliki jeśli one nie istnieją (a jest na to sposób, który zmieni nasz kod tylko nieznacznie). W praktyce jednak może się okazać, że w naszej bazie danych nie ma potrzebnego pliku - na przykład zdjęcia profilowego - i nie możemy zawiesić całej aplikacji gdy go brakuje a zamiast tego np.: wygenerować czarne pole. Python pozwala na przechwytywanie błędów i zmienianie działań aplikacji w takich wypadkach za pomocą konstruktu przedstawionego poniżej. Nie będziemy go stosować na tym kursie, ale wypada go znać."
   ]
  },
  {
   "cell_type": "code",
   "execution_count": null,
   "metadata": {},
   "outputs": [],
   "source": [
    "try:\n",
    "    plik = open(adres_nowego_pliku)\n",
    "except FileNotFoundError:  # Zwróć uwagę na to, że podajemy konkretną nazwę błędu z opisu powyżej.\n",
    "    plik = open(adres_nowego_pliku, 'x')  # Nasza metoda przyjęła parametr \"x\"... który pozwolił na utworzenie pliku\n",
    "    print('Plik utworzony')\n",
    "plik.close()\n",
    "\n",
    "nowa_lista_plikow = os.listdir(bazowa_sciezka)\n",
    "print(nowa_lista_plikow)"
   ]
  },
  {
   "cell_type": "markdown",
   "metadata": {},
   "source": [
    "Popracujemy chwilę na naszym nowym pliku zanim zabierzemy się za pytonki.txt, żeby nie uszkodzić danych. Na początku dodam dwie linie tekstu do pliku nowy.txt:"
   ]
  },
  {
   "cell_type": "code",
   "execution_count": null,
   "metadata": {},
   "outputs": [],
   "source": [
    "plik = open(adres_nowego_pliku, 'a')  # litera 'a' oznacza 'append', czyli do otworzonego pliku dodawane będą nowe linijki tekstu\n",
    "plik.write('Pierwsza linijka tekstu')\n",
    "plik.write('\\n')  # Nowa linia\n",
    "plik.write('Druga linijka tekstu')\n",
    "plik.write('\\n')  # Nowa linia\n",
    "plik.close()"
   ]
  },
  {
   "cell_type": "markdown",
   "metadata": {},
   "source": [
    "Otwórz plik w trybie tylko do odczytu - użyj litery 'r' (read) zamiast 'a' lub 'x' i wyświetl jego zawartość za pomocą polecenia print(plik.read()). Zamknij plik."
   ]
  },
  {
   "cell_type": "code",
   "execution_count": null,
   "metadata": {},
   "outputs": [],
   "source": []
  },
  {
   "cell_type": "markdown",
   "metadata": {},
   "source": [
    "Dodaj trzecią linijkę tekstu do pliku."
   ]
  },
  {
   "cell_type": "code",
   "execution_count": null,
   "metadata": {},
   "outputs": [],
   "source": []
  },
  {
   "cell_type": "markdown",
   "metadata": {},
   "source": [
    "A teraz odczytaj plik z parametrem 'w' (write) zamiast 'r' albo 'a', dodaj linię tekstu 'nowa linia', po czym zamknij plik, otwórz go ponownie i odczytaj jego zawartość"
   ]
  },
  {
   "cell_type": "code",
   "execution_count": null,
   "metadata": {},
   "outputs": [],
   "source": [
    "plik = open(adres_nowego_pliku, 'w')\n",
    "plik.write('nowa linia')\n",
    "plik.close()"
   ]
  },
  {
   "cell_type": "code",
   "execution_count": null,
   "metadata": {},
   "outputs": [],
   "source": [
    "plik = open(adres_nowego_pliku, 'r')\n",
    "print(plik.read())\n",
    "plik.close()"
   ]
  },
  {
   "cell_type": "markdown",
   "metadata": {},
   "source": [
    "Za moment przejdziemy do pliku z gatunkami pytonów, ale czeka nas jeszcze ostatnie zadanie: odczytamy plik za pomocą funkcji, która automatycznie zadba o jego zamknięcie. Nie będzie trzeba pisać za każdym razem plik.close()\n",
    "\n",
    "Jest tu funkcja with (generator), która \"sama\" zamyka plik po zakończeniu pracy. Konstrukcja prezentuje się następująco:"
   ]
  },
  {
   "cell_type": "code",
   "execution_count": null,
   "metadata": {},
   "outputs": [],
   "source": [
    "with open(adres_nowego_pliku, 'a') as plik:\n",
    "    plik.write('\\n')\n",
    "    plik.write('Jeszcze jedna linijka\\n')\n",
    "\n",
    "with open(adres_nowego_pliku, 'r') as plik:\n",
    "    oznaczenie_linii = 'l'\n",
    "    for line in plik.readlines():  # Drukuj linia za linią\n",
    "        print(oznaczenie_linii, line)"
   ]
  },
  {
   "cell_type": "markdown",
   "metadata": {},
   "source": [
    "Używając konstruktu jak powyżej:\n",
    "\n",
    "- otwórz plik pytonki.txt\n",
    "- dodaj na końcu pliku tekst 'tu byłem!'\n",
    "- otwórz plik ponownie\n",
    "- wyświetl wszystkie linie z pliku wraz z ich numerami!"
   ]
  },
  {
   "cell_type": "code",
   "execution_count": null,
   "metadata": {},
   "outputs": [],
   "source": []
  }
 ],
 "metadata": {
  "kernelspec": {
   "display_name": "Python 3",
   "language": "python",
   "name": "python3"
  },
  "language_info": {
   "codemirror_mode": {
    "name": "ipython",
    "version": 3
   },
   "file_extension": ".py",
   "mimetype": "text/x-python",
   "name": "python",
   "nbconvert_exporter": "python",
   "pygments_lexer": "ipython3",
   "version": "3.7.3"
  }
 },
 "nbformat": 4,
 "nbformat_minor": 2
}
