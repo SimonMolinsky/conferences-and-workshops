{
 "cells": [
  {
   "cell_type": "markdown",
   "metadata": {},
   "source": [
    "# Python podstawy, część 3: listy, słowniki, funkcje for i wyrażenia if\n",
    "\n",
    "Ta część kursu jest bardzo upakowana informacjami a co za tym idzie - trudna. Przerobimy bardzo przydatne typy danych, czyli listy i słowniki oraz funkcję znaną z każdego języka programowania: for. Do tego nauczymy się wykorzystywać warunek if... elif... else...\n",
    "\n",
    "Listy widzieliśmy już wcześniej, podobnie jak pętlę for. Dlatego zaczniemy od tych dwóch elementów języka Python. Na początek przypomnienie jak inicjujemy listę:"
   ]
  },
  {
   "cell_type": "code",
   "execution_count": null,
   "metadata": {},
   "outputs": [],
   "source": [
    "przyklad_listy = [1, 2, 3, 4, 5]\n",
    "print(przyklad_listy)"
   ]
  },
  {
   "cell_type": "markdown",
   "metadata": {},
   "source": [
    "Utwórz listę o nazwie **lodowka** składającą się z następujących elementów: sałata, masło, parówki, wino"
   ]
  },
  {
   "cell_type": "code",
   "execution_count": null,
   "metadata": {},
   "outputs": [],
   "source": []
  },
  {
   "cell_type": "markdown",
   "metadata": {},
   "source": [
    "Wybierz jeden z elementów pamiętając o adresowaniu w listach (adresujemy od 0, a nie od 1 jak to się robi zwyczajnie) i wyświetl go za pomocą funkcji print()."
   ]
  },
  {
   "cell_type": "code",
   "execution_count": null,
   "metadata": {},
   "outputs": [],
   "source": []
  },
  {
   "cell_type": "markdown",
   "metadata": {},
   "source": [
    "Wybierz jeden z elementów przy pomocy adresowania i ponownie, przy pomocy adresowania, wybierz pierwsze dwie litery danego słowa i wyświetl je za pomocą funkcji print()."
   ]
  },
  {
   "cell_type": "code",
   "execution_count": null,
   "metadata": {},
   "outputs": [],
   "source": []
  },
  {
   "cell_type": "markdown",
   "metadata": {},
   "source": [
    "Nasza lodowka jest pusta, dodajmy do niej kolejne składniki. Jak dodać elementy do listy? Służy do tego funkcja moja_lista.append(nowy_element) która umieszcza nowy element na końcu listy. Przykład zastosowania znajduje się poniżej:"
   ]
  },
  {
   "cell_type": "code",
   "execution_count": null,
   "metadata": {},
   "outputs": [],
   "source": [
    "przyklad_listy.append(0.0001)\n",
    "print(przyklad_listy)"
   ]
  },
  {
   "cell_type": "code",
   "execution_count": null,
   "metadata": {},
   "outputs": [],
   "source": [
    "przyklad_listy.append('s')"
   ]
  },
  {
   "cell_type": "code",
   "execution_count": null,
   "metadata": {},
   "outputs": [],
   "source": [
    "print(przyklad_listy)"
   ]
  },
  {
   "cell_type": "code",
   "execution_count": null,
   "metadata": {},
   "outputs": [],
   "source": [
    "przyklad_listy.append(print)"
   ]
  },
  {
   "cell_type": "code",
   "execution_count": null,
   "metadata": {},
   "outputs": [],
   "source": [
    "przyklad_listy"
   ]
  },
  {
   "cell_type": "markdown",
   "metadata": {},
   "source": [
    "Teraz twoja kolej! Dodaj swoją ulubioną potrawę do lodówki!"
   ]
  },
  {
   "cell_type": "code",
   "execution_count": null,
   "metadata": {},
   "outputs": [],
   "source": []
  },
  {
   "cell_type": "code",
   "execution_count": null,
   "metadata": {},
   "outputs": [],
   "source": []
  },
  {
   "cell_type": "markdown",
   "metadata": {},
   "source": [
    "Listy można łączyć. Do tego używana jest funkcja moja_lista.extend(inna_lista). Dodaj do swojej lodówki zawartość zamrażalki i wyświetl wynik za pomocą funkcji print()"
   ]
  },
  {
   "cell_type": "code",
   "execution_count": null,
   "metadata": {},
   "outputs": [],
   "source": [
    "zamrazalka = ['lód', 'szpinak', 'kurczak']"
   ]
  },
  {
   "cell_type": "code",
   "execution_count": null,
   "metadata": {},
   "outputs": [],
   "source": []
  },
  {
   "cell_type": "markdown",
   "metadata": {},
   "source": [
    "Usuń z listy parówki. Konkretny element można usunąć na dwa sposoby:\n",
    "\n",
    "- metodą moja_lista.pop(numer_elementu_do_usunięcia), jeśli numer elementu do usunięcia nie jest podany, z listy usuwany jest ostatni element,\n",
    "- metodą moja_lista.remove(nazwa_elementu)\n",
    "\n",
    "Wykorzystaj metodę **remove()** i usuń parówki z lodówki. Następnie wykorzystaj metodę **pop()** i usuń przedostatni element listy adresując go jako **-2**"
   ]
  },
  {
   "cell_type": "code",
   "execution_count": null,
   "metadata": {},
   "outputs": [],
   "source": []
  },
  {
   "cell_type": "markdown",
   "metadata": {},
   "source": [
    "Kolejną rzeczą, którą możemy sprawdzić, jest to, czy jakiś element znajduje się w liście. Sprawdź, czy na liście znajduje się 'lód' za pomocą funkcji warunkowej if. Jest to pierwszy przykład jej zastosowania, więc podaję go z naszą przykładową listą:"
   ]
  },
  {
   "cell_type": "code",
   "execution_count": null,
   "metadata": {},
   "outputs": [],
   "source": [
    "if 's' in przyklad_listy:\n",
    "    print('s jest w liście')\n",
    "    \n",
    "if 10000 in przyklad_listy:\n",
    "    print('Coś tu nie gra')\n",
    "else:\n",
    "    print('{} nie jest w liście'.format(10000))"
   ]
  },
  {
   "cell_type": "markdown",
   "metadata": {},
   "source": [
    "Jeśli lód znajduje się w liście, warto by było go usunąć! Jeżeli lód znajduje się na liście, usuń go i wypisz elementy z lodówki."
   ]
  },
  {
   "cell_type": "code",
   "execution_count": null,
   "metadata": {},
   "outputs": [],
   "source": []
  },
  {
   "cell_type": "markdown",
   "metadata": {},
   "source": [
    "Ostatnia część ćwiczenia z listami to wskazówka. Nie można skopiować listy po prostu przypisując nową zmienną do nazwy listy jak w przykładzie niżej, bo wtedy Python wciąż kieruje nas do tej samej listy:"
   ]
  },
  {
   "cell_type": "code",
   "execution_count": null,
   "metadata": {},
   "outputs": [],
   "source": [
    "nowa_lista = przyklad_listy"
   ]
  },
  {
   "cell_type": "code",
   "execution_count": null,
   "metadata": {},
   "outputs": [],
   "source": [
    "nowa_lista[0] = 'mortadela'"
   ]
  },
  {
   "cell_type": "code",
   "execution_count": null,
   "metadata": {},
   "outputs": [],
   "source": [
    "nowa_lista"
   ]
  },
  {
   "cell_type": "code",
   "execution_count": null,
   "metadata": {},
   "outputs": [],
   "source": [
    "przyklad_listy"
   ]
  },
  {
   "cell_type": "markdown",
   "metadata": {},
   "source": [
    "Tego nie chcemy! Z tego względu używa się funkcji stara_lista.copy(), która tworzy nową kopię listy:"
   ]
  },
  {
   "cell_type": "code",
   "execution_count": null,
   "metadata": {},
   "outputs": [],
   "source": [
    "nowa_lista = przyklad_listy.copy()"
   ]
  },
  {
   "cell_type": "code",
   "execution_count": null,
   "metadata": {},
   "outputs": [],
   "source": [
    "nowa_lista[0] = 'Coś innego'"
   ]
  },
  {
   "cell_type": "code",
   "execution_count": null,
   "metadata": {},
   "outputs": [],
   "source": [
    "nowa_lista"
   ]
  },
  {
   "cell_type": "code",
   "execution_count": null,
   "metadata": {},
   "outputs": [],
   "source": [
    "przyklad_listy"
   ]
  },
  {
   "cell_type": "markdown",
   "metadata": {},
   "source": [
    "### Pętla for\n",
    "\n",
    "Pętla for to bardzo przydatny element każdego języka programowania. Jest ona kwintesencją programowania i technik komputerowych bo pokazuje, po co właściwie stworzono maszyny, jakimi są komputery: do powtarzania prostych i czasochłonnych czynności dziesiątki, setki albo tysiące razy.\n",
    "\n",
    "W ćwiczeniu użyjemy pętli **for** na dwa różne sposoby:\n",
    "\n",
    "1. Do wyświetlania poszczególnych elementów listy \n",
    "2. Do wyświetlania poszczególnych elementów listy i wyświetlania ich numeru na liście "
   ]
  },
  {
   "cell_type": "markdown",
   "metadata": {},
   "source": [
    "1. Pętla **for** pozwala na przechodzenie element po elemencie przez listy. Przykład jej zastosowania poniżej:"
   ]
  },
  {
   "cell_type": "code",
   "execution_count": null,
   "metadata": {},
   "outputs": [],
   "source": [
    "for element in nowa_lista:\n",
    "    print(element)"
   ]
  },
  {
   "cell_type": "markdown",
   "metadata": {},
   "source": [
    "Tak samo można jej użyć do \"rozłożenia na części pierwsze\" każdego łańcucha znaków, na przykład:"
   ]
  },
  {
   "cell_type": "code",
   "execution_count": null,
   "metadata": {},
   "outputs": [],
   "source": [
    "for znak in 'łańcuch znaków':\n",
    "    print(znak)"
   ]
  },
  {
   "cell_type": "markdown",
   "metadata": {},
   "source": [
    "Spróbuj w takim wypadku skorzystać z właściwości pętli for! Najpierw wyświetl wszystkie elementy z lodówki, element po elemencie."
   ]
  },
  {
   "cell_type": "code",
   "execution_count": null,
   "metadata": {},
   "outputs": [],
   "source": []
  },
  {
   "cell_type": "markdown",
   "metadata": {},
   "source": [
    "Następnie wyświetl wszystkie znaki pierwszego elementu listy:"
   ]
  },
  {
   "cell_type": "code",
   "execution_count": null,
   "metadata": {},
   "outputs": [],
   "source": []
  },
  {
   "cell_type": "markdown",
   "metadata": {},
   "source": [
    "A teraz specjalne. Najpierw wypisz nazwę elementu listy, a następnie wszystkie jego znaki z pominięciem pierwszego! Wymagać to będzie użycia dwóch pętli for, jednej w drugiej oraz adresowania. Spróbuj to zrobić sam!"
   ]
  },
  {
   "cell_type": "code",
   "execution_count": null,
   "metadata": {},
   "outputs": [],
   "source": []
  },
  {
   "cell_type": "markdown",
   "metadata": {},
   "source": [
    "2. Drugie zastosowanie pętli for pozwala na indeksowanie elementów. Czasami jest to przydatne zastosowanie! Musimy w tym wypadku określić granice indeksowania, tzn.: jak długo taka pętla ma działać. W naszym wypadku granicą jest liczba elementów na liście, którą można sprawdzić za pomocą metody len():"
   ]
  },
  {
   "cell_type": "code",
   "execution_count": null,
   "metadata": {},
   "outputs": [],
   "source": [
    "len(nowa_lista)"
   ]
  },
  {
   "cell_type": "markdown",
   "metadata": {},
   "source": [
    "Następnie można iterować przez wszystkie elementy na liście przy użyciu konstrukcji for x in range(start, koniec):"
   ]
  },
  {
   "cell_type": "code",
   "execution_count": null,
   "metadata": {},
   "outputs": [],
   "source": [
    "for numer_elementu in range(0, len(nowa_lista)):\n",
    "    print(nowa_lista[numer_elementu])"
   ]
  },
  {
   "cell_type": "markdown",
   "metadata": {},
   "source": [
    "Zastosuj konstrukcję **for x in range()** by wyświetlić wszystkie składniki z lodówki wraz z ich numerem na liście w postaci: print(numer elementu, składnik)"
   ]
  },
  {
   "cell_type": "code",
   "execution_count": null,
   "metadata": {},
   "outputs": [],
   "source": []
  },
  {
   "cell_type": "markdown",
   "metadata": {},
   "source": [
    "### Warunek if"
   ]
  },
  {
   "cell_type": "markdown",
   "metadata": {},
   "source": [
    "Warunek if jest kolejnym wyrażeniem, które znane jest z większości języków programowania. Pozwala on na porównanie dwóch lub więcej elementów i na podejmowanie decyzji odnośnie działania programu. Przykłady zastosowania warunku if:"
   ]
  },
  {
   "cell_type": "code",
   "execution_count": null,
   "metadata": {},
   "outputs": [],
   "source": [
    "if len('tekst') == 5:\n",
    "    print('Długość tekstu jest równa 5 znakom')\n",
    "else:\n",
    "    print('Długość tekstu nie jest równa 5 znakom')"
   ]
  },
  {
   "cell_type": "code",
   "execution_count": null,
   "metadata": {},
   "outputs": [],
   "source": [
    "if len('tekst') == 4:\n",
    "    print('Długość tekstu jest równa 4 znakom')\n",
    "else:\n",
    "    print('Długość tekstu nie jest równa 4 znakom')"
   ]
  },
  {
   "cell_type": "code",
   "execution_count": null,
   "metadata": {},
   "outputs": [],
   "source": [
    "if 't' in 'tekst':\n",
    "    print('t jest tutaj')"
   ]
  },
  {
   "cell_type": "code",
   "execution_count": null,
   "metadata": {},
   "outputs": [],
   "source": [
    "if 'z' in 'tekst':\n",
    "    print('z jest tutaj')\n",
    "elif 'e' in 'tekst':\n",
    "    print('z tutaj nie ma, ale jest e')"
   ]
  },
  {
   "cell_type": "code",
   "execution_count": null,
   "metadata": {},
   "outputs": [],
   "source": [
    "if 'z' in 'tekst':\n",
    "    print('z jest tutaj')\n",
    "elif 'm' in 'tekst' or 'n' in 'tekst':\n",
    "    print('z tutaj nie ma, ale jest m albo n')\n",
    "else:\n",
    "    print('Nie ma liter!')"
   ]
  },
  {
   "cell_type": "code",
   "execution_count": null,
   "metadata": {},
   "outputs": [],
   "source": [
    "for element in nowa_lista:\n",
    "    print(element)\n",
    "    if element is print:\n",
    "        print('Znalazłem metodę print!')"
   ]
  },
  {
   "cell_type": "code",
   "execution_count": null,
   "metadata": {},
   "outputs": [],
   "source": [
    "if 4 <= 2**2.5:\n",
    "    print('4 jest większe niż 2 do potęgi 2,5')"
   ]
  },
  {
   "cell_type": "code",
   "execution_count": null,
   "metadata": {},
   "outputs": [],
   "source": [
    "if type(4) is int:\n",
    "    print(type(4))"
   ]
  },
  {
   "cell_type": "markdown",
   "metadata": {},
   "source": [
    "Zadanie: spróbuj napisać własny warunek, który sprawdza po kolei wszystkie elementy z lodówki i jeśli liczba znaków jest większa niż 5 wtedy wypisuje je za pomocą metody print(), jeśli jest większa niż 4 wypisuje pozycję elementu, a w innym przypadku pisze ('nic')"
   ]
  },
  {
   "cell_type": "code",
   "execution_count": null,
   "metadata": {},
   "outputs": [],
   "source": []
  },
  {
   "cell_type": "markdown",
   "metadata": {},
   "source": [
    "### Słowniki"
   ]
  },
  {
   "cell_type": "markdown",
   "metadata": {},
   "source": [
    "Ostatni element który poznamy na dzisiejszym kursie to słownik. Słownik jest bardzo przydatnym kontenerem danych, szczególnie w Data Science. Jeśli słyszałeś o plikach JSON to wiesz jak wyglądają słowniki.\n",
    "\n",
    "Słownik (inaczej dict) konstruowany jest w następujący sposób:"
   ]
  },
  {
   "cell_type": "code",
   "execution_count": null,
   "metadata": {},
   "outputs": [],
   "source": [
    "slownik = {\n",
    "    'klucz 1': 0,\n",
    "    'klucz 2': 'inna wartość',\n",
    "    'klucz 3': print\n",
    "}"
   ]
  },
  {
   "cell_type": "markdown",
   "metadata": {},
   "source": [
    "Jeśli chcemy wydobyć jakąś wartość ze słownika to musimy znać jej klucz. Na przykład:"
   ]
  },
  {
   "cell_type": "code",
   "execution_count": null,
   "metadata": {},
   "outputs": [],
   "source": [
    "if slownik['klucz 1'] == 0:\n",
    "    print(slownik['klucz 1'] + 1)"
   ]
  },
  {
   "cell_type": "code",
   "execution_count": null,
   "metadata": {},
   "outputs": [],
   "source": [
    "if slownik['klucz 3'] is print:\n",
    "    slownik['klucz 3'](slownik['klucz 2'])"
   ]
  },
  {
   "cell_type": "markdown",
   "metadata": {},
   "source": [
    "Sprawdź co się stanie, jeśli użyjesz pętli for na słowniku!"
   ]
  },
  {
   "cell_type": "code",
   "execution_count": null,
   "metadata": {},
   "outputs": [],
   "source": []
  },
  {
   "cell_type": "markdown",
   "metadata": {},
   "source": [
    "A teraz zastanów się, jak możesz wypisać poszczególne wartości ze słownika w pętli for? Podpowiedź: wartość ze słownika zwraca się za pomocą konstruktu: słownik[klucz]"
   ]
  },
  {
   "cell_type": "code",
   "execution_count": null,
   "metadata": {},
   "outputs": [],
   "source": []
  },
  {
   "cell_type": "markdown",
   "metadata": {},
   "source": [
    "Wartości ze słownika można też zwrócić w inny sposób:"
   ]
  },
  {
   "cell_type": "code",
   "execution_count": null,
   "metadata": {},
   "outputs": [],
   "source": [
    "for val in slownik.values():\n",
    "    print(val)"
   ]
  },
  {
   "cell_type": "markdown",
   "metadata": {},
   "source": [
    "Albo:"
   ]
  },
  {
   "cell_type": "code",
   "execution_count": null,
   "metadata": {},
   "outputs": [],
   "source": [
    "for key, value in slownik.items():\n",
    "    print(key, ': ',  value)"
   ]
  },
  {
   "cell_type": "markdown",
   "metadata": {},
   "source": [
    "Zadanie: utwórz słownik z następującymi parami klucz - wartość:\n",
    "\n",
    "{'user1': {'name': 'Adam', 'login': 'Adam1', 'pin': 9857},\n",
    "'user2': {'name': 'Agata', 'login': 'Agata1', 'pin': 7644}}\n",
    "\n",
    "Następnie dodaj nowe pole do słownika:\n",
    "'user3': {'name': 'Filip', 'login': 'Filip1', 'pin': 0000}\n",
    "\n",
    "Dodawanie nowych pól jest bardzo łatwe, konstruujemy je wywołując nowy klucz i wpisując wartości dla niego:"
   ]
  },
  {
   "cell_type": "code",
   "execution_count": null,
   "metadata": {},
   "outputs": [],
   "source": [
    "slownik['klucz 4'] = 'Nowy klucz / Nowa wartość'\n",
    "slownik"
   ]
  },
  {
   "cell_type": "code",
   "execution_count": null,
   "metadata": {},
   "outputs": [],
   "source": []
  },
  {
   "cell_type": "markdown",
   "metadata": {},
   "source": [
    "Zmień wartość w polu 'pin' użytkownika 3 (user3) na 1234. Podmiana wartości przypomina przypisanie nowych wartości:"
   ]
  },
  {
   "cell_type": "code",
   "execution_count": null,
   "metadata": {},
   "outputs": [],
   "source": [
    "slownik['klucz 3'] = 'Czas na łańcuch znaków zamiast funkcji'\n",
    "slownik"
   ]
  },
  {
   "cell_type": "code",
   "execution_count": null,
   "metadata": {},
   "outputs": [],
   "source": []
  },
  {
   "cell_type": "markdown",
   "metadata": {},
   "source": [
    "Dalsza część pracy czeka na ciebie w projekcie, wiesz już wystarczająco dużo, by dopracować generator haseł z pierwszego projektu!"
   ]
  }
 ],
 "metadata": {
  "kernelspec": {
   "display_name": "Python 3",
   "language": "python",
   "name": "python3"
  },
  "language_info": {
   "codemirror_mode": {
    "name": "ipython",
    "version": 3
   },
   "file_extension": ".py",
   "mimetype": "text/x-python",
   "name": "python",
   "nbconvert_exporter": "python",
   "pygments_lexer": "ipython3",
   "version": "3.7.3"
  }
 },
 "nbformat": 4,
 "nbformat_minor": 2
}
