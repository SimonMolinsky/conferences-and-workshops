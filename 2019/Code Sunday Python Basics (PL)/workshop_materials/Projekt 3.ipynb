{
 "cells": [
  {
   "cell_type": "markdown",
   "metadata": {},
   "source": [
    "# Python podstawy, część 3: projekt - ulepszony generator haseł \n",
    "\n",
    "Tym razem nasz generator haseł zostanie ulepszony. Zmienimy jego sposób działania: inicjowany będzie przez wpisane przez użytkownika zdanie, sprawdzi jego długość, losowo pomiesza znaki a część z nich podmieni i zwróci hasło. Im dłuższe zdanie tym lepiej (umówmy się tylko, że zdania muszą być przedstawiane bez polskich liter)."
   ]
  },
  {
   "cell_type": "markdown",
   "metadata": {},
   "source": [
    "* Na rozgrzewkę: zainicjuj zmienną jakimkolwiek ciągiem znaków i sprawdź jej długość."
   ]
  },
  {
   "cell_type": "code",
   "execution_count": null,
   "metadata": {},
   "outputs": [],
   "source": []
  },
  {
   "cell_type": "markdown",
   "metadata": {},
   "source": [
    "* Przypomnij sobie pętlę for: przeiteruj przez zmienną i wyświetl każdy znak osobno"
   ]
  },
  {
   "cell_type": "code",
   "execution_count": null,
   "metadata": {},
   "outputs": [],
   "source": []
  },
  {
   "cell_type": "markdown",
   "metadata": {},
   "source": [
    "* Teraz czas na prawdziwą zabawę: zaimportuj moduł random pythona"
   ]
  },
  {
   "cell_type": "code",
   "execution_count": null,
   "metadata": {},
   "outputs": [],
   "source": []
  },
  {
   "cell_type": "markdown",
   "metadata": {},
   "source": [
    "* Pętla for x in range(0, długość łańcucha znaków) - przy każdym przejściu pętli losowany jest jeden znak za pomocą random.choice i drukowany"
   ]
  },
  {
   "cell_type": "code",
   "execution_count": null,
   "metadata": {},
   "outputs": [],
   "source": []
  },
  {
   "cell_type": "markdown",
   "metadata": {},
   "source": [
    "* Jak wyżej, tylko tym razem wylosowany znak jest usuwany z ciągu tekstowego! (Jeśli np.: wylosowane jest \"a\" ze słowa \"anakonda\" to usuwane jest jakiekolwiek \"a\"). WAŻNE! \"Usunięcie\" znaku nie jest takie proste. Najpierw musisz znaleźć wystąpienie takiego znaku - jego pozycję - za pomocą metody find. Następnie musisz wyciąć wszystkie znaki do znalezionej pozycji (jedna zmienna) i wszystkie znaki od znalezionej pozycji (druga zmienna), po czym łączysz dwie zmienne w skrócony tekst. Przykład takiej operacji poniżej. Skopiuj łańcuch znaków do nowej zmiennej, bo będziesz go tracić za każdym wywołaniem funkcji."
   ]
  },
  {
   "cell_type": "code",
   "execution_count": null,
   "metadata": {},
   "outputs": [],
   "source": [
    "zmienna = 'zmienna'\n",
    "poz = zmienna.find('n')\n",
    "z1 = zmienna[:poz]\n",
    "z2 = zmienna[poz+1:]\n",
    "zmienna = z1 + z2\n",
    "print(zmienna)\n",
    "poz = zmienna.find('n')\n",
    "z1 = zmienna[:poz]\n",
    "z2 = zmienna[poz+1:]\n",
    "zmienna = z1 + z2\n",
    "print(zmienna)\n",
    "poz = zmienna.find('z')\n",
    "z1 = zmienna[:poz]\n",
    "z2 = zmienna[poz+1:]\n",
    "zmienna = z1 + z2\n",
    "print(zmienna)\n",
    "poz = zmienna.find('a')\n",
    "z1 = zmienna[:poz]\n",
    "z2 = zmienna[poz+1:]\n",
    "zmienna = z1 + z2\n",
    "print(zmienna)\n",
    "poz = zmienna.find('e')\n",
    "z1 = zmienna[:poz]\n",
    "z2 = zmienna[poz+1:]\n",
    "zmienna = z1 + z2\n",
    "print(zmienna)\n",
    "poz = zmienna.find('m')\n",
    "z1 = zmienna[:poz]\n",
    "z2 = zmienna[poz+1:]\n",
    "zmienna = z1 + z2\n",
    "print(zmienna)\n",
    "poz = zmienna.find('i')\n",
    "z1 = zmienna[:poz]\n",
    "z2 = zmienna[poz+1:]\n",
    "zmienna = z1 + z2\n",
    "print(zmienna)"
   ]
  },
  {
   "cell_type": "code",
   "execution_count": null,
   "metadata": {},
   "outputs": [],
   "source": []
  },
  {
   "cell_type": "markdown",
   "metadata": {},
   "source": [
    "* Teraz zainicjuj pustą listę i dołączaj do niej znaki po każdej iteracji pętli for."
   ]
  },
  {
   "cell_type": "code",
   "execution_count": null,
   "metadata": {},
   "outputs": [],
   "source": []
  },
  {
   "cell_type": "markdown",
   "metadata": {},
   "source": [
    "* Ostatnia część zadania: podmień wszystkie samogłoski w generowanym haśle na wartości zgodne ze słownikiem poniżej:"
   ]
  },
  {
   "cell_type": "code",
   "execution_count": null,
   "metadata": {},
   "outputs": [],
   "source": [
    "vowels = {\n",
    "    'a': random.choice('0123'),\n",
    "    'e': random.choice('3456'),\n",
    "    'u': random.choice('5678'),\n",
    "    'i': random.choice('8721'),\n",
    "    'o': random.choice('0951')\n",
    "}"
   ]
  },
  {
   "cell_type": "code",
   "execution_count": null,
   "metadata": {},
   "outputs": [],
   "source": []
  }
 ],
 "metadata": {
  "kernelspec": {
   "display_name": "Python 3",
   "language": "python",
   "name": "python3"
  },
  "language_info": {
   "codemirror_mode": {
    "name": "ipython",
    "version": 3
   },
   "file_extension": ".py",
   "mimetype": "text/x-python",
   "name": "python",
   "nbconvert_exporter": "python",
   "pygments_lexer": "ipython3",
   "version": "3.7.3"
  }
 },
 "nbformat": 4,
 "nbformat_minor": 2
}
