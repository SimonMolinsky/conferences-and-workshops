{
 "cells": [
  {
   "cell_type": "markdown",
   "metadata": {},
   "source": [
    "# Python podstawy, część 5: klasy"
   ]
  },
  {
   "cell_type": "markdown",
   "metadata": {},
   "source": [
    "Ostatnim etapem wtajemniczenia jest opanowanie klas w Pythonie. Ich konstrukcja przypomina nieco funkcje. W trakcie zadania połączymy wszystkie opracowane wcześniej projekty w jeden - generator rysunkowych obrazów, który będzie sam obrabiał i zapisywał obraz pod losową nazwą, łącząc go z konkretnym użytkownikiem."
   ]
  },
  {
   "cell_type": "markdown",
   "metadata": {},
   "source": [
    "Ze względu na trudność projektu będziemy pracować nad nim wspólnie, powoli. Poszczególne kroki:\n",
    "\n",
    "1. Inicjalizacja obiektu, metoda __init__, \n",
    "2. Opis obiektu, metoda __str__,\n",
    "3. Słownik (baza danych klasy),\n",
    "4. Metody klasy: dodaj użytkownika, przetwórz obraz, wyświetl obraz, podaj ścieżkę do obrazu,\n",
    "5. Metody klasy cd.: sprawdź, czy nazwa użytkownika jest zajęta; sprawdź, czy login jest zajęty; sprawdź, czy nazwa obrazu istnieje."
   ]
  },
  {
   "cell_type": "code",
   "execution_count": null,
   "metadata": {},
   "outputs": [],
   "source": [
    "# Przykład klasy\n",
    "\n",
    "class Student:\n",
    "    \n",
    "    def __init__(self, name, grade_a, grade_b):\n",
    "        self.name = name\n",
    "        self.grades = [grade_a, grade_b]\n",
    "        self.mean_grade = None\n",
    "        \n",
    "    def calc_mean_grade(self):\n",
    "        self.mean_grade = (self.grades[0] + self.grades[1]) / 2\n",
    "        return self.mean_grade\n",
    "    \n",
    "    def __str__(self):\n",
    "        return(\"Student's name is: {}\".format(self.name))\n",
    "    \n",
    "student = Student('Szymon', 3, 3)\n",
    "print(student)\n",
    "print(student.calc_mean_grade())"
   ]
  },
  {
   "cell_type": "code",
   "execution_count": null,
   "metadata": {},
   "outputs": [],
   "source": []
  }
 ],
 "metadata": {
  "kernelspec": {
   "display_name": "Python 3",
   "language": "python",
   "name": "python3"
  },
  "language_info": {
   "codemirror_mode": {
    "name": "ipython",
    "version": 3
   },
   "file_extension": ".py",
   "mimetype": "text/x-python",
   "name": "python",
   "nbconvert_exporter": "python",
   "pygments_lexer": "ipython3",
   "version": "3.7.3"
  }
 },
 "nbformat": 4,
 "nbformat_minor": 2
}
