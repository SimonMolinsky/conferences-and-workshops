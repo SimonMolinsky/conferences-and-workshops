{
 "cells": [
  {
   "cell_type": "markdown",
   "metadata": {},
   "source": [
    "# Zadanie 2: Matematyka i implementacja równań\n",
    "\n",
    "## Cel zadania: analiza sposobu implementacji równań matematycznych\n",
    "\n",
    "Założenia:  \n",
    "- Dowolność wyboru metody rozwiązania, tzn.: możliwość wykorzystania każdego modułu albo każdej struktury danych w celu rozwiązania problemów,\n",
    "- Informowanie o źródłach, tzn.: w przypadku wykorzystania kodu ze źródeł zewnętrznych proszę o podanie ich adresu albo zacytowanie,\n",
    "- Kod powinien być pisany w notatnikach, ale zewnętrzne skrypty udostępnione wraz z notatnikiem, są traktowane normalnie,\n",
    "- **Stosuj się do wytycznych PEP8**"
   ]
  },
  {
   "cell_type": "markdown",
   "metadata": {},
   "source": [
    "### a) Funkcja liniowa (cykliczna):\n",
    "\n",
    "_Zadanie:_ Napisz program, który przyjmuje parametry \"A\", \"f\", \"t\", $ \\phi $ jako liczby rzeczywiste, z czego \"t\" i \"f\" muszą być większe od zera. Program powinien wykonać następującą operację:\n",
    "\n",
    "$$ y = A cos(2\\pi*f*t + \\phi) $$\n",
    "\n",
    "i zwrócić jej wynik."
   ]
  },
  {
   "cell_type": "code",
   "execution_count": null,
   "metadata": {},
   "outputs": [],
   "source": [
    "import math\n",
    "\n",
    "def enormous_cos(A, f, t, phi):\n",
    "    try:\n",
    "        if(t <= 0):\n",
    "            raise ValueError(\"t must be greater than zero!\")\n",
    "        elif(f <= 0):\n",
    "            raise ValueError(\"f must be greater than zero!\")\n",
    "        else:\n",
    "            return A*math.cos(2 * math.pi * f * t + phi)\n",
    "    except ValueError as e:\n",
    "        print(e)"
   ]
  },
  {
   "cell_type": "markdown",
   "metadata": {},
   "source": [
    "### b) Funkcja rekurencyjna (chaotyczna):\n",
    "\n",
    "_Zadanie:_ Napisz program, który na wejściu otrzymuje wartość \"x(0)\" jako jakąkolwiek liczbę rzeczywistą różną od zera oraz wartość \"n\" oznaczającą liczbę iteracji funkcji. Program powinien stworzyć n-elementową listę elementów na podstawie poniższej operacji:\n",
    "\n",
    "$$ x_{i+1} = r x_{n}(1-x_{n}) $$\n",
    "\n",
    "gdzie:\n",
    "i - oznacza i-ty element z listy (i zawarte jest w przedziale [0, n),\n",
    "r - jest losową liczbą rzeczywistą z przedziału (3.4, 4) i jest ustalana tylko raz, później się nie zmienia,\n",
    "x(0) - to dowolna liczba rzeczywista różna od zera wprowadzana przez użytkownika.\n",
    "\n",
    "Program powinien zwrócić n-elementą listę wartości (lub podobną strukturę danych). Technika programowania dowolna."
   ]
  },
  {
   "cell_type": "code",
   "execution_count": null,
   "metadata": {},
   "outputs": [],
   "source": [
    "import random\n",
    "\n",
    "def list_generator(val, iters, r_value):\n",
    "    for _ in range(iters):\n",
    "        yield val\n",
    "        val = r_value*val*(1-val)\n",
    "        \n",
    "def chaotic_function(val, iters):\n",
    "    try:\n",
    "        if(val == 0):\n",
    "            raise ValueError(\"x can't be equal to zero\")\n",
    "        r_value = random.uniform(3.4, 4)\n",
    "        return list(list_generator(val, iters, r_value))\n",
    "    except ValueError as e:\n",
    "        print(e)"
   ]
  },
  {
   "cell_type": "markdown",
   "metadata": {},
   "source": [
    "### c) Połącz funkcję a) z b)\n",
    "\n",
    "_Zadanie:_ Stwórz nowy program, który na wejściu przyjmuje wartość \"x(0)\", liczbę wygenerowanych elementów \"n\". Na tej podstawie połącz funkcję a) z funkcją b) gdzie:\n",
    "- pierwsze dokonywane są obliczenia funkcji b) i jej wyjście - lista elementów - przekazywane jest do funkcji a),\n",
    "- każdy element z listy przekazanej z funkcji b) $ x_{i} $ podstawiany jest jako $ A $ z funkcji a), w tym samym przypadku $ t $ jest zastępowane przez numer elementu na liście $ x $, $ \\phi $ jest równe zero a $ f $ to dowolna liczba rzeczywista z przedziału (0, 100).\n",
    "\n",
    "Finalnie równanie powinno wyglądać następująco:\n",
    "\n",
    "$$ \\bar{y} = \\bar{x} cos(2\\pi*f*\\bar{n}) $$\n",
    "\n",
    "gdzie:  \n",
    "$ \\bar{y} $ - wektor danych wyjściowych  \n",
    "$\\bar{x} $ - wektor wartości wygenerowanych z równania b),  \n",
    "$ f $ - losowa wartość z przedziału (0, 100) wygenerowana jako stała,  \n",
    "$ \\bar{n} $ - oznaczenie n-tego elementu z listy $ \\bar{x} $, gdzie pierwszy element ma wartość 1, każdy kolejny o 1 więcej. W równaniu jako wektor wartości od 1 do $ n $ z krokiem jednostkowym."
   ]
  },
  {
   "cell_type": "code",
   "execution_count": null,
   "metadata": {},
   "outputs": [],
   "source": [
    "def function_product(val, iters):\n",
    "    x_vec = chaotic_function(val, iters)\n",
    "    f_value = random.uniform(0,100)\n",
    "    n_vec = list(range(1, iters+1))\n",
    "    return [enormous_cos(x, f_value, n, 0) for x, n in zip(x_vec, n_vec)]"
   ]
  },
  {
   "cell_type": "markdown",
   "metadata": {},
   "source": [
    "### d) Zróżniczkuj funkcję c)\n",
    "\n",
    "_Zadanie:_ oblicz nowy wektor o długości $ n-1 $ na podstawie wyliczeń z punktu c) który jest pochodną wektora $ \\bar{y} $ z krokiem $ \\Delta $ równym 1 (jeden)."
   ]
  },
  {
   "cell_type": "code",
   "execution_count": null,
   "metadata": {},
   "outputs": [],
   "source": [
    "'''\n",
    "I will use 18 for n value and 1.000001 for x value, \n",
    "because formula from b) has hugh complexity\n",
    "'''\n",
    "values = function_product(1.00001,18)\n",
    "diffs = [j-i for i, j in zip(values[:-1], values[1:])]"
   ]
  },
  {
   "cell_type": "markdown",
   "metadata": {},
   "source": [
    "### e) Zwizualizuj przebieg funkcji c) i funkcji d) na jednym wykresie\n",
    "\n",
    "_Zadanie:_ wykorzystując odpowiednie biblioteki Python zwizualizuj przebieg funkcji c) i funkcji d) na jednym wykresie."
   ]
  },
  {
   "cell_type": "code",
   "execution_count": null,
   "metadata": {},
   "outputs": [],
   "source": [
    "import matplotlib.pyplot as plt\n",
    "import numpy as np\n",
    "\n",
    "\"\"\"\n",
    "Delta x jest równa 1, więc wektor pochodnych będzie\n",
    "zwykłym wektorem różnic pomiędzy kolejnymi wartościami\n",
    "\"\"\"\n",
    "\n",
    "plt.figure(figsize=(16,8))\n",
    "x = np.arange(1,18)\n",
    "plt.plot(x, diffs, linestyle=\"\",marker=\"^\", label=\"Diffs\")\n",
    "x = np.append(x, [18])\n",
    "plt.plot(x, values, linestyle=\"\",marker=\"o\", label=\"Values\")\n",
    "plt.yscale('symlog', linthreshx=0.1)\n",
    "plt.xticks(x)\n",
    "plt.legend()\n",
    "plt.show()"
   ]
  },
  {
   "cell_type": "code",
   "execution_count": null,
   "metadata": {},
   "outputs": [],
   "source": []
  }
 ],
 "metadata": {
  "kernelspec": {
   "display_name": "Python 3",
   "language": "python",
   "name": "python3"
  },
  "language_info": {
   "codemirror_mode": {
    "name": "ipython",
    "version": 3
   },
   "file_extension": ".py",
   "mimetype": "text/x-python",
   "name": "python",
   "nbconvert_exporter": "python",
   "pygments_lexer": "ipython3",
   "version": "3.7.3"
  }
 },
 "nbformat": 4,
 "nbformat_minor": 2
}
