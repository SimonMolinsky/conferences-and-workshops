{
 "cells": [
  {
   "cell_type": "code",
   "execution_count": 3,
   "metadata": {},
   "outputs": [],
   "source": [
    "import random\n",
    "import string"
   ]
  },
  {
   "cell_type": "markdown",
   "metadata": {},
   "source": [
    "# Python podstawy, część 1: projekt - generator haseł\n",
    "\n",
    "W trakcie pracy z tymi notatnikami będziesz tworzył swój własny generator haseł. Nie martw się jeśli nie rozumiesz składni, wszystko wyjaśni się w kolejnych częściach kursu a ty już teraz zrozumiesz dlaczego używa się czegoś w taki a nie inny sposób. Postaraj się pracować sam z treścią projektu!\n",
    "\n",
    "W ramach 1 projektu stworzysz swój własny generator haseł. Będziemy robić to w etapach (podobnymi etapami projektuje się oprogramowanie, poczynając od prostych funkcji a kończąc na zaawansowanych modułach). W pierwszej części projektu nauczysz się generować losowe znaki \"z klawiatury\". W drugiej części nauczysz się dodać cyfry do tych znaków. W trzeciej części nauczysz się dodawać kolejne znaki do ciągu. W ostatniej części stworzysz program do generowania haseł o odpowiedniej długości."
   ]
  },
  {
   "cell_type": "markdown",
   "metadata": {},
   "source": [
    "## Projekt 1 / Etap 1: generowanie losowych znaków\n",
    "\n",
    "Twoim zadaniem jest **wykorzystanie** metody, która losuje znak alfanumeryczny z alfabetu łacińskiego. To nie jest takie proste, ponieważ trzeba wykorzystać dwie różne metody:\n",
    "\n",
    "- random.choice(zbiór spośród którego losujemy) https://docs.python.org/3/library/random.html\n",
    "- string.ascii_letters https://docs.python.org/3/library/string.html\n",
    "\n",
    "Musisz połączyć obie metody, aby uzyskać swój losowy znak. Przetestuj je. Poniżej przykład wykorzystania łączenia metod, gdzie print to jedna metoda, a random.random() jest drugą metodą:"
   ]
  },
  {
   "cell_type": "code",
   "execution_count": 11,
   "metadata": {},
   "outputs": [
    {
     "name": "stdout",
     "output_type": "stream",
     "text": [
      "b\n"
     ]
    }
   ],
   "source": [
    "print(random.choice('abcd'))"
   ]
  },
  {
   "cell_type": "code",
   "execution_count": 12,
   "metadata": {},
   "outputs": [],
   "source": [
    "litery = string.ascii_letters"
   ]
  },
  {
   "cell_type": "code",
   "execution_count": 16,
   "metadata": {},
   "outputs": [
    {
     "data": {
      "text/plain": [
       "'w'"
      ]
     },
     "execution_count": 16,
     "metadata": {},
     "output_type": "execute_result"
    }
   ],
   "source": [
    "random.choice(litery)"
   ]
  },
  {
   "cell_type": "markdown",
   "metadata": {},
   "source": [
    "## Projekt 1 / Etap 2: dodanie do zakresu znaków cyfr\n",
    "\n",
    "Twoim zadaniem jest dodanie do ascii_letters cyfr. Metoda, która zawiera ciąg cyfr to:\n",
    "\n",
    "- string.digits https://docs.python.org/3/library/string.html\n",
    "\n",
    "Sprawdź długość całego łańcucha znaków (i litery, i cyfry). Wylosuj znak z tego łańcucha.\n",
    "\n",
    "- długość: metoda len() https://docs.python.org/3/library/functions.html#len\n",
    "- losowanie znaku: random.choice() https://docs.python.org/3/library/random.html"
   ]
  },
  {
   "cell_type": "code",
   "execution_count": 19,
   "metadata": {},
   "outputs": [
    {
     "name": "stdout",
     "output_type": "stream",
     "text": [
      "62\n"
     ]
    }
   ],
   "source": [
    "pelen_zakres = string.ascii_letters + string.digits\n",
    "print(len(pelen_zakres))"
   ]
  },
  {
   "cell_type": "code",
   "execution_count": 20,
   "metadata": {},
   "outputs": [
    {
     "data": {
      "text/plain": [
       "'A'"
      ]
     },
     "execution_count": 20,
     "metadata": {},
     "output_type": "execute_result"
    }
   ],
   "source": [
    "random.choice(pelen_zakres)"
   ]
  },
  {
   "cell_type": "markdown",
   "metadata": {},
   "source": [
    "## Projekt 1 / Etap 3: zbuduj ciąg losowych znaków\n",
    "\n",
    "Do tego momentu losowano tylko pojedyncze znaki. Spróbuj wylosować 3 znaki i połączyć je w jeden ciąg."
   ]
  },
  {
   "cell_type": "code",
   "execution_count": 21,
   "metadata": {},
   "outputs": [
    {
     "name": "stdout",
     "output_type": "stream",
     "text": [
      "SOn\n"
     ]
    }
   ],
   "source": [
    "z1 = random.choice(pelen_zakres)\n",
    "z2 = random.choice(pelen_zakres)\n",
    "z3 = random.choice(pelen_zakres)\n",
    "\n",
    "output = z1 + z2 + z3\n",
    "print(output)"
   ]
  },
  {
   "cell_type": "markdown",
   "metadata": {},
   "source": [
    "## Projekt 1 / Etap 4: program generujący hasła\n",
    "\n",
    "Poniżej znajduje się Pythonowy konstrukt, nazywany funkcją. Funkcje opisują pewne procesy, które muszą zostać wykonane, żeby otrzymać dane w odpowiedniej formie. Przykłady funkcji to:\n",
    "\n",
    "print() - funkcja służy do wyświetlania danych\n",
    "len() - funkcja służy do obliczania liczby elementów w zbiorze\n",
    "random.random() - funkcja generuje losową wartość\n",
    "\n",
    "Większa część pracy programisty w Data Science to pisanie albo wykorzystywanie funkcji. Funkcje są pewnym rodzajem \"przepisu\", do którego dostarcza się składniki (o tym w dalszej części warsztatów).\n",
    "\n",
    "Jak być może spostrzegłeś / spostrzegłaś w poprzednim etapie, ręczne wpisywanie raz za razem random.choice() i dodawanie do siebie wyników jest uciążliwe i zajmuje dużo miejsca. Czas to nieco uporządkować!\n",
    "\n",
    "Napiszemy funkcję, która sama generuje hasła o długości zadanej przez użytkownika! Twoim zadaniem jest uzupełnienie \"ciała funkcji\" o odpowiednie zapisy. Na razie nie martw się zrozumieniem tego, co właściwie się dzieje. Na to przyjdzie czas."
   ]
  },
  {
   "cell_type": "code",
   "execution_count": 31,
   "metadata": {},
   "outputs": [],
   "source": [
    "import string\n",
    "import random\n",
    "\n",
    "def generuj_haslo(liczba_znakow):  # wywołanie funkcji\n",
    "    pelen_zakres = string.ascii_letters + string.digits\n",
    "    haslo = ''\n",
    "    for x in range(0, liczba_znakow): # pętla, która powtarza kroki tyle razy, ile znakow zadalismy\n",
    "        wylosowany_znak = random.choice(pelen_zakres) # losowanie znaku - Twoje zadania\n",
    "        haslo = haslo + wylosowany_znak\n",
    "        print(haslo)\n",
    "    return haslo"
   ]
  },
  {
   "cell_type": "code",
   "execution_count": 36,
   "metadata": {
    "scrolled": true
   },
   "outputs": [
    {
     "name": "stdout",
     "output_type": "stream",
     "text": [
      "g\n",
      "gN\n",
      "gNU\n",
      "gNU5\n",
      "gNU5z\n",
      "gNU5zV\n",
      "gNU5zVp\n",
      "gNU5zVpp\n",
      "gNU5zVppL\n",
      "gNU5zVppLn\n",
      "gNU5zVppLnU\n",
      "gNU5zVppLnU1\n",
      "gNU5zVppLnU1F\n",
      "gNU5zVppLnU1FH\n",
      "gNU5zVppLnU1FHg\n",
      "gNU5zVppLnU1FHgK\n",
      "gNU5zVppLnU1FHgKi\n",
      "gNU5zVppLnU1FHgKiY\n",
      "gNU5zVppLnU1FHgKiYR\n",
      "gNU5zVppLnU1FHgKiYR4\n",
      "gNU5zVppLnU1FHgKiYR43\n",
      "gNU5zVppLnU1FHgKiYR43m\n",
      "gNU5zVppLnU1FHgKiYR43mu\n",
      "gNU5zVppLnU1FHgKiYR43mur\n",
      "gNU5zVppLnU1FHgKiYR43mur4\n",
      "gNU5zVppLnU1FHgKiYR43mur4R\n",
      "gNU5zVppLnU1FHgKiYR43mur4RP\n",
      "gNU5zVppLnU1FHgKiYR43mur4RPP\n",
      "gNU5zVppLnU1FHgKiYR43mur4RPPp\n",
      "gNU5zVppLnU1FHgKiYR43mur4RPPpJ\n",
      "gNU5zVppLnU1FHgKiYR43mur4RPPpJl\n",
      "gNU5zVppLnU1FHgKiYR43mur4RPPpJlq\n",
      "gNU5zVppLnU1FHgKiYR43mur4RPPpJlqF\n",
      "gNU5zVppLnU1FHgKiYR43mur4RPPpJlqFB\n",
      "gNU5zVppLnU1FHgKiYR43mur4RPPpJlqFBn\n",
      "gNU5zVppLnU1FHgKiYR43mur4RPPpJlqFBn6\n",
      "gNU5zVppLnU1FHgKiYR43mur4RPPpJlqFBn6n\n",
      "gNU5zVppLnU1FHgKiYR43mur4RPPpJlqFBn6n9\n",
      "gNU5zVppLnU1FHgKiYR43mur4RPPpJlqFBn6n9X\n",
      "gNU5zVppLnU1FHgKiYR43mur4RPPpJlqFBn6n9Xh\n",
      "gNU5zVppLnU1FHgKiYR43mur4RPPpJlqFBn6n9XhE\n",
      "gNU5zVppLnU1FHgKiYR43mur4RPPpJlqFBn6n9XhEK\n",
      "gNU5zVppLnU1FHgKiYR43mur4RPPpJlqFBn6n9XhEKF\n",
      "gNU5zVppLnU1FHgKiYR43mur4RPPpJlqFBn6n9XhEKFJ\n",
      "gNU5zVppLnU1FHgKiYR43mur4RPPpJlqFBn6n9XhEKFJO\n",
      "gNU5zVppLnU1FHgKiYR43mur4RPPpJlqFBn6n9XhEKFJO8\n",
      "gNU5zVppLnU1FHgKiYR43mur4RPPpJlqFBn6n9XhEKFJO8V\n",
      "gNU5zVppLnU1FHgKiYR43mur4RPPpJlqFBn6n9XhEKFJO8VS\n",
      "gNU5zVppLnU1FHgKiYR43mur4RPPpJlqFBn6n9XhEKFJO8VSR\n",
      "gNU5zVppLnU1FHgKiYR43mur4RPPpJlqFBn6n9XhEKFJO8VSR3\n",
      "gNU5zVppLnU1FHgKiYR43mur4RPPpJlqFBn6n9XhEKFJO8VSR3M\n",
      "gNU5zVppLnU1FHgKiYR43mur4RPPpJlqFBn6n9XhEKFJO8VSR3Mc\n",
      "gNU5zVppLnU1FHgKiYR43mur4RPPpJlqFBn6n9XhEKFJO8VSR3McZ\n",
      "gNU5zVppLnU1FHgKiYR43mur4RPPpJlqFBn6n9XhEKFJO8VSR3McZ6\n",
      "gNU5zVppLnU1FHgKiYR43mur4RPPpJlqFBn6n9XhEKFJO8VSR3McZ6O\n",
      "gNU5zVppLnU1FHgKiYR43mur4RPPpJlqFBn6n9XhEKFJO8VSR3McZ6Oc\n",
      "gNU5zVppLnU1FHgKiYR43mur4RPPpJlqFBn6n9XhEKFJO8VSR3McZ6OcY\n",
      "gNU5zVppLnU1FHgKiYR43mur4RPPpJlqFBn6n9XhEKFJO8VSR3McZ6OcYi\n",
      "gNU5zVppLnU1FHgKiYR43mur4RPPpJlqFBn6n9XhEKFJO8VSR3McZ6OcYi9\n",
      "gNU5zVppLnU1FHgKiYR43mur4RPPpJlqFBn6n9XhEKFJO8VSR3McZ6OcYi9W\n",
      "gNU5zVppLnU1FHgKiYR43mur4RPPpJlqFBn6n9XhEKFJO8VSR3McZ6OcYi9WA\n",
      "gNU5zVppLnU1FHgKiYR43mur4RPPpJlqFBn6n9XhEKFJO8VSR3McZ6OcYi9WAU\n",
      "gNU5zVppLnU1FHgKiYR43mur4RPPpJlqFBn6n9XhEKFJO8VSR3McZ6OcYi9WAUq\n",
      "gNU5zVppLnU1FHgKiYR43mur4RPPpJlqFBn6n9XhEKFJO8VSR3McZ6OcYi9WAUqW\n",
      "gNU5zVppLnU1FHgKiYR43mur4RPPpJlqFBn6n9XhEKFJO8VSR3McZ6OcYi9WAUqW4\n",
      "gNU5zVppLnU1FHgKiYR43mur4RPPpJlqFBn6n9XhEKFJO8VSR3McZ6OcYi9WAUqW4M\n",
      "gNU5zVppLnU1FHgKiYR43mur4RPPpJlqFBn6n9XhEKFJO8VSR3McZ6OcYi9WAUqW4M9\n",
      "gNU5zVppLnU1FHgKiYR43mur4RPPpJlqFBn6n9XhEKFJO8VSR3McZ6OcYi9WAUqW4M92\n",
      "gNU5zVppLnU1FHgKiYR43mur4RPPpJlqFBn6n9XhEKFJO8VSR3McZ6OcYi9WAUqW4M92d\n",
      "gNU5zVppLnU1FHgKiYR43mur4RPPpJlqFBn6n9XhEKFJO8VSR3McZ6OcYi9WAUqW4M92ds\n",
      "gNU5zVppLnU1FHgKiYR43mur4RPPpJlqFBn6n9XhEKFJO8VSR3McZ6OcYi9WAUqW4M92dsW\n",
      "gNU5zVppLnU1FHgKiYR43mur4RPPpJlqFBn6n9XhEKFJO8VSR3McZ6OcYi9WAUqW4M92dsWK\n",
      "gNU5zVppLnU1FHgKiYR43mur4RPPpJlqFBn6n9XhEKFJO8VSR3McZ6OcYi9WAUqW4M92dsWKC\n",
      "gNU5zVppLnU1FHgKiYR43mur4RPPpJlqFBn6n9XhEKFJO8VSR3McZ6OcYi9WAUqW4M92dsWKC8\n",
      "gNU5zVppLnU1FHgKiYR43mur4RPPpJlqFBn6n9XhEKFJO8VSR3McZ6OcYi9WAUqW4M92dsWKC8C\n",
      "gNU5zVppLnU1FHgKiYR43mur4RPPpJlqFBn6n9XhEKFJO8VSR3McZ6OcYi9WAUqW4M92dsWKC8CB\n",
      "gNU5zVppLnU1FHgKiYR43mur4RPPpJlqFBn6n9XhEKFJO8VSR3McZ6OcYi9WAUqW4M92dsWKC8CBd\n",
      "gNU5zVppLnU1FHgKiYR43mur4RPPpJlqFBn6n9XhEKFJO8VSR3McZ6OcYi9WAUqW4M92dsWKC8CBdY\n",
      "gNU5zVppLnU1FHgKiYR43mur4RPPpJlqFBn6n9XhEKFJO8VSR3McZ6OcYi9WAUqW4M92dsWKC8CBdYZ\n",
      "gNU5zVppLnU1FHgKiYR43mur4RPPpJlqFBn6n9XhEKFJO8VSR3McZ6OcYi9WAUqW4M92dsWKC8CBdYZr\n",
      "gNU5zVppLnU1FHgKiYR43mur4RPPpJlqFBn6n9XhEKFJO8VSR3McZ6OcYi9WAUqW4M92dsWKC8CBdYZrY\n",
      "gNU5zVppLnU1FHgKiYR43mur4RPPpJlqFBn6n9XhEKFJO8VSR3McZ6OcYi9WAUqW4M92dsWKC8CBdYZrYn\n",
      "gNU5zVppLnU1FHgKiYR43mur4RPPpJlqFBn6n9XhEKFJO8VSR3McZ6OcYi9WAUqW4M92dsWKC8CBdYZrYnm\n",
      "gNU5zVppLnU1FHgKiYR43mur4RPPpJlqFBn6n9XhEKFJO8VSR3McZ6OcYi9WAUqW4M92dsWKC8CBdYZrYnmA\n",
      "gNU5zVppLnU1FHgKiYR43mur4RPPpJlqFBn6n9XhEKFJO8VSR3McZ6OcYi9WAUqW4M92dsWKC8CBdYZrYnmAM\n",
      "gNU5zVppLnU1FHgKiYR43mur4RPPpJlqFBn6n9XhEKFJO8VSR3McZ6OcYi9WAUqW4M92dsWKC8CBdYZrYnmAMi\n",
      "gNU5zVppLnU1FHgKiYR43mur4RPPpJlqFBn6n9XhEKFJO8VSR3McZ6OcYi9WAUqW4M92dsWKC8CBdYZrYnmAMig\n",
      "gNU5zVppLnU1FHgKiYR43mur4RPPpJlqFBn6n9XhEKFJO8VSR3McZ6OcYi9WAUqW4M92dsWKC8CBdYZrYnmAMigt\n",
      "gNU5zVppLnU1FHgKiYR43mur4RPPpJlqFBn6n9XhEKFJO8VSR3McZ6OcYi9WAUqW4M92dsWKC8CBdYZrYnmAMigt4\n",
      "gNU5zVppLnU1FHgKiYR43mur4RPPpJlqFBn6n9XhEKFJO8VSR3McZ6OcYi9WAUqW4M92dsWKC8CBdYZrYnmAMigt4G\n",
      "gNU5zVppLnU1FHgKiYR43mur4RPPpJlqFBn6n9XhEKFJO8VSR3McZ6OcYi9WAUqW4M92dsWKC8CBdYZrYnmAMigt4Gt\n",
      "gNU5zVppLnU1FHgKiYR43mur4RPPpJlqFBn6n9XhEKFJO8VSR3McZ6OcYi9WAUqW4M92dsWKC8CBdYZrYnmAMigt4GtH\n",
      "gNU5zVppLnU1FHgKiYR43mur4RPPpJlqFBn6n9XhEKFJO8VSR3McZ6OcYi9WAUqW4M92dsWKC8CBdYZrYnmAMigt4GtH6\n",
      "gNU5zVppLnU1FHgKiYR43mur4RPPpJlqFBn6n9XhEKFJO8VSR3McZ6OcYi9WAUqW4M92dsWKC8CBdYZrYnmAMigt4GtH6G\n",
      "gNU5zVppLnU1FHgKiYR43mur4RPPpJlqFBn6n9XhEKFJO8VSR3McZ6OcYi9WAUqW4M92dsWKC8CBdYZrYnmAMigt4GtH6GQ\n",
      "gNU5zVppLnU1FHgKiYR43mur4RPPpJlqFBn6n9XhEKFJO8VSR3McZ6OcYi9WAUqW4M92dsWKC8CBdYZrYnmAMigt4GtH6GQ1\n",
      "gNU5zVppLnU1FHgKiYR43mur4RPPpJlqFBn6n9XhEKFJO8VSR3McZ6OcYi9WAUqW4M92dsWKC8CBdYZrYnmAMigt4GtH6GQ1C\n",
      "gNU5zVppLnU1FHgKiYR43mur4RPPpJlqFBn6n9XhEKFJO8VSR3McZ6OcYi9WAUqW4M92dsWKC8CBdYZrYnmAMigt4GtH6GQ1CR\n",
      "gNU5zVppLnU1FHgKiYR43mur4RPPpJlqFBn6n9XhEKFJO8VSR3McZ6OcYi9WAUqW4M92dsWKC8CBdYZrYnmAMigt4GtH6GQ1CRR\n",
      "gNU5zVppLnU1FHgKiYR43mur4RPPpJlqFBn6n9XhEKFJO8VSR3McZ6OcYi9WAUqW4M92dsWKC8CBdYZrYnmAMigt4GtH6GQ1CRRH\n"
     ]
    },
    {
     "data": {
      "text/plain": [
       "'gNU5zVppLnU1FHgKiYR43mur4RPPpJlqFBn6n9XhEKFJO8VSR3McZ6OcYi9WAUqW4M92dsWKC8CBdYZrYnmAMigt4GtH6GQ1CRRH'"
      ]
     },
     "execution_count": 36,
     "metadata": {},
     "output_type": "execute_result"
    }
   ],
   "source": [
    "generuj_haslo(100)  # Przetestuj funkcję!"
   ]
  },
  {
   "cell_type": "code",
   "execution_count": 23,
   "metadata": {},
   "outputs": [
    {
     "data": {
      "text/plain": [
       "0"
      ]
     },
     "execution_count": 23,
     "metadata": {},
     "output_type": "execute_result"
    }
   ],
   "source": [
    "len('')"
   ]
  },
  {
   "cell_type": "code",
   "execution_count": null,
   "metadata": {},
   "outputs": [],
   "source": []
  }
 ],
 "metadata": {
  "kernelspec": {
   "display_name": "Python 3",
   "language": "python",
   "name": "python3"
  },
  "language_info": {
   "codemirror_mode": {
    "name": "ipython",
    "version": 3
   },
   "file_extension": ".py",
   "mimetype": "text/x-python",
   "name": "python",
   "nbconvert_exporter": "python",
   "pygments_lexer": "ipython3",
   "version": "3.7.3"
  }
 },
 "nbformat": 4,
 "nbformat_minor": 2
}
