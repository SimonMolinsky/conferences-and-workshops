{
 "cells": [
  {
   "cell_type": "markdown",
   "metadata": {},
   "source": [
    "# Python podstawy, część 1: zmienne\n",
    "\n",
    "Zmienne w Pythonie (i innych językach programowania) to \"pojemniki\", które przechowują wartości danych. Innymi słowy, są to nazwy, które nadajemy informacjom przetwarzanym przez komputer.\n",
    "\n",
    "Zmienna ma swój typ **(int, float, complex, str)** tzn.: za pomocą zmiennych różnych typów opisujemy:\n",
    "* int: liczby całkowite,\n",
    "* float: liczby rzeczywiste,\n",
    "* complex: liczby zespolone,\n",
    "* str: ciągi znaków,\n",
    "* bool: wartości prawda i fałsz (True / False).\n",
    "\n",
    "Python wprowadza zasady odnośnie nazw zmiennych:\n",
    "- zmienna musi zaczynać się od angielskiej litery albo podkreślnika, np.:"
   ]
  },
  {
   "cell_type": "markdown",
   "metadata": {},
   "source": [
    "zmienna = 0\n",
    "_zmienna = 0"
   ]
  },
  {
   "cell_type": "code",
   "execution_count": 1,
   "metadata": {},
   "outputs": [],
   "source": [
    "zmienna = 10"
   ]
  },
  {
   "cell_type": "code",
   "execution_count": 2,
   "metadata": {},
   "outputs": [
    {
     "data": {
      "text/plain": [
       "10"
      ]
     },
     "execution_count": 2,
     "metadata": {},
     "output_type": "execute_result"
    }
   ],
   "source": [
    "zmienna"
   ]
  },
  {
   "cell_type": "code",
   "execution_count": 3,
   "metadata": {},
   "outputs": [
    {
     "name": "stdout",
     "output_type": "stream",
     "text": [
      "10\n"
     ]
    }
   ],
   "source": [
    "print(zmienna)"
   ]
  },
  {
   "cell_type": "code",
   "execution_count": 4,
   "metadata": {},
   "outputs": [],
   "source": [
    "zmienna_str = 'to jest tekst'"
   ]
  },
  {
   "cell_type": "code",
   "execution_count": 5,
   "metadata": {},
   "outputs": [
    {
     "name": "stdout",
     "output_type": "stream",
     "text": [
      "to jest tekst\n"
     ]
    }
   ],
   "source": [
    "print(zmienna_str)"
   ]
  },
  {
   "cell_type": "code",
   "execution_count": 6,
   "metadata": {},
   "outputs": [
    {
     "data": {
      "text/plain": [
       "str"
      ]
     },
     "execution_count": 6,
     "metadata": {},
     "output_type": "execute_result"
    }
   ],
   "source": [
    "type(zmienna_str)"
   ]
  },
  {
   "cell_type": "markdown",
   "metadata": {},
   "source": [
    "- zmienna nie może zaczynać się od numeru, czyli:"
   ]
  },
  {
   "cell_type": "code",
   "execution_count": 8,
   "metadata": {},
   "outputs": [],
   "source": [
    "_zmienna = 0"
   ]
  },
  {
   "cell_type": "markdown",
   "metadata": {},
   "source": [
    "- zmienna może być stworzona tylko ze znaków alfanumerycznych i podkreślnika,\n",
    "- wielkość znaków MA znaczenie."
   ]
  },
  {
   "cell_type": "code",
   "execution_count": 9,
   "metadata": {},
   "outputs": [
    {
     "name": "stdout",
     "output_type": "stream",
     "text": [
      "4422153416 4426248408\n",
      "False\n"
     ]
    }
   ],
   "source": [
    "Zmienna = 10.09\n",
    "zmieNNA = 10.09\n",
    "\n",
    "print(id(Zmienna), id(zmieNNA))\n",
    "print(id(Zmienna) == id(zmieNNA))"
   ]
  },
  {
   "cell_type": "markdown",
   "metadata": {},
   "source": [
    "ale:"
   ]
  },
  {
   "cell_type": "code",
   "execution_count": 10,
   "metadata": {},
   "outputs": [
    {
     "name": "stdout",
     "output_type": "stream",
     "text": [
      "4367533760 4367533760\n",
      "True\n"
     ]
    }
   ],
   "source": [
    "Zmienna = 10\n",
    "zmieNNA = 10\n",
    "\n",
    "print(id(Zmienna), id(zmieNNA))\n",
    "print(id(Zmienna) == id(zmieNNA))"
   ]
  },
  {
   "cell_type": "markdown",
   "metadata": {},
   "source": [
    "## Ćwiczenie 1: przypisanie wartości do zmiennych\n",
    "\n",
    "Przypisz wartości:\n",
    "- 10,\n",
    "- 0.45,\n",
    "- 7j,\n",
    "- 'tekst'\n",
    "\n",
    "do wybranych zmiennych i sprawdź ich typ - przykład w komórce poniżej."
   ]
  },
  {
   "cell_type": "code",
   "execution_count": null,
   "metadata": {},
   "outputs": [],
   "source": [
    "zmienna = 1\n",
    "type(zmienna)"
   ]
  },
  {
   "cell_type": "code",
   "execution_count": 11,
   "metadata": {},
   "outputs": [
    {
     "data": {
      "text/plain": [
       "int"
      ]
     },
     "execution_count": 11,
     "metadata": {},
     "output_type": "execute_result"
    }
   ],
   "source": [
    "# Miejsce na twój kod\n",
    "\n",
    "liczba_calkowita = 10\n",
    "type(liczba_calkowita)\n",
    "\n"
   ]
  },
  {
   "cell_type": "code",
   "execution_count": 12,
   "metadata": {},
   "outputs": [
    {
     "data": {
      "text/plain": [
       "float"
      ]
     },
     "execution_count": 12,
     "metadata": {},
     "output_type": "execute_result"
    }
   ],
   "source": [
    "liczba_rzecz = 0.45\n",
    "type(liczba_rzecz)"
   ]
  },
  {
   "cell_type": "code",
   "execution_count": 13,
   "metadata": {},
   "outputs": [
    {
     "data": {
      "text/plain": [
       "complex"
      ]
     },
     "execution_count": 13,
     "metadata": {},
     "output_type": "execute_result"
    }
   ],
   "source": [
    "liczba_zesp = 7j\n",
    "type(liczba_zesp)"
   ]
  },
  {
   "cell_type": "code",
   "execution_count": null,
   "metadata": {},
   "outputs": [],
   "source": []
  },
  {
   "cell_type": "markdown",
   "metadata": {},
   "source": [
    "## Ćwiczenie 2: Podstawowe operacje na zmiennych\n",
    "\n",
    "### A) Dodawanie:"
   ]
  },
  {
   "cell_type": "code",
   "execution_count": 14,
   "metadata": {},
   "outputs": [
    {
     "name": "stdout",
     "output_type": "stream",
     "text": [
      "15\n"
     ]
    }
   ],
   "source": [
    "a = 5\n",
    "b = 10\n",
    "c = a + b\n",
    "print(c)"
   ]
  },
  {
   "cell_type": "markdown",
   "metadata": {},
   "source": [
    "### B) Odejmowanie:"
   ]
  },
  {
   "cell_type": "code",
   "execution_count": 15,
   "metadata": {},
   "outputs": [
    {
     "name": "stdout",
     "output_type": "stream",
     "text": [
      "-5\n"
     ]
    }
   ],
   "source": [
    "a = 5\n",
    "b = 10\n",
    "c = a - b\n",
    "print(c)"
   ]
  },
  {
   "cell_type": "markdown",
   "metadata": {},
   "source": [
    "### C) Mnożenie:"
   ]
  },
  {
   "cell_type": "code",
   "execution_count": 16,
   "metadata": {},
   "outputs": [
    {
     "name": "stdout",
     "output_type": "stream",
     "text": [
      "50\n"
     ]
    }
   ],
   "source": [
    "a = 5\n",
    "b = 10\n",
    "c = a * b\n",
    "print(c)"
   ]
  },
  {
   "cell_type": "markdown",
   "metadata": {},
   "source": [
    "### D) Dzielenie:"
   ]
  },
  {
   "cell_type": "code",
   "execution_count": 17,
   "metadata": {},
   "outputs": [
    {
     "name": "stdout",
     "output_type": "stream",
     "text": [
      "0.5\n"
     ]
    }
   ],
   "source": [
    "a = 5\n",
    "b = 10\n",
    "c = a / b\n",
    "print(c)"
   ]
  },
  {
   "cell_type": "markdown",
   "metadata": {},
   "source": [
    "Teraz twoja kolej: przetestuj te wszystkie operacje dla pozostałych typów zmiennych:\n",
    "\n",
    "\n",
    "1) Dodaj dwie zmienne typu float (liczby zmiennoprzecinkowe),\n",
    "\n",
    "2) Odejmij od zmiennej typu int zmienną typu float,\n",
    "\n",
    "3) Pomnóż zmienną typu str ze zmienną typu int (!),\n",
    "\n",
    "4) Dodaj dwie zmienne typu str,\n",
    "\n",
    "5) Dodaj do siebie zmienną bool True i False, jaki jest wynik?"
   ]
  },
  {
   "cell_type": "code",
   "execution_count": 19,
   "metadata": {},
   "outputs": [
    {
     "name": "stdout",
     "output_type": "stream",
     "text": [
      "0.30000000000000004\n"
     ]
    }
   ],
   "source": [
    "zmienna = 0.1\n",
    "zmienna_2 = 0.2\n",
    "wynik = zmienna + zmienna_2\n",
    "print(wynik)"
   ]
  },
  {
   "cell_type": "code",
   "execution_count": 20,
   "metadata": {},
   "outputs": [
    {
     "name": "stdout",
     "output_type": "stream",
     "text": [
      "0.6600000000000001\n"
     ]
    }
   ],
   "source": [
    "# 2\n",
    "\n",
    "l_calkowita = 10\n",
    "l_rz = 9.34\n",
    "print(l_calkowita - l_rz)"
   ]
  },
  {
   "cell_type": "code",
   "execution_count": 21,
   "metadata": {},
   "outputs": [
    {
     "name": "stdout",
     "output_type": "stream",
     "text": [
      "tekstteksttekst\n"
     ]
    }
   ],
   "source": [
    "# 3\n",
    "\n",
    "tekst = 'tekst'\n",
    "liczba = 3\n",
    "print(tekst * liczba)"
   ]
  },
  {
   "cell_type": "code",
   "execution_count": 22,
   "metadata": {},
   "outputs": [
    {
     "name": "stdout",
     "output_type": "stream",
     "text": [
      "to jest tekst\n"
     ]
    }
   ],
   "source": [
    "# 4\n",
    "\n",
    "tekst_pierwszy = 'to jest'\n",
    "tekst_drugi = ' tekst'\n",
    "print(tekst_pierwszy + tekst_drugi)"
   ]
  },
  {
   "cell_type": "code",
   "execution_count": 25,
   "metadata": {},
   "outputs": [
    {
     "data": {
      "text/plain": [
       "False"
      ]
     },
     "execution_count": 25,
     "metadata": {},
     "output_type": "execute_result"
    }
   ],
   "source": [
    "True and False"
   ]
  },
  {
   "cell_type": "code",
   "execution_count": null,
   "metadata": {},
   "outputs": [],
   "source": []
  },
  {
   "cell_type": "code",
   "execution_count": null,
   "metadata": {},
   "outputs": [],
   "source": []
  },
  {
   "cell_type": "markdown",
   "metadata": {},
   "source": [
    "## Ćwiczenie 3: Operacje boolowskie na zmiennych\n",
    "\n",
    "Python umożliwia przeprowadzenie wszystkich operacji porównania:\n",
    "- to, czy zmienne są różne: !=\n",
    "- to, czy zmienne są takie same: ==\n",
    "- to, czy jedna zmienna jest większa niż inna: >\n",
    "- to, czy jedna zmienna jest mniejsza niż inna: <\n",
    "- to czy jedna zmienna jest większa lub równa niż inna: >=\n",
    "- to czy jedna zmienna jest mniejsza lub równa niż inna: <=\n",
    "\n",
    "Operacje porównania używane są zwykle do sprawdzania, czy dane którymi operujemy, są zgodne z tym, czego oczekuje się od programu albo służą ustalaniu kolejności wykonywania operacji (co może być ze sobą powiązane).\n",
    "\n",
    "Przećwiczymy różne operacje boolowskie na zmiennych."
   ]
  },
  {
   "cell_type": "markdown",
   "metadata": {},
   "source": [
    "* Sprawdź, czy 1 nie równa się 10\n",
    "* Sprawdź, czy 1 równa się '1'\n",
    "* Sprawdź, czy 'Hello World' równa się 'Hello World'\n",
    "* Sprawdź, czy 10 jest większe lub równe 10.0\n",
    "* Sprawdź, czy 0.99 do potęgi 5 jest większe niż 0.5 (w Pythonie potęguje się przez podwójną gwiazdkę, przykład w komórce poniżej):"
   ]
  },
  {
   "cell_type": "code",
   "execution_count": 38,
   "metadata": {},
   "outputs": [
    {
     "ename": "SyntaxError",
     "evalue": "can't assign to literal (<ipython-input-38-a59dd09a7517>, line 1)",
     "output_type": "error",
     "traceback": [
      "\u001b[0;36m  File \u001b[0;32m\"<ipython-input-38-a59dd09a7517>\"\u001b[0;36m, line \u001b[0;32m1\u001b[0m\n\u001b[0;31m    '1' = 10\u001b[0m\n\u001b[0m            ^\u001b[0m\n\u001b[0;31mSyntaxError\u001b[0m\u001b[0;31m:\u001b[0m can't assign to literal\n"
     ]
    }
   ],
   "source": [
    "'1' = 10"
   ]
  },
  {
   "cell_type": "code",
   "execution_count": 33,
   "metadata": {},
   "outputs": [
    {
     "data": {
      "text/plain": [
       "False"
      ]
     },
     "execution_count": 33,
     "metadata": {},
     "output_type": "execute_result"
    }
   ],
   "source": [
    "1 == '1'"
   ]
  },
  {
   "cell_type": "code",
   "execution_count": 34,
   "metadata": {},
   "outputs": [
    {
     "data": {
      "text/plain": [
       "True"
      ]
     },
     "execution_count": 34,
     "metadata": {},
     "output_type": "execute_result"
    }
   ],
   "source": [
    "'Hello World' == 'Hello World'"
   ]
  },
  {
   "cell_type": "code",
   "execution_count": 36,
   "metadata": {},
   "outputs": [
    {
     "data": {
      "text/plain": [
       "True"
      ]
     },
     "execution_count": 36,
     "metadata": {},
     "output_type": "execute_result"
    }
   ],
   "source": [
    "10 == 10.0"
   ]
  },
  {
   "cell_type": "code",
   "execution_count": 39,
   "metadata": {},
   "outputs": [
    {
     "data": {
      "text/plain": [
       "True"
      ]
     },
     "execution_count": 39,
     "metadata": {},
     "output_type": "execute_result"
    }
   ],
   "source": [
    "0.99**5 > 0.5"
   ]
  },
  {
   "cell_type": "markdown",
   "metadata": {},
   "source": [
    "## Ćwiczenie 4: Operacje na ciągach znaków\n",
    "\n",
    "Praca inżyniera danych jak i programisty często polega na przetwarzaniu ciągów znaków: nazw produktów, imion i nazwisk, loginów i haseł, wpisów na blogach albo artykułów w internetowych wiadomościach. Stąd trzeba przyłożyć dużą wagę do tych zagadnień.\n",
    "\n",
    "Inicjowałeś już zmienne typu string i wiesz, że można je do siebie dodawać. Teraz poznasz kolejne operacje, które mogą być na nich wykonywane.\n",
    "\n",
    "---\n",
    "\n",
    "Przekopiuj ten tekst do jednej zmiennej: 'Python is '\n",
    "\n",
    "A ten do drugiej zmiennej: 'awesome programming language.'\n",
    "\n",
    "A ten do trzeciej zmiennej: 'Java Script too, try it!'\n",
    "\n",
    "---\n",
    "\n",
    "Od teraz będziesz pracować na tych trzech ciągach znaków."
   ]
  },
  {
   "cell_type": "code",
   "execution_count": 50,
   "metadata": {},
   "outputs": [],
   "source": [
    "z1 = 'Python is '\n",
    "z2 = 'awesome programming language.'\n",
    "z3 = 'Java Script too, try it!'"
   ]
  },
  {
   "cell_type": "markdown",
   "metadata": {},
   "source": [
    "> Zadanie 1: Dodaj do siebie zmienne phrase_1 i phrase_2 i wyświetl je za pomocą metody print()"
   ]
  },
  {
   "cell_type": "code",
   "execution_count": 51,
   "metadata": {},
   "outputs": [
    {
     "name": "stdout",
     "output_type": "stream",
     "text": [
      "Python is awesome programming language.\n"
     ]
    }
   ],
   "source": [
    "zmienna = z1 + z2\n",
    "print(zmienna)"
   ]
  },
  {
   "cell_type": "markdown",
   "metadata": {},
   "source": [
    "> Zadanie 2: sprawdź liczbę znaków we frazie. Wykorzystaj metodę len(zmienna_będąca_ciągiem_znaków)"
   ]
  },
  {
   "cell_type": "code",
   "execution_count": 52,
   "metadata": {},
   "outputs": [
    {
     "data": {
      "text/plain": [
       "39"
      ]
     },
     "execution_count": 52,
     "metadata": {},
     "output_type": "execute_result"
    }
   ],
   "source": [
    "len(zmienna)"
   ]
  },
  {
   "cell_type": "markdown",
   "metadata": {},
   "source": [
    "> Zadanie 3: Uwórz nową zmienną i dodaj do siebie wszystkie łańcuchy znaków (phrase_1, phrase_2 i phrase_3). Następnie znajdź we frazie pozycję słów 'Java Script'. Użyj do tego metody find() - przykład poniżej."
   ]
  },
  {
   "cell_type": "code",
   "execution_count": null,
   "metadata": {},
   "outputs": [],
   "source": [
    "z = 'To jest przykład wykorzystania metody find'\n",
    "z.find('przykład')"
   ]
  },
  {
   "cell_type": "code",
   "execution_count": 54,
   "metadata": {},
   "outputs": [
    {
     "name": "stdout",
     "output_type": "stream",
     "text": [
      "39\n"
     ]
    }
   ],
   "source": [
    "nowa_zmienna = z1 + z2 + z3\n",
    "js = 'Java Script'\n",
    "js_pos = nowa_zmienna.find(js)\n",
    "print(js_pos)"
   ]
  },
  {
   "cell_type": "markdown",
   "metadata": {},
   "source": [
    "> Zadanie 4: Wykorzystaj wiedzę z poprzedniego zadania wraz ze specjalną własnością Pythona odnoszącą się do adresowania znaków w ciągach liter i utwórz nową zmienną, która będzie składać się z tekstu 'Python is awesome programming language, try it!'. Możesz to zrobić na kilka sposobów, ale wykorzystując tylko zmienne phrase_1, phrase_2 i phrase_3, operacje adresowania, metodę find i dodawanie łańcuchów znaków. \n",
    "Kluczem do rozwiązania jest adresowanie znaków. W przykładzie wyżej użyłeś metody find(), która wskazała miejsce, od którego rozpoczyna się dana fraza. Znając to miejsce, (jak i dowolne inne, zawierające się w długości łańcucha znaków), możesz manipulować łańcuchem znaków. Zwróć uwagę na kwadratowe nawiasy i dwukropki wewnątrz nich:"
   ]
  },
  {
   "cell_type": "code",
   "execution_count": null,
   "metadata": {},
   "outputs": [],
   "source": [
    "z = 'To jest przykład wykorzystania metody find'\n",
    "pozycja_przykladu = z.find('przykład')\n",
    "print(z[pozycja_przykladu:])  # przycina zdanie [od 8 znaku : {domyślnie do końca jeśli nie podamy żadnej liczby}]\n",
    "print(z[:pozycja_przykladu])  # przycina zdanie [{domyślnie od początku jeśli nie podamy żadnej liczby}: do 8 znaku]\n",
    "print(z[pozycja_przykladu:pozycja_przykladu+len('przyklad')])  # nieco bardziej zaawansowane wykorzystanie metody"
   ]
  },
  {
   "cell_type": "code",
   "execution_count": 63,
   "metadata": {},
   "outputs": [
    {
     "name": "stdout",
     "output_type": "stream",
     "text": [
      "Python is awesome programming language.Java Script too, try it!\n",
      "38\n",
      "54\n",
      "Python is awesome programming language\n",
      ", try it!\n",
      "Python is awesome programming language, try it!\n"
     ]
    }
   ],
   "source": [
    "# 'Python is awesome programming language, try it!'\n",
    "\n",
    "js_z = '.Java Script too'\n",
    "comma = ','\n",
    "place = nowa_zmienna.find(js_z)\n",
    "comma_place = nowa_zmienna.find(comma)\n",
    "output1 = nowa_zmienna[:place]\n",
    "output2 = nowa_zmienna[comma_place:]\n",
    "output = output1 + output2\n",
    "print(nowa_zmienna)\n",
    "print(place)\n",
    "print(comma_place)\n",
    "print(output1)\n",
    "print(output2)\n",
    "print(output)"
   ]
  },
  {
   "cell_type": "code",
   "execution_count": 69,
   "metadata": {},
   "outputs": [
    {
     "name": "stdout",
     "output_type": "stream",
     "text": [
      "38\n",
      "16\n",
      "54\n",
      "Python is awesome programming language, try it!\n"
     ]
    }
   ],
   "source": [
    "js_z = '.Java Script too'\n",
    "place = nowa_zmienna.find(js_z)\n",
    "length = len(js_z)\n",
    "place_2 = place + length\n",
    "output1 = nowa_zmienna[:place]\n",
    "output2 = nowa_zmienna[place_2:]\n",
    "output = output1 + output2\n",
    "print(place)\n",
    "print(length)\n",
    "print(place_2)\n",
    "print(output)"
   ]
  },
  {
   "cell_type": "code",
   "execution_count": 66,
   "metadata": {},
   "outputs": [
    {
     "data": {
      "text/plain": [
       "54"
      ]
     },
     "execution_count": 66,
     "metadata": {},
     "output_type": "execute_result"
    }
   ],
   "source": [
    "38 + 16"
   ]
  },
  {
   "cell_type": "markdown",
   "metadata": {},
   "source": [
    "> Zadanie 5: zliczanie znaków. Zastosuj metodę count() do zliczenia ile razy w tekście wystąpiła litera 'i'."
   ]
  },
  {
   "cell_type": "code",
   "execution_count": 70,
   "metadata": {},
   "outputs": [],
   "source": [
    "# Tekst zaczerpnięty z artykułu Patti Miller - https://www.theguardian.com/books/2019/jul/25/walking-helped-me-discover-the-slow-unfurling-joy-of-reading-books-aloud\n",
    "\n",
    "phrase = 'The next year, walking 270km westwards across the Massif Centrale in France, The Way of the World by Nicolas Bouvier came with us. I remember one evening on a farm, sitting on the front veranda of our cabin, waiting for a rare blue moon to rise as Anthony read of the glorious blue tiles on the Royal Mosque at Isfahan.'"
   ]
  },
  {
   "cell_type": "code",
   "execution_count": 73,
   "metadata": {},
   "outputs": [
    {
     "data": {
      "text/plain": [
       "17"
      ]
     },
     "execution_count": 73,
     "metadata": {},
     "output_type": "execute_result"
    }
   ],
   "source": [
    "phrase.count('i') + phrase.count('I')"
   ]
  },
  {
   "cell_type": "markdown",
   "metadata": {},
   "source": [
    "> Zadanie 6: Teraz zlicz wszystkie litery, i wielkie, i małe litery 'i' w tekście z poprzedniego zadania. Pomocne mogą się okazać metody lower() albo upper()."
   ]
  },
  {
   "cell_type": "code",
   "execution_count": 78,
   "metadata": {},
   "outputs": [
    {
     "data": {
      "text/plain": [
       "17"
      ]
     },
     "execution_count": 78,
     "metadata": {},
     "output_type": "execute_result"
    }
   ],
   "source": [
    "phrase_upper = phrase.upper()\n",
    "phrase_upper.count('I')"
   ]
  },
  {
   "cell_type": "code",
   "execution_count": null,
   "metadata": {},
   "outputs": [],
   "source": []
  },
  {
   "cell_type": "markdown",
   "metadata": {},
   "source": [
    "> Zadanie 7: W każdym łańcuchu znaków możesz usunąć wybrany ciąg znaków i zastąpić go innym znakiem. Bardzo często trzeba zamieniać przecinki na kropki i odwrotnie, jeśli wczytujesz ciągi liczb zapisane w systemie polskim albo anglosaskim. Wykorzystaj metodę replace i zamień wszystkie spacje w ciągu znaków \"10 11 12 13\" na przecinki. Przykład poniżej:"
   ]
  },
  {
   "cell_type": "code",
   "execution_count": 79,
   "metadata": {},
   "outputs": [
    {
     "data": {
      "text/plain": [
       "'po jesp przykładowy peksp'"
      ]
     },
     "execution_count": 79,
     "metadata": {},
     "output_type": "execute_result"
    }
   ],
   "source": [
    "z = 'to jest przykładowy tekst'\n",
    "z.replace('/&NFG', 'ł')"
   ]
  },
  {
   "cell_type": "code",
   "execution_count": 80,
   "metadata": {},
   "outputs": [
    {
     "data": {
      "text/plain": [
       "'10,11,12,13'"
      ]
     },
     "execution_count": 80,
     "metadata": {},
     "output_type": "execute_result"
    }
   ],
   "source": [
    "zmienna = \"10 11 12 13\"\n",
    "zmienna_2 = zmienna.replace(' ', ',')\n",
    "zmienna_2"
   ]
  },
  {
   "cell_type": "code",
   "execution_count": null,
   "metadata": {},
   "outputs": [],
   "source": []
  }
 ],
 "metadata": {
  "kernelspec": {
   "display_name": "Python 3",
   "language": "python",
   "name": "python3"
  },
  "language_info": {
   "codemirror_mode": {
    "name": "ipython",
    "version": 3
   },
   "file_extension": ".py",
   "mimetype": "text/x-python",
   "name": "python",
   "nbconvert_exporter": "python",
   "pygments_lexer": "ipython3",
   "version": "3.7.3"
  }
 },
 "nbformat": 4,
 "nbformat_minor": 2
}
