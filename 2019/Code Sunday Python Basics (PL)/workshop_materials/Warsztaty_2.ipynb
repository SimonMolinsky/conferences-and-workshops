{
 "cells": [
  {
   "cell_type": "markdown",
   "metadata": {},
   "source": [
    "# Python podstawy, część 2: operacje wejścia/wyjścia (I/O)\n",
    "\n",
    "Znając podstawowe typy zmiennych Pythona możesz rozpocząć swoją przygodę z programowaniem. Jednakże sensowne tworzenie aplikacji wymaga umiejętności odczytywania i zapisywania danych. Wszystkie obliczenia czy przekształcenia są do niczego jeśli gdzieś nie zachowa się wyników albo infomracji wejściowych. Przykładowo: gdyby MS Word umożliwiał tylko pisanie dokumentów bez możliwości ich zapisywania, wystarczyłaby awaria albo chwila nieuwagi i cała praca poszłaby na marne.\n",
    "\n",
    "W tej części kursu nauczymy się odczytywać pliki jak i je zapisywać. Zaczniemy od plików tekstów, ze względu na to, że są bardzo intuicyjne. Za to w ramach projektu odczytamy i wyświetlimy zdjęcie, żeby pokazać, że Python pozwala na obróbkę nie tylko tekstu ale również obrazów, muzyki, danych binarnych i wielu innych formatów plików.\n",
    "\n",
    "Na początku celem jest określenie, jakie pliki właściwie znajdują się w folderze, który nas interesuje. By to zrobić, należy skorzystać z modułu Pythona. W Projekcie 1 wykorzystywaliśmy dwa moduły _string_ i _random_. Tym razem skorzystamy z modułu _os_ (skrót od operating system).\n",
    "\n",
    "Zaimportuj ten moduł do środowiska pracy."
   ]
  },
  {
   "cell_type": "code",
   "execution_count": 1,
   "metadata": {},
   "outputs": [],
   "source": [
    "import os"
   ]
  },
  {
   "cell_type": "markdown",
   "metadata": {},
   "source": [
    "Po imporcie modułu mozemy przystąpić do stworzenia listy plików z folderu \"pliki\" znajdującego się wewnątrz naszego katalogu. \"Lista plików\" to specyficzny typ danych. _Lista_ grupuje elementy jednego typu i tworzona jest za pomocą nawiasów kwadratowych z wartościami oddzielanymi przecinkami. Przykłady list znajdują się poniżej:"
   ]
  },
  {
   "cell_type": "code",
   "execution_count": 14,
   "metadata": {},
   "outputs": [
    {
     "data": {
      "text/plain": [
       "0.99"
      ]
     },
     "execution_count": 14,
     "metadata": {},
     "output_type": "execute_result"
    }
   ],
   "source": [
    "lista = ['s', 1, 0.99]\n",
    "lista[3-1]"
   ]
  },
  {
   "cell_type": "markdown",
   "metadata": {},
   "source": [
    "Do elementów w listach możemy się odwoływać tak samo jak do pozycji liter w łańcuchach znaków przez zapis zmiennej z nawiasem kwadratowym z podaną pozycją elementu:"
   ]
  },
  {
   "cell_type": "code",
   "execution_count": 3,
   "metadata": {},
   "outputs": [
    {
     "name": "stdout",
     "output_type": "stream",
     "text": [
      "2\n"
     ]
    }
   ],
   "source": [
    "cyfra_dwa = lista_cyfr[1]\n",
    "print(cyfra_dwa)"
   ]
  },
  {
   "cell_type": "markdown",
   "metadata": {},
   "source": [
    "Listy można też ograniczać, tak samo jak ciągi znaków, przez zapis z nawiasem kwadratowym i dwukropkiem:"
   ]
  },
  {
   "cell_type": "code",
   "execution_count": 19,
   "metadata": {},
   "outputs": [
    {
     "data": {
      "text/plain": [
       "['send', 'cut']"
      ]
     },
     "execution_count": 19,
     "metadata": {},
     "output_type": "execute_result"
    }
   ],
   "source": [
    "lista = [['print', 'copy'], 'send', 'cut', 'paste']\n",
    "lista[1:3]"
   ]
  },
  {
   "cell_type": "markdown",
   "metadata": {},
   "source": [
    "Ostatnie zagadnienie związane z listami to ich zagnieżdżanie. Listy mogą przechowywać dowolne obiekty, w tym inne listy. Stąd, by dostać się do cyfry 3 w zmiennej lista_list należy wpisać \"dwupoziomowy\" adres:"
   ]
  },
  {
   "cell_type": "code",
   "execution_count": 22,
   "metadata": {},
   "outputs": [
    {
     "data": {
      "text/plain": [
       "'y'"
      ]
     },
     "execution_count": 22,
     "metadata": {},
     "output_type": "execute_result"
    }
   ],
   "source": [
    "lista[0][1][3]"
   ]
  },
  {
   "cell_type": "markdown",
   "metadata": {},
   "source": [
    "Do list wrócimy jeszcze w dalszej części kursu ponieważ są one bardzo przydatnym narzędziem. A teraz wróćmy do naszego zadania, czyli stworzenia listy plików w wybranym folderze. Jak to zrobić? Inicjujemy zmienną, która przechowa naszą listę i wywołujemy metodę os.listdir():"
   ]
  },
  {
   "cell_type": "code",
   "execution_count": 23,
   "metadata": {},
   "outputs": [],
   "source": [
    "bazowa_sciezka = 'pliki/'\n",
    "lista_plikow = os.listdir(bazowa_sciezka)  # Twoim zadaniem jest uzupełnienie wartości w nawiasie: https://docs.python.org/3/library/os.html"
   ]
  },
  {
   "cell_type": "code",
   "execution_count": 26,
   "metadata": {},
   "outputs": [
    {
     "name": "stdout",
     "output_type": "stream",
     "text": [
      "['.DS_Store', 'pytonki.txt', 'Liasis_mackloti_savuensis_3.jpg', '.ipynb_checkpoints']\n",
      "pytonki.txt\n"
     ]
    }
   ],
   "source": [
    "print(lista_plikow)\n",
    "print(lista_plikow[1])"
   ]
  },
  {
   "cell_type": "markdown",
   "metadata": {},
   "source": [
    "Posiadając listę plików czas na \"otworzenie\" swojego pierwszego pliku. Nas interesuje plik \"pytonki.txt\". By go otworzyć, musisz podać do niego pełną ścieżkę czyli musisz połączyć dwa łańcuchy znaków, przykład takiego połączenia dla naszej listy wygląda następująco:"
   ]
  },
  {
   "cell_type": "code",
   "execution_count": 28,
   "metadata": {},
   "outputs": [
    {
     "name": "stdout",
     "output_type": "stream",
     "text": [
      "To po dodaniu str:\n",
      " pliki/pytonki.txt\n",
      "\n",
      "To, po wykorzystaniu os.path.join:\n",
      " pliki/pytonki.txt\n"
     ]
    }
   ],
   "source": [
    "adres_do_obrazu = bazowa_sciezka + lista_plikow[1]\n",
    "adres_do_obrazu_2 = os.path.join(bazowa_sciezka, lista_plikow[1])\n",
    "print('To po dodaniu str:\\n', adres_do_obrazu)\n",
    "print('')\n",
    "print('To, po wykorzystaniu os.path.join:\\n', adres_do_obrazu_2)"
   ]
  },
  {
   "cell_type": "markdown",
   "metadata": {},
   "source": [
    "Przygotuj ścieżkę do pliku pytonki.txt"
   ]
  },
  {
   "cell_type": "code",
   "execution_count": 29,
   "metadata": {},
   "outputs": [
    {
     "name": "stdout",
     "output_type": "stream",
     "text": [
      "pliki/pytonki.txt\n"
     ]
    }
   ],
   "source": [
    "sciezka = os.path.join(bazowa_sciezka, lista_plikow[1])\n",
    "print(sciezka)"
   ]
  },
  {
   "cell_type": "markdown",
   "metadata": {},
   "source": [
    "Posiadając ścieżkę do interesującego pliku tekstowego możesz przystąpić do jego otworzenia. Służy do tego funkcja open(). Analogicznie, plik po przetwarzaniu należy zawsze zamknąć ze względu na wycieki pamięci i błędy w programie. Służy do tego funkcja close(). Poniżej przykład, który stworzy nowy plik i go zamknie (musisz po tym zaktualizować swoją listę plików jeśli będziesz chciał/a z niej korzystać)."
   ]
  },
  {
   "cell_type": "code",
   "execution_count": 30,
   "metadata": {},
   "outputs": [
    {
     "ename": "FileNotFoundError",
     "evalue": "[Errno 2] No such file or directory: 'pliki/nowy.txt'",
     "output_type": "error",
     "traceback": [
      "\u001b[0;31m---------------------------------------------------------------------------\u001b[0m",
      "\u001b[0;31mFileNotFoundError\u001b[0m                         Traceback (most recent call last)",
      "\u001b[0;32m<ipython-input-30-d3447c5efeef>\u001b[0m in \u001b[0;36m<module>\u001b[0;34m\u001b[0m\n\u001b[1;32m      1\u001b[0m \u001b[0mmoj_nowy_plik\u001b[0m \u001b[0;34m=\u001b[0m \u001b[0;34m'nowy.txt'\u001b[0m\u001b[0;34m\u001b[0m\u001b[0;34m\u001b[0m\u001b[0m\n\u001b[1;32m      2\u001b[0m \u001b[0madres_nowego_pliku\u001b[0m \u001b[0;34m=\u001b[0m \u001b[0mos\u001b[0m\u001b[0;34m.\u001b[0m\u001b[0mpath\u001b[0m\u001b[0;34m.\u001b[0m\u001b[0mjoin\u001b[0m\u001b[0;34m(\u001b[0m\u001b[0mbazowa_sciezka\u001b[0m\u001b[0;34m,\u001b[0m \u001b[0mmoj_nowy_plik\u001b[0m\u001b[0;34m)\u001b[0m\u001b[0;34m\u001b[0m\u001b[0;34m\u001b[0m\u001b[0m\n\u001b[0;32m----> 3\u001b[0;31m \u001b[0mplik\u001b[0m \u001b[0;34m=\u001b[0m \u001b[0mopen\u001b[0m\u001b[0;34m(\u001b[0m\u001b[0madres_nowego_pliku\u001b[0m\u001b[0;34m)\u001b[0m\u001b[0;34m\u001b[0m\u001b[0;34m\u001b[0m\u001b[0m\n\u001b[0m\u001b[1;32m      4\u001b[0m \u001b[0mplik\u001b[0m\u001b[0;34m.\u001b[0m\u001b[0mclose\u001b[0m\u001b[0;34m(\u001b[0m\u001b[0;34m)\u001b[0m\u001b[0;34m\u001b[0m\u001b[0;34m\u001b[0m\u001b[0m\n",
      "\u001b[0;31mFileNotFoundError\u001b[0m: [Errno 2] No such file or directory: 'pliki/nowy.txt'"
     ]
    }
   ],
   "source": [
    "moj_nowy_plik = 'nowy.txt'\n",
    "adres_nowego_pliku = os.path.join(bazowa_sciezka, moj_nowy_plik)\n",
    "plik = open(adres_nowego_pliku)\n",
    "plik.close()"
   ]
  },
  {
   "cell_type": "markdown",
   "metadata": {},
   "source": [
    "Nie zadziałało! Plik nie istnieje i otrzymaliśmy błąd, w którym napisano wprost: 'No such file or directory' - nie ma takiego pliku ani katalogu. Co w takim wypadku? Tutaj zależy to od kontekstu. Na kursie poznajemy różne funkcje i tak naprawdę musimy sprawdzić, jak tworzyć pliki jeśli one nie istnieją (a jest na to sposób, który zmieni nasz kod tylko nieznacznie). W praktyce jednak może się okazać, że w naszej bazie danych nie ma potrzebnego pliku - na przykład zdjęcia profilowego - i nie możemy zawiesić całej aplikacji gdy go brakuje a zamiast tego np.: wygenerować czarne pole. Python pozwala na przechwytywanie błędów i zmienianie działań aplikacji w takich wypadkach za pomocą konstruktu przedstawionego poniżej. Nie będziemy go stosować na tym kursie, ale wypada go znać."
   ]
  },
  {
   "cell_type": "code",
   "execution_count": 31,
   "metadata": {},
   "outputs": [
    {
     "name": "stdout",
     "output_type": "stream",
     "text": [
      "Plik utworzony\n",
      "['.DS_Store', 'nowy.txt', 'pytonki.txt', 'Liasis_mackloti_savuensis_3.jpg', '.ipynb_checkpoints']\n"
     ]
    }
   ],
   "source": [
    "try:\n",
    "    plik = open(adres_nowego_pliku)\n",
    "except FileNotFoundError:  # Zwróć uwagę na to, że podajemy konkretną nazwę błędu z opisu powyżej.\n",
    "    plik = open(adres_nowego_pliku, 'x')  # Nasza metoda przyjęła parametr \"x\"... który pozwolił na utworzenie pliku\n",
    "    print('Plik utworzony')\n",
    "plik.close()\n",
    "\n",
    "nowa_lista_plikow = os.listdir(bazowa_sciezka)\n",
    "print(nowa_lista_plikow)"
   ]
  },
  {
   "cell_type": "markdown",
   "metadata": {},
   "source": [
    "Popracujemy chwilę na naszym nowym pliku zanim zabierzemy się za pytonki.txt, żeby nie uszkodzić danych. Na początku dodam dwie linie tekstu do pliku nowy.txt:"
   ]
  },
  {
   "cell_type": "code",
   "execution_count": 32,
   "metadata": {},
   "outputs": [],
   "source": [
    "plik = open(adres_nowego_pliku, 'a')  # litera 'a' oznacza 'append', czyli do otworzonego pliku dodawane będą nowe linijki tekstu\n",
    "plik.write('Pierwsza linijka tekstu')\n",
    "plik.write('\\n')  # Nowa linia\n",
    "plik.write('Druga linijka tekstu')\n",
    "plik.write('\\n')  # Nowa linia\n",
    "plik.close()"
   ]
  },
  {
   "cell_type": "markdown",
   "metadata": {},
   "source": [
    "Otwórz plik w trybie tylko do odczytu - użyj litery 'r' (read) zamiast 'a' lub 'x' i wyświetl jego zawartość za pomocą polecenia print(plik.read()). Zamknij plik."
   ]
  },
  {
   "cell_type": "code",
   "execution_count": 33,
   "metadata": {},
   "outputs": [
    {
     "name": "stdout",
     "output_type": "stream",
     "text": [
      "Pierwsza linijka tekstu\n",
      "Druga linijka tekstu\n",
      "\n"
     ]
    }
   ],
   "source": [
    "plik = open(adres_nowego_pliku, 'r')\n",
    "print(plik.read())\n",
    "plik.close()"
   ]
  },
  {
   "cell_type": "markdown",
   "metadata": {},
   "source": [
    "Dodaj trzecią linijkę tekstu do pliku."
   ]
  },
  {
   "cell_type": "code",
   "execution_count": 39,
   "metadata": {},
   "outputs": [
    {
     "name": "stdout",
     "output_type": "stream",
     "text": [
      "Pierwsza linijka tekstu\n",
      "Druga linijka tekstu\n",
      "trzecia linijkatrzecia linijkatrzecia linijkatrzecia linijkatrzecia linijkatrzecia linijka\n"
     ]
    }
   ],
   "source": [
    "plik = open(adres_nowego_pliku, 'a')\n",
    "plik.write('trzecia linijka')\n",
    "plik.close()\n",
    "\n",
    "plik = open(adres_nowego_pliku, 'r')\n",
    "print(plik.read())\n",
    "plik.close()"
   ]
  },
  {
   "cell_type": "markdown",
   "metadata": {},
   "source": [
    "A teraz odczytaj plik z parametrem 'w' (write) zamiast 'r' albo 'a', dodaj linię tekstu 'nowa linia', po czym zamknij plik, otwórz go ponownie i odczytaj jego zawartość"
   ]
  },
  {
   "cell_type": "code",
   "execution_count": 40,
   "metadata": {},
   "outputs": [
    {
     "name": "stdout",
     "output_type": "stream",
     "text": [
      "tekst\n"
     ]
    }
   ],
   "source": [
    "plik = open(adres_nowego_pliku, 'w')\n",
    "plik.write('tekst')\n",
    "plik.close()\n",
    "\n",
    "plik = open(adres_nowego_pliku, 'r')\n",
    "print(plik.read())\n",
    "plik.close()"
   ]
  },
  {
   "cell_type": "code",
   "execution_count": null,
   "metadata": {},
   "outputs": [],
   "source": []
  },
  {
   "cell_type": "markdown",
   "metadata": {},
   "source": [
    "Za moment przejdziemy do pliku z gatunkami pytonów, ale czeka nas jeszcze ostatnie zadanie: odczytamy plik za pomocą funkcji, która automatycznie zadba o jego zamknięcie. Nie będzie trzeba pisać za każdym razem plik.close()\n",
    "\n",
    "Jest tu funkcja with (context manager), która \"sama\" zamyka plik po zakończeniu pracy. Konstrukcja prezentuje się następująco:"
   ]
  },
  {
   "cell_type": "code",
   "execution_count": 45,
   "metadata": {},
   "outputs": [
    {
     "name": "stdout",
     "output_type": "stream",
     "text": [
      "1 tekst\n",
      "\n",
      "2 nowa linijka tekstu\n",
      "\n",
      "3 nowa linijka tekstu\n",
      "\n",
      "4 nowa linijka tekstu\n",
      "\n",
      "5 nowa linijka tekstu\n",
      "\n",
      "6 nowa linijka tekstu\n"
     ]
    }
   ],
   "source": [
    "# with open(adres_nowego_pliku, 'a') as plik:\n",
    "#     plik.write('\\n')\n",
    "#     plik.write('Jeszcze jedna linijka\\n')\n",
    "\n",
    "# with open(adres_nowego_pliku, 'r') as plik:\n",
    "#     oznaczenie_linii = 'l'\n",
    "#     for line in plik.readlines():  # Drukuj linia za linią\n",
    "#         print(oznaczenie_linii, line)\n",
    "\n",
    "with open(adres_nowego_pliku, 'a') as zmienna:\n",
    "    zmienna.write('\\n')\n",
    "    zmienna.write('nowa linijka tekstu')\n",
    "    \n",
    "with open(adres_nowego_pliku, 'r') as zmienna:\n",
    "    i = 1\n",
    "    for line in zmienna.readlines():\n",
    "        print(i, line)\n",
    "        i = i + 1"
   ]
  },
  {
   "cell_type": "markdown",
   "metadata": {},
   "source": [
    "Używając konstruktu jak powyżej:\n",
    "\n",
    "- otwórz plik pytonki.txt\n",
    "- dodaj na końcu pliku tekst 'tu byłem!'\n",
    "- otwórz plik ponownie\n",
    "- wyświetl wszystkie linie z pliku wraz z ich numerami!"
   ]
  },
  {
   "cell_type": "code",
   "execution_count": 46,
   "metadata": {},
   "outputs": [],
   "source": [
    "with open(sciezka, 'a') as plik:\n",
    "    plik.write('tu byłem!')"
   ]
  },
  {
   "cell_type": "code",
   "execution_count": 47,
   "metadata": {},
   "outputs": [
    {
     "name": "stdout",
     "output_type": "stream",
     "text": [
      "1 Antaresia\n",
      "\n",
      "2 Antaresia childreni, Children's python\n",
      "\n",
      "3 Antaresia maculosa, spotted python\n",
      "\n",
      "4 Antaresia perthensis, pygmy python\n",
      "\n",
      "5 Antaresia stimsoni, Stimson's python\n",
      "\n",
      "6 Apodora\n",
      "\n",
      "7 Apodora papuana, Papuan python\n",
      "\n",
      "8 Aspidites\n",
      "\n",
      "9 Aspidites melanocephalus, black-headed python\n",
      "\n",
      "10 Aspidites ramsayi, woma\n",
      "\n",
      "11 Bothrochilus\n",
      "\n",
      "12 Bothrochilus albertisii, D'Albert's water python\n",
      "\n",
      "13 Bothrochilus boa, Bismark ringed python\n",
      "\n",
      "14 Bothrochilus biakensis, Biak white-lipped python\n",
      "\n",
      "15 Bothrochilus fredparkeri, Parker's white-lipped python\n",
      "\n",
      "16 Bothrochilus huonensis, Huon white-lipped python\n",
      "\n",
      "17 Bothrochilus meridionalis, southern whitelip python\n",
      "\n",
      "18 Bothrochilus montanus, Wau whitelip python\n",
      "\n",
      "19 Liasis\n",
      "\n",
      "20 Liasis fuscus, brown water python\n",
      "\n",
      "21 Liasis mackloti, Macklot's python\n",
      "\n",
      "22 Liasis mackloti mackloti, Macklot's python\n",
      "\n",
      "23 Liasis mackloti savuensis, Savu python\n",
      "\n",
      "24 Liasis olivaceus, olive python\n",
      "\n",
      "25 Liasis olivaceus barroni, Pilbara olive python\n",
      "\n",
      "26 Liasis olivaceus olivaceus, olive python\n",
      "\n",
      "27 Morelia\n",
      "\n",
      "28 Morelia amethistina, amethystine python\n",
      "\n",
      "29 Morelia clastolepis, Moluccan python\n",
      "\n",
      "30 Morelia boeleni, Boelen's python\n",
      "\n",
      "31 Morelia bredli, Bredl's python\n",
      "\n",
      "32 Morelia carinata, rough-scaled python\n",
      "\n",
      "33 Morelia kinghorni, Kinghorn's python\n",
      "\n",
      "34 Morelia nauta, Tanimbar python\n",
      "\n",
      "35 Morelia oenpelliensis, Oenpelli python\n",
      "\n",
      "36 Morelia spilota, carpet pythons\n",
      "\n",
      "37 Morelia spilota cheynei, jungle carpet python\n",
      "\n",
      "38 Morelia spilota imbricata, southwestern carpet python\n",
      "\n",
      "39 Morelia spilota mcdowelli, coastal carpet python\n",
      "\n",
      "40 Morelia spilota metcalfei, inland carpet python\n",
      "\n",
      "41 Morelia spilota spilota, diamond python\n",
      "\n",
      "42 Morelia spilota variegata, northwestern carpet python\n",
      "\n",
      "43 Morelia tracyae, Halmahera python\n",
      "\n",
      "44 Morelia viridis, green tree python\n",
      "\n",
      "45 Python\n",
      "\n",
      "46 Python anchietae, Angolan python\n",
      "\n",
      "47 Python bivittatus, Burmese python\n",
      "\n",
      "48 Python bivittatus progschai, dwarf Burmese python\n",
      "\n",
      "49 Python breitensteini, Borneo short-tailed python\n",
      "\n",
      "50 Python brongersmai, red blood python\n",
      "\n",
      "51 Python curtus, Sumatran short-tailed python\n",
      "\n",
      "52 Python kyaiktiyo, Myanmar short-tailed python\n",
      "\n",
      "53 Python molurus, Indian python\n",
      "\n",
      "54 Python molurus molurus, Indian python\n",
      "\n",
      "55 Python regius, royal python\n",
      "\n",
      "56 Python reticulatus, reticulated python\n",
      "\n",
      "57 Python sebae, African rock python\n",
      "\n",
      "58 Python sebae natalensis, Natal rock python\n",
      "\n",
      "59 Python sebae sebae, African rock python\n",
      "\n",
      "60 Python timoriensis, Timor pythontu byłem!\n"
     ]
    }
   ],
   "source": [
    "with open(sciezka, 'r') as plik:\n",
    "    i = 1\n",
    "    for line in plik.readlines():\n",
    "        print(i, line)\n",
    "        i = i + 1"
   ]
  },
  {
   "cell_type": "code",
   "execution_count": null,
   "metadata": {},
   "outputs": [],
   "source": []
  }
 ],
 "metadata": {
  "kernelspec": {
   "display_name": "Python 3",
   "language": "python",
   "name": "python3"
  },
  "language_info": {
   "codemirror_mode": {
    "name": "ipython",
    "version": 3
   },
   "file_extension": ".py",
   "mimetype": "text/x-python",
   "name": "python",
   "nbconvert_exporter": "python",
   "pygments_lexer": "ipython3",
   "version": "3.7.3"
  }
 },
 "nbformat": 4,
 "nbformat_minor": 2
}
