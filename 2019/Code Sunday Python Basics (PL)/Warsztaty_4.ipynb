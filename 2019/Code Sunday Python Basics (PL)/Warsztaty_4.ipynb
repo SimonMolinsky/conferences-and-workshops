{
 "cells": [
  {
   "cell_type": "markdown",
   "metadata": {},
   "source": [
    "# Python podstawy, część 4: funkcje"
   ]
  },
  {
   "cell_type": "markdown",
   "metadata": {},
   "source": [
    "To już przedostatnia część kursu. I właściwie jego najważniejszy etap. Z funkcjami mieliśmy do czynienia cały czas. Ich przykłady to:"
   ]
  },
  {
   "cell_type": "code",
   "execution_count": null,
   "metadata": {},
   "outputs": [],
   "source": [
    "print()  # Metoda wyświetlająca dane\n",
    "len()  # Metoda sprawdzająca liczbę znaków w tekście albo liczbę elementów w tablicach, słownikach, itp.\n",
    "random.choice()  # Metoda losująca element z listy\n",
    "string.lower()  # Metoda zmieniająca wszystkie znaki w łańcuchu na małe litery\n",
    "cv2.imread()  # Metoda wczytująca obraz ORAZ przekształcająca go na macierz numpy\n",
    "\n",
    "..."
   ]
  },
  {
   "cell_type": "markdown",
   "metadata": {},
   "source": [
    "Dlatego funkcje musisz znać dobrze, by wiedzieć co właściwie dzieje się z programami w Pythonie. Konstrukcja funkcji jest zawsze taka sama. Rozpoczyna się ją od słowa **def** po którym następuje nazwa funkcji. W nawiasie po nazwie funkcji znajdują się **argumenty funkcji**, czyli dane, które są przetwarzane. Następnie ważny jest dwukropek i wcięcie od następnej linijki. Od tej linijki przeprowadzane są wszystkie operacje. Funkcję zamyka (choć nie zawsze) słowo **return**, po którym zwracany jest wynik."
   ]
  },
  {
   "cell_type": "code",
   "execution_count": 2,
   "metadata": {},
   "outputs": [],
   "source": [
    "def funkcja(parametry):\n",
    "    przekształć_parametry\n",
    "    return przekształcone_parametry"
   ]
  },
  {
   "cell_type": "code",
   "execution_count": 3,
   "metadata": {},
   "outputs": [
    {
     "name": "stdout",
     "output_type": "stream",
     "text": [
      "3.4822022531844965\n"
     ]
    }
   ],
   "source": [
    "def podnies_do_potegi(liczba, potega):\n",
    "    obliczona = liczba**potega\n",
    "    return obliczona\n",
    "\n",
    "x = podnies_do_potegi(2, 1.8)\n",
    "print(x)"
   ]
  },
  {
   "cell_type": "code",
   "execution_count": 4,
   "metadata": {},
   "outputs": [
    {
     "data": {
      "text/plain": [
       "'plik_testowy'"
      ]
     },
     "execution_count": 4,
     "metadata": {},
     "output_type": "execute_result"
    }
   ],
   "source": [
    "def usun_rozszerzenie(nazwa_pliku):\n",
    "    miejsce_kropki = nazwa_pliku.rfind('.')\n",
    "    bez_rozszerzenia = nazwa_pliku[:miejsce_kropki]\n",
    "    return bez_rozszerzenia\n",
    "\n",
    "usun_rozszerzenie('plik_testowy.txt')"
   ]
  },
  {
   "cell_type": "markdown",
   "metadata": {},
   "source": [
    "Funkcje służą zwiększaniu czytelności kodu oraz do wykonywania fragmentów kodu, które trzeba wykonać często. Dobrym przykładem było wyświetlanie danych z obrazu, z ćwiczenia 2, dlatego wrócimy do kodu z tamtego ćwiczenia i prztworzymy go na postać funkcyjną.\n",
    "\n",
    "* Zaimportuj biblioteki OpenCV, matplotlib.pyplot i numpy"
   ]
  },
  {
   "cell_type": "code",
   "execution_count": null,
   "metadata": {},
   "outputs": [],
   "source": []
  },
  {
   "cell_type": "markdown",
   "metadata": {},
   "source": [
    "* Wczytaj obraz z adresu pliki/Liasis_mackloti_savuensis_3.jpg"
   ]
  },
  {
   "cell_type": "code",
   "execution_count": null,
   "metadata": {},
   "outputs": [],
   "source": []
  },
  {
   "cell_type": "markdown",
   "metadata": {},
   "source": [
    "Na razie pozostaniemy przy wczytanym obrazie i na rozgrzewkę rozpoczniemy od czegoś zupełnie innego - od generowania przebiegów funkcji odwzorowujących chaos deterministyczny. Będziemy wykorzystywać w tym celu pętlę for oraz listy Pythona jak i funkcje służące wyświetlaniu danych przez matplotlib. To nie jest trudne!"
   ]
  },
  {
   "cell_type": "markdown",
   "metadata": {},
   "source": [
    "Napisz program, który na wejściu otrzymuje wartość \"x(0)\" jako jakąkolwiek liczbę rzeczywistą różną większą od zera a mniejszą od 1 oraz wartość \"n\" oznaczającą liczbę iteracji funkcji. Program powinien stworzyć n-elementową listę elementów na podstawie poniższej operacji:\n",
    "\n",
    "$$ x_{i+1} = r x_{i}(1-x_{i}) $$\n",
    "\n",
    "gdzie:\n",
    "\n",
    "i - oznacza i-ty element z listy (i zawarte jest w przedziale [0, n),\n",
    "\n",
    "r - jest losową liczbą rzeczywistą z przedziału (3.4, 4) i jest ustalana tylko raz, później się nie zmienia, możesz ją wygenerować za pomocą funkcji random.uniform()\n",
    "\n",
    "x(0) - to dowolna liczba rzeczywista różna od zera wprowadzana przez użytkownika. "
   ]
  },
  {
   "cell_type": "code",
   "execution_count": null,
   "metadata": {},
   "outputs": [],
   "source": []
  },
  {
   "cell_type": "markdown",
   "metadata": {},
   "source": [
    "Teraz stwórz listę trzech wartości rzeczywistych w przedziale (0, 1) i wygeneruj dla nich przebiegi po 100 wartości. Wyświetl wszystkie trzy przebiegi za pomocą biblioteki matplotlib i funkcji plot() https://matplotlib.org/3.1.1/api/_as_gen/matplotlib.pyplot.plot.html"
   ]
  },
  {
   "cell_type": "code",
   "execution_count": null,
   "metadata": {},
   "outputs": [],
   "source": []
  },
  {
   "cell_type": "markdown",
   "metadata": {},
   "source": [
    "* Wracamy do węża: napisz funkcję, która przekształca kolejność kanałów z BGR do RGB i odwrotnie"
   ]
  },
  {
   "cell_type": "code",
   "execution_count": null,
   "metadata": {},
   "outputs": [],
   "source": []
  },
  {
   "cell_type": "markdown",
   "metadata": {},
   "source": [
    "* Napisz funkcję, która przyjmuje pojedynczy kanał na wejściu, tworze nowe okno graficzne i wyświetla go"
   ]
  },
  {
   "cell_type": "code",
   "execution_count": null,
   "metadata": {},
   "outputs": [],
   "source": []
  },
  {
   "cell_type": "markdown",
   "metadata": {},
   "source": [
    "W tym momencie posiadasz już pakiet 2 ciekawych funkcji. Czas na prawdziwą zabawę! Tym razem przetworzymy zdjęcie \"bardziej\" za pomocą metody zwanej **bilateral filtering** https://docs.opencv.org/3.1.0/d4/d86/group__imgproc__filter.html#ga9d7064d478c95d60003cf839430737ed\n",
    "\n",
    "Musimy napisać funkcję, która przyjmuje następujące argumenty:\n",
    "\n",
    "1 - macierz kanałów (dowolna kolejność, trzeba pamiętać, że opencv zapisuje BGR)\n",
    "\n",
    "2 - liczbę iteracji filtrowania\n",
    "\n",
    "3 - parametry d, sigmaColor, sigmaSpace\n",
    "\n",
    "gdzie d = przekątna obrazu * 0.02\n",
    "\n",
    "Następnie przeprowadzana jest operacja filtrowania odpowiednią liczbę razy i zwracany jest wynikowy obraz. UWAGA! Wewnątrz funkcji przetwarzany jest ciągle ten sam obraz! Wyświetl i zapisz zdjęcie jak będziesz zadowolony z wyników."
   ]
  },
  {
   "cell_type": "code",
   "execution_count": null,
   "metadata": {},
   "outputs": [],
   "source": []
  },
  {
   "cell_type": "markdown",
   "metadata": {},
   "source": [
    "{'user1': {'name': 'Adam', 'login': 'Adam1', 'pin': 9857},\n",
    "\n",
    "'user2': {'name': 'Agata', 'login': 'Agata1', 'pin': 7644}}\n",
    "\n",
    "* Ostatnia funkcja: pamiętasz słownik z poprzedniej lekcji? Dodawanie elementów do jego wnętrza byłoby męczące, czas usprawnić proces. Napisz funkcję, która przyjmuje jako argument nazwę użytkownika, sprawdza, czy taka jest już wśród kluczy i jeśli jest to zwraca tekst \"nazwa zajęta\" a jeśli jej nie ma wypełnia pola name podanym imieniem, login podanym loginem i pin podanym pinem po czym zwraca uzupełniony słownik."
   ]
  },
  {
   "cell_type": "code",
   "execution_count": null,
   "metadata": {},
   "outputs": [],
   "source": []
  }
 ],
 "metadata": {
  "kernelspec": {
   "display_name": "Python 3",
   "language": "python",
   "name": "python3"
  },
  "language_info": {
   "codemirror_mode": {
    "name": "ipython",
    "version": 3
   },
   "file_extension": ".py",
   "mimetype": "text/x-python",
   "name": "python",
   "nbconvert_exporter": "python",
   "pygments_lexer": "ipython3",
   "version": "3.7.3"
  }
 },
 "nbformat": 4,
 "nbformat_minor": 2
}
