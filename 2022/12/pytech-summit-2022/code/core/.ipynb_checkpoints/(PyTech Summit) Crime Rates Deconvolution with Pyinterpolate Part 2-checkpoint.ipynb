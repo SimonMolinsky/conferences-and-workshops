{
 "cells": [
  {
   "cell_type": "markdown",
   "id": "711bced6",
   "metadata": {},
   "source": [
    "# Get more from Crime Rate data and other socio-economic indicators with Pyinterpolate\n",
    "\n",
    "---\n",
    "\n",
    "## Part 2: Explore and transform crime rate counts\n",
    "\n",
    "\n",
    "### Block 1 - imports"
   ]
  },
  {
   "cell_type": "code",
   "execution_count": null,
   "id": "3f92e1ca",
   "metadata": {},
   "outputs": [],
   "source": [
    "import geopandas as gpd\n",
    "import pandas as pd\n",
    "import pyinterpolate as ptp\n",
    "\n",
    "import matplotlib.pyplot as plt"
   ]
  },
  {
   "cell_type": "markdown",
   "id": "ac645624",
   "metadata": {},
   "source": [
    "### Block 2 - read and analyze crime rates data"
   ]
  },
  {
   "cell_type": "code",
   "execution_count": null,
   "id": "642e966c",
   "metadata": {},
   "outputs": [],
   "source": [
    "gdf = gpd.read_file('data/crime_rates_2019.shp')"
   ]
  },
  {
   "cell_type": "code",
   "execution_count": null,
   "id": "647ae081",
   "metadata": {},
   "outputs": [],
   "source": [
    "# Take a look into a few random records\n",
    "\n",
    "gdf.sample(5)"
   ]
  },
  {
   "cell_type": "code",
   "execution_count": null,
   "id": "71dbed48",
   "metadata": {},
   "outputs": [],
   "source": [
    "# Core statistics\n",
    "\n",
    "gdf.describe()"
   ]
  },
  {
   "cell_type": "code",
   "execution_count": null,
   "id": "7822ac36",
   "metadata": {},
   "outputs": [],
   "source": [
    "# CRS\n",
    "\n",
    "gdf.crs"
   ]
  },
  {
   "cell_type": "markdown",
   "id": "e8849290",
   "metadata": {},
   "source": [
    "### Block 3 - histogram of raw counts"
   ]
  },
  {
   "cell_type": "code",
   "execution_count": null,
   "id": "0a17b0ce",
   "metadata": {},
   "outputs": [],
   "source": [
    "plt.figure(figsize=(12, 6))\n",
    "gdf['All'].hist(grid=False, bins=20)\n",
    "plt.title('Crime counts per county')\n",
    "plt.show()"
   ]
  },
  {
   "cell_type": "markdown",
   "id": "d6a0e8bf",
   "metadata": {},
   "source": [
    "### Block 4 - map of raw counts"
   ]
  },
  {
   "cell_type": "code",
   "execution_count": null,
   "id": "b6ae2a46",
   "metadata": {},
   "outputs": [],
   "source": [
    "gdf.plot(figsize=(10, 10), column='All', cmap='coolwarm', legend=True)\n",
    "plt.title('Crimes (count) per county in Poland 2019')\n",
    "plt.show()"
   ]
  },
  {
   "cell_type": "markdown",
   "id": "4b13187b",
   "metadata": {},
   "source": [
    "### Block 5 - transform counts to rates and show histogram"
   ]
  },
  {
   "cell_type": "code",
   "execution_count": null,
   "id": "aad7c81f",
   "metadata": {},
   "outputs": [],
   "source": [
    "gdf['Crime Rate'] = (gdf['All'] / gdf['Population']) * 100000\n",
    "\n",
    "plt.figure(figsize=(12, 6))\n",
    "gdf['Crime Rate'].hist(grid=False, bins=20)\n",
    "plt.title('Histogram of crime rates per 100 000 inhabitants in Polish counties')\n",
    "plt.show()"
   ]
  },
  {
   "cell_type": "code",
   "execution_count": null,
   "id": "9d4c8a33",
   "metadata": {},
   "outputs": [],
   "source": [
    "gdf['All'].corr(gdf['Population'])  # Strong relationship"
   ]
  },
  {
   "cell_type": "markdown",
   "id": "024aa288",
   "metadata": {},
   "source": [
    "### Block 6 - map of crime rates"
   ]
  },
  {
   "cell_type": "code",
   "execution_count": null,
   "id": "e591f856",
   "metadata": {},
   "outputs": [],
   "source": [
    "gdf.plot(figsize=(10, 10), column='Crime Rate', cmap='coolwarm', legend=True)\n",
    "plt.title('Crime rates per county in Poland 2019 per 100k inhabitants')\n",
    "plt.show()"
   ]
  },
  {
   "cell_type": "markdown",
   "id": "8f770b7e",
   "metadata": {},
   "source": [
    "### Block 7 - save rates to file"
   ]
  },
  {
   "cell_type": "code",
   "execution_count": null,
   "id": "d55753fa",
   "metadata": {},
   "outputs": [],
   "source": [
    "df = gdf[['Crime Rate', 'Population', 'geometry', 'Code']]\n",
    "df.columns = ['CrimeRate', 'Pop', 'geometry', 'Code']\n",
    "df.to_file('data/crimerates.shp')"
   ]
  },
  {
   "cell_type": "markdown",
   "id": "4eaa0b08",
   "metadata": {},
   "source": [
    "---"
   ]
  }
 ],
 "metadata": {
  "kernelspec": {
   "display_name": "Python 3 (ipykernel)",
   "language": "python",
   "name": "python3"
  },
  "language_info": {
   "codemirror_mode": {
    "name": "ipython",
    "version": 3
   },
   "file_extension": ".py",
   "mimetype": "text/x-python",
   "name": "python",
   "nbconvert_exporter": "python",
   "pygments_lexer": "ipython3",
   "version": "3.11.0"
  }
 },
 "nbformat": 4,
 "nbformat_minor": 5
}
