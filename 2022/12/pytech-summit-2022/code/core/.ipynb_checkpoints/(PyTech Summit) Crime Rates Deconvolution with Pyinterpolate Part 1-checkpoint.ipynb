{
 "cells": [
  {
   "cell_type": "markdown",
   "id": "db3431ae",
   "metadata": {},
   "source": [
    "# Get more from Crime Rate data and other socio-economic indicators with Pyinterpolate\n",
    "\n",
    "\n",
    "## Part 1: Spatial dependency of population data\n",
    "\n",
    "\n",
    "### Block 1 - imports"
   ]
  },
  {
   "cell_type": "code",
   "execution_count": null,
   "id": "12ff1806",
   "metadata": {},
   "outputs": [],
   "source": [
    "import geopandas as gpd\n",
    "import pyinterpolate as ptp"
   ]
  },
  {
   "cell_type": "markdown",
   "id": "514374d6",
   "metadata": {},
   "source": [
    "### Block 2 - read and transform point support data"
   ]
  },
  {
   "cell_type": "code",
   "execution_count": null,
   "id": "0a02e994",
   "metadata": {},
   "outputs": [],
   "source": [
    "points = gpd.read_file('data/population.shp')  # GeoDataFrame\n",
    "\n",
    "points['x'] = points.geometry.x\n",
    "points['y'] = points.geometry.y\n",
    "\n",
    "experimental_var_input = points[['x', 'y', 'TOT']]  # Array for processing"
   ]
  },
  {
   "cell_type": "code",
   "execution_count": null,
   "id": "93ce7133",
   "metadata": {},
   "outputs": [],
   "source": [
    "points.plot(column='TOT', cmap='Blues')"
   ]
  },
  {
   "cell_type": "markdown",
   "id": "1cacb353",
   "metadata": {},
   "source": [
    "### Block 3 - create and plot experimental variogram"
   ]
  },
  {
   "cell_type": "code",
   "execution_count": null,
   "id": "83594d99",
   "metadata": {},
   "outputs": [],
   "source": [
    "exp_var = ptp.build_experimental_variogram(\n",
    "    input_array=experimental_var_input,\n",
    "    step_size=5000,\n",
    "    max_range=60000\n",
    ")\n",
    "\n",
    "exp_var.plot()"
   ]
  },
  {
   "cell_type": "markdown",
   "id": "2de3a2f8",
   "metadata": {},
   "source": [
    "---"
   ]
  }
 ],
 "metadata": {
  "kernelspec": {
   "display_name": "Python 3 (ipykernel)",
   "language": "python",
   "name": "python3"
  },
  "language_info": {
   "codemirror_mode": {
    "name": "ipython",
    "version": 3
   },
   "file_extension": ".py",
   "mimetype": "text/x-python",
   "name": "python",
   "nbconvert_exporter": "python",
   "pygments_lexer": "ipython3",
   "version": "3.11.0"
  }
 },
 "nbformat": 4,
 "nbformat_minor": 5
}
