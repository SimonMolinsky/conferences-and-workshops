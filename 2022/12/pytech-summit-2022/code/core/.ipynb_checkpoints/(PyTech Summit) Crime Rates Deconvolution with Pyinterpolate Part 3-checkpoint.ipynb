{
 "cells": [
  {
   "cell_type": "markdown",
   "id": "711bced6",
   "metadata": {},
   "source": [
    "# Get more from Crime Rate data and other socio-economic indicators with Pyinterpolate\n",
    "\n",
    "\n",
    "## Part 3: Are rates spatially dependent?\n",
    "\n",
    "\n",
    "### Block 1 - imports"
   ]
  },
  {
   "cell_type": "code",
   "execution_count": null,
   "id": "3f92e1ca",
   "metadata": {},
   "outputs": [],
   "source": [
    "import geopandas as gpd\n",
    "import pyinterpolate as ptp"
   ]
  },
  {
   "cell_type": "markdown",
   "id": "ac645624",
   "metadata": {},
   "source": [
    "### Block 2 - read crime rates data and prepare it for experimental semivariogram calculations"
   ]
  },
  {
   "cell_type": "code",
   "execution_count": null,
   "id": "642e966c",
   "metadata": {},
   "outputs": [],
   "source": [
    "blocks = ptp.read_block('data/crimerates.shp', val_col_name='CrimeRate')\n",
    "blocks['x'] = blocks['centroid'].x\n",
    "blocks['y'] = blocks['centroid'].y\n",
    "data = blocks[['x', 'y', 'CrimeRate']].values  # x, y, val"
   ]
  },
  {
   "cell_type": "code",
   "execution_count": null,
   "id": "6eb3a88c",
   "metadata": {},
   "outputs": [],
   "source": [
    "# sample row\n",
    "\n",
    "data[-1]"
   ]
  },
  {
   "cell_type": "markdown",
   "id": "073f7413",
   "metadata": {},
   "source": [
    "### Block 3 - calculate and analyze the experimental semivariogram"
   ]
  },
  {
   "cell_type": "code",
   "execution_count": null,
   "id": "e9a47eb0",
   "metadata": {},
   "outputs": [],
   "source": [
    "# First attempt...\n",
    "\n",
    "STEP_SIZE = 5_000\n",
    "MAX_RANGE = 500_000\n",
    "\n",
    "exp_var = ptp.build_experimental_variogram(input_array=data, step_size=STEP_SIZE, max_range=MAX_RANGE)\n",
    "exp_var.plot(plot_variance=True)"
   ]
  },
  {
   "cell_type": "code",
   "execution_count": null,
   "id": "d1de809a",
   "metadata": {},
   "outputs": [],
   "source": [
    "# Second attempt\n",
    "\n",
    "STEP_SIZE = 38_000\n",
    "MAX_RANGE = 500_000\n",
    "exp_var = ptp.build_experimental_variogram(input_array=data, step_size=STEP_SIZE, max_range=MAX_RANGE)\n",
    "exp_var.plot()"
   ]
  },
  {
   "cell_type": "markdown",
   "id": "4eaa0b08",
   "metadata": {},
   "source": [
    "---"
   ]
  }
 ],
 "metadata": {
  "kernelspec": {
   "display_name": "Python 3 (ipykernel)",
   "language": "python",
   "name": "python3"
  },
  "language_info": {
   "codemirror_mode": {
    "name": "ipython",
    "version": 3
   },
   "file_extension": ".py",
   "mimetype": "text/x-python",
   "name": "python",
   "nbconvert_exporter": "python",
   "pygments_lexer": "ipython3",
   "version": "3.11.0"
  }
 },
 "nbformat": 4,
 "nbformat_minor": 5
}
