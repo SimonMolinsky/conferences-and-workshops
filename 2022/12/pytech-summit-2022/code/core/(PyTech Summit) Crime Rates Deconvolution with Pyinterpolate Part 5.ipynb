{
 "cells": [
  {
   "cell_type": "markdown",
   "id": "711bced6",
   "metadata": {},
   "source": [
    "# Get more from Crime Rate data and other socio-economic indicators with Pyinterpolate\n",
    "\n",
    "\n",
    "## Part 5: Area-to-Point Poisson Kriging\n",
    "\n",
    "\n",
    "### Block 1 - imports"
   ]
  },
  {
   "cell_type": "code",
   "execution_count": 1,
   "id": "3f92e1ca",
   "metadata": {},
   "outputs": [],
   "source": [
    "import geopandas as gpd\n",
    "import numpy as np\n",
    "import pandas as pd\n",
    "\n",
    "from pyinterpolate import TheoreticalVariogram\n",
    "from pyinterpolate import Blocks, PointSupport\n",
    "from pyinterpolate import smooth_blocks"
   ]
  },
  {
   "cell_type": "markdown",
   "id": "ac645624",
   "metadata": {},
   "source": [
    "### Block 2 - prepare blocks & point support data"
   ]
  },
  {
   "cell_type": "code",
   "execution_count": 2,
   "id": "f505672f",
   "metadata": {},
   "outputs": [],
   "source": [
    "BLOCK_FILE_PATH = 'data/crimerates.shp'\n",
    "BLOCK_VALUE_COL = 'CrimeRate'\n",
    "BLOCK_GEOMETRY = 'geometry'\n",
    "BLOCK_INDEX_COL = 'Code'\n",
    "\n",
    "POINT_SUPPORT_PATH = 'data/population.shp'\n",
    "POINT_SUPPORT_VAL_COL = 'TOT'\n",
    "POINT_SUPPORT_GEOMETRY = 'geometry'"
   ]
  },
  {
   "cell_type": "code",
   "execution_count": 3,
   "id": "736d3ece",
   "metadata": {},
   "outputs": [],
   "source": [
    "# Blocks\n",
    "blocks_input = Blocks()\n",
    "blocks_input.from_file(fpath=BLOCK_FILE_PATH,\n",
    "                       value_col=BLOCK_VALUE_COL,\n",
    "                       geometry_col=BLOCK_GEOMETRY,\n",
    "                       index_col=BLOCK_INDEX_COL)"
   ]
  },
  {
   "cell_type": "code",
   "execution_count": 4,
   "id": "6bd907fe",
   "metadata": {},
   "outputs": [],
   "source": [
    "# Point support\n",
    "point_support_input = PointSupport()\n",
    "point_support_input.from_files(point_support_data_file=POINT_SUPPORT_PATH,\n",
    "                               blocks_file=BLOCK_FILE_PATH,\n",
    "                               point_support_geometry_col=POINT_SUPPORT_GEOMETRY,\n",
    "                               point_support_val_col=POINT_SUPPORT_VAL_COL,\n",
    "                               blocks_geometry_col=BLOCK_GEOMETRY,\n",
    "                               blocks_index_col=BLOCK_INDEX_COL)"
   ]
  },
  {
   "cell_type": "markdown",
   "id": "95d03bf8",
   "metadata": {},
   "source": [
    "### Block 3 - load variogram"
   ]
  },
  {
   "cell_type": "code",
   "execution_count": 5,
   "id": "38ac4825",
   "metadata": {},
   "outputs": [],
   "source": [
    "semivariogram = TheoreticalVariogram()\n",
    "semivariogram.from_json('data/no_nugget_model.json')"
   ]
  },
  {
   "cell_type": "markdown",
   "id": "27e41717",
   "metadata": {},
   "source": [
    "### Block 4 - smooth blocks"
   ]
  },
  {
   "cell_type": "code",
   "execution_count": 6,
   "id": "63b2f67b",
   "metadata": {},
   "outputs": [
    {
     "name": "stderr",
     "output_type": "stream",
     "text": [
      "/Users/szymonos/miniconda3/envs/spatial/lib/python3.11/site-packages/pyinterpolate/processing/checks.py:92: SetDifferenceWarning: \"Given sets of ids are not equal. * Differences between Blocks indexes and Point Support indexes are ['2476']. * Differences between Point Support indexes and Blocks indexes are [].\"\n",
      "  warnings.warn(SetDifferenceWarning(diff_a_to_b, diff_b_to_a, set_name_a, set_name_b))\n",
      "100%|█████████████████████████████████████████| 380/380 [01:09<00:00,  5.46it/s]\n"
     ]
    }
   ],
   "source": [
    "# no nugget\n",
    "\n",
    "NUMBER_OF_NEIGHBORS = 6\n",
    "MAXIMUM_RANGE = 60_000\n",
    "\n",
    "smoothed = smooth_blocks(semivariogram_model=semivariogram,\n",
    "                         blocks=blocks_input,\n",
    "                         point_support=point_support_input,\n",
    "                         number_of_neighbors=NUMBER_OF_NEIGHBORS,\n",
    "                         max_range=MAXIMUM_RANGE,\n",
    "                         crs=blocks_input.data.crs,\n",
    "                         raise_when_negative_error=False,\n",
    "                         raise_when_negative_prediction=True)"
   ]
  },
  {
   "cell_type": "markdown",
   "id": "1aafc190",
   "metadata": {},
   "source": [
    "### Block 5 - plot anomalous regions"
   ]
  },
  {
   "cell_type": "code",
   "execution_count": null,
   "id": "a37129c3",
   "metadata": {},
   "outputs": [],
   "source": [
    "# Plot predictions\n",
    "base = blocks_input.data.plot(figsize=(14, 14), color='white', edgecolor='black', alpha=0.2)\n",
    "smooth_plot_data = smoothed.copy()\n",
    "smooth_plot_data['pred'][smooth_plot_data['pred'] <= 1000] = np.nan\n",
    "smooth_plot_data.plot(ax=base, column='pred', cmap='inferno', legend=True, markersize=30)"
   ]
  },
  {
   "cell_type": "code",
   "execution_count": null,
   "id": "3728d58c",
   "metadata": {},
   "outputs": [],
   "source": [
    "# Plot variance errors\n",
    "\n",
    "base = blocks_input.data.plot(figsize=(14, 14), color='white', edgecolor='black')\n",
    "smooth_plot_data = smoothed.copy()\n",
    "smooth_plot_data.plot(ax=base, column='err', cmap='Reds', legend=True, markersize=30, alpha=0.7)"
   ]
  },
  {
   "cell_type": "markdown",
   "id": "b243d7b9",
   "metadata": {},
   "source": [
    "### Block 6 - compare aggregated predictions to baseline values"
   ]
  },
  {
   "cell_type": "code",
   "execution_count": null,
   "id": "aa079bdf",
   "metadata": {},
   "outputs": [],
   "source": [
    "grouped_preds = smoothed.groupby('area id')['pred'].sum()\n",
    "grouped_error = smoothed.groupby('area id')['err'].mean()\n",
    "\n",
    "grouped = pd.concat([grouped_error, grouped_preds], axis=1)\n",
    "grouped.index.name = 'Code'"
   ]
  },
  {
   "cell_type": "code",
   "execution_count": null,
   "id": "ebc4c798",
   "metadata": {},
   "outputs": [],
   "source": [
    "core = blocks_input.data[['Code', 'CrimeRate']].copy()\n",
    "core.set_index('Code', inplace=True)\n",
    "core.columns = ['pred']"
   ]
  },
  {
   "cell_type": "code",
   "execution_count": null,
   "id": "4f483ed7",
   "metadata": {},
   "outputs": [],
   "source": [
    "RMSE = np.sqrt(np.mean((grouped['pred'] - core['pred'])**2))"
   ]
  },
  {
   "cell_type": "code",
   "execution_count": null,
   "id": "6cd6bea7",
   "metadata": {},
   "outputs": [],
   "source": [
    "RMSE"
   ]
  },
  {
   "cell_type": "code",
   "execution_count": null,
   "id": "a434644d",
   "metadata": {},
   "outputs": [],
   "source": [
    "core.describe()"
   ]
  },
  {
   "cell_type": "markdown",
   "id": "4eaa0b08",
   "metadata": {},
   "source": [
    "---"
   ]
  }
 ],
 "metadata": {
  "kernelspec": {
   "display_name": "Python 3 (ipykernel)",
   "language": "python",
   "name": "python3"
  },
  "language_info": {
   "codemirror_mode": {
    "name": "ipython",
    "version": 3
   },
   "file_extension": ".py",
   "mimetype": "text/x-python",
   "name": "python",
   "nbconvert_exporter": "python",
   "pygments_lexer": "ipython3",
   "version": "3.11.0"
  }
 },
 "nbformat": 4,
 "nbformat_minor": 5
}
