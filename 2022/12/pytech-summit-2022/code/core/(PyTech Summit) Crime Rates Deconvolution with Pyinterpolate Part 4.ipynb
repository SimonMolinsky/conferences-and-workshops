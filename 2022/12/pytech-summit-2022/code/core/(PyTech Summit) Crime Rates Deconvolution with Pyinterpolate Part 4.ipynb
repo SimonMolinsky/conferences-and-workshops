{
 "cells": [
  {
   "cell_type": "markdown",
   "id": "711bced6",
   "metadata": {},
   "source": [
    "# Get more from Crime Rate data and other socio-economic indicators with Pyinterpolate\n",
    "\n",
    "\n",
    "## Part 4: Data deconvolution (fit & transform)\n",
    "\n",
    "\n",
    "### Block 1 - imports"
   ]
  },
  {
   "cell_type": "code",
   "execution_count": null,
   "id": "3f92e1ca",
   "metadata": {},
   "outputs": [],
   "source": [
    "import geopandas as gpd\n",
    "import pyinterpolate as ptp"
   ]
  },
  {
   "cell_type": "markdown",
   "id": "ac645624",
   "metadata": {},
   "source": [
    "### Block 2 - prepare blocks & point support data"
   ]
  },
  {
   "cell_type": "code",
   "execution_count": null,
   "id": "34e6c4e1",
   "metadata": {},
   "outputs": [],
   "source": [
    "BLOCK_FILE_PATH = 'data/crimerates.shp'\n",
    "BLOCK_VALUE_COL = 'CrimeRate'\n",
    "BLOCK_GEOMETRY = 'geometry'\n",
    "BLOCK_INDEX_COL = 'Code'\n",
    "\n",
    "POINT_SUPPORT_PATH = 'data/population.shp'\n",
    "POINT_SUPPORT_VAL_COL = 'TOT'\n",
    "POINT_SUPPORT_GEOMETRY = 'geometry'"
   ]
  },
  {
   "cell_type": "code",
   "execution_count": null,
   "id": "3610d2fd",
   "metadata": {},
   "outputs": [],
   "source": [
    "# Blocks\n",
    "blocks_input = ptp.Blocks()\n",
    "blocks_input.from_file(fpath=BLOCK_FILE_PATH,\n",
    "                       value_col=BLOCK_VALUE_COL,\n",
    "                       geometry_col=BLOCK_GEOMETRY,\n",
    "                       index_col=BLOCK_INDEX_COL)"
   ]
  },
  {
   "cell_type": "code",
   "execution_count": null,
   "id": "6fe02ca3",
   "metadata": {},
   "outputs": [],
   "source": [
    "# Point support\n",
    "point_support_input = ptp.PointSupport()\n",
    "point_support_input.from_files(point_support_data_file=POINT_SUPPORT_PATH,\n",
    "                               blocks_file=BLOCK_FILE_PATH,\n",
    "                               point_support_geometry_col=POINT_SUPPORT_GEOMETRY,\n",
    "                               point_support_val_col=POINT_SUPPORT_VAL_COL,\n",
    "                               blocks_geometry_col=BLOCK_GEOMETRY,\n",
    "                               blocks_index_col=BLOCK_INDEX_COL)"
   ]
  },
  {
   "cell_type": "markdown",
   "id": "586856d0",
   "metadata": {},
   "source": [
    "### Block 3 - fit models"
   ]
  },
  {
   "cell_type": "code",
   "execution_count": null,
   "id": "f46567ce",
   "metadata": {},
   "outputs": [],
   "source": [
    "MODELS = []\n",
    "STEP_SIZE = 38_000\n",
    "MAX_RANGE = 380_000\n",
    "\n",
    "# Fit model without nugget\n",
    "\n",
    "transformer = ptp.Deconvolution()"
   ]
  },
  {
   "cell_type": "code",
   "execution_count": null,
   "id": "823a0364",
   "metadata": {},
   "outputs": [],
   "source": [
    "transformer.fit(agg_dataset=blocks_input,\n",
    "                point_support_dataset=point_support_input,\n",
    "                agg_step_size=STEP_SIZE,\n",
    "                agg_max_range=MAX_RANGE)"
   ]
  },
  {
   "cell_type": "code",
   "execution_count": null,
   "id": "7c8c1179",
   "metadata": {},
   "outputs": [],
   "source": [
    "transformer.plot_variograms()"
   ]
  },
  {
   "cell_type": "markdown",
   "id": "916c6c87",
   "metadata": {},
   "source": [
    "### Block 4 - transform models & check deviations, plot output variograms"
   ]
  },
  {
   "cell_type": "code",
   "execution_count": null,
   "id": "b91e7c41",
   "metadata": {},
   "outputs": [],
   "source": [
    "transformer.transform(max_iters=5)"
   ]
  },
  {
   "cell_type": "code",
   "execution_count": null,
   "id": "352bc122",
   "metadata": {},
   "outputs": [],
   "source": [
    "transformer.plot_deviations()"
   ]
  },
  {
   "cell_type": "code",
   "execution_count": null,
   "id": "6b92ae1c",
   "metadata": {},
   "outputs": [],
   "source": [
    "transformer.plot_variograms()"
   ]
  },
  {
   "cell_type": "markdown",
   "id": "4d406f1e",
   "metadata": {},
   "source": [
    "### Block 5 - export fitted and transformed model"
   ]
  },
  {
   "cell_type": "code",
   "execution_count": null,
   "id": "41fd1e98",
   "metadata": {},
   "outputs": [],
   "source": [
    "transformer.export_model('data/no_nugget_model.json')"
   ]
  },
  {
   "cell_type": "markdown",
   "id": "4eaa0b08",
   "metadata": {},
   "source": [
    "---"
   ]
  }
 ],
 "metadata": {
  "kernelspec": {
   "display_name": "Python 3 (ipykernel)",
   "language": "python",
   "name": "python3"
  },
  "language_info": {
   "codemirror_mode": {
    "name": "ipython",
    "version": 3
   },
   "file_extension": ".py",
   "mimetype": "text/x-python",
   "name": "python",
   "nbconvert_exporter": "python",
   "pygments_lexer": "ipython3",
   "version": "3.11.0"
  }
 },
 "nbformat": 4,
 "nbformat_minor": 5
}
