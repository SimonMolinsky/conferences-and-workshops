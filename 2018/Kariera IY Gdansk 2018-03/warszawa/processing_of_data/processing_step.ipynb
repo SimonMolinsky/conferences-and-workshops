{
 "cells": [
  {
   "cell_type": "markdown",
   "metadata": {},
   "source": [
    "## Full example of processing satellite raster data"
   ]
  },
  {
   "cell_type": "markdown",
   "metadata": {},
   "source": [
    "Steps:\n",
    "* HDF LST band to tiff\n",
    "* Clip raster\n",
    "* Calculate zonal statistics"
   ]
  },
  {
   "cell_type": "code",
   "execution_count": 1,
   "metadata": {},
   "outputs": [],
   "source": [
    "import os\n",
    "import subprocess\n",
    "import datetime\n",
    "import numpy as np\n",
    "import pandas as pd\n",
    "from osgeo import gdal, ogr"
   ]
  },
  {
   "cell_type": "code",
   "execution_count": 2,
   "metadata": {},
   "outputs": [],
   "source": [
    "# HDF to tiff"
   ]
  },
  {
   "cell_type": "code",
   "execution_count": 8,
   "metadata": {},
   "outputs": [],
   "source": [
    "def only_hdf(bag_of_files, file_end):\n",
    "    f_list = []\n",
    "    for f in bag_of_files:\n",
    "        if f.endswith(file_end):\n",
    "            f_list.append(f)\n",
    "    return f_list\n",
    "\n",
    "def only_area_of_interest(bag_of_files, area_of_interest):\n",
    "    a_list = []\n",
    "    for f in bag_of_files:\n",
    "        if area_of_interest in f:\n",
    "            a_list.append(f)\n",
    "    return a_list\n",
    "\n",
    "def get_filelist(folder, file_ending, aoi):\n",
    "    filelist = os.listdir(folder)\n",
    "    filelist = only_hdf(filelist, file_ending)\n",
    "    filelist = only_area_of_interest(filelist, aoi)\n",
    "    return filelist"
   ]
  },
  {
   "cell_type": "code",
   "execution_count": 9,
   "metadata": {},
   "outputs": [],
   "source": [
    "hdf_files_for_processing = get_filelist('input/rastry/wawa/', '.hdf', '.h19v')"
   ]
  },
  {
   "cell_type": "code",
   "execution_count": 11,
   "metadata": {},
   "outputs": [],
   "source": [
    "def hdf_to_tiff(list_of_files):\n",
    "    for f in list_of_files:\n",
    "        input_folder = 'input/rastry/wawa/'\n",
    "        output_folder = 'input/rastry/tiffs/'\n",
    "        output_file_name_day = 'day_' + f[:-4] + '.tif'\n",
    "        output_file_name_night = 'night_' + f[:-4] + '.tif'\n",
    "\n",
    "        modis_data = gdal.Open((input_folder + f))\n",
    "        subdatasets = modis_data.GetSubDatasets()\n",
    "        del modis_data\n",
    "    \n",
    "        day = subdatasets[0][0]\n",
    "        night = subdatasets[4][0]\n",
    "    \n",
    "        subprocess.call(['gdal_translate', day, (output_folder + output_file_name_day)])\n",
    "        subprocess.call(['gdal_translate', night, (output_folder + output_file_name_night)])"
   ]
  },
  {
   "cell_type": "code",
   "execution_count": 12,
   "metadata": {},
   "outputs": [],
   "source": [
    "hdf_to_tiff(hdf_files_for_processing)"
   ]
  },
  {
   "cell_type": "code",
   "execution_count": 13,
   "metadata": {},
   "outputs": [],
   "source": [
    "# Clip to area of interst"
   ]
  },
  {
   "cell_type": "code",
   "execution_count": 14,
   "metadata": {},
   "outputs": [],
   "source": [
    "FILE_ENDING = '.tif'\n",
    "FOLDER = 'input/rastry/tiffs/'\n",
    "\n",
    "filelist = os.listdir(FOLDER)\n",
    "\n",
    "def only_tif(bag_of_files):\n",
    "    f_list = []\n",
    "    for f in bag_of_files:\n",
    "        if f.endswith(FILE_ENDING):\n",
    "            f_list.append(f)\n",
    "    return f_list"
   ]
  },
  {
   "cell_type": "code",
   "execution_count": 15,
   "metadata": {},
   "outputs": [],
   "source": [
    "filelist = only_tif(filelist)"
   ]
  },
  {
   "cell_type": "code",
   "execution_count": 16,
   "metadata": {},
   "outputs": [],
   "source": [
    "VECTOR = 'input/wektor/warszawa.shp'\n",
    "\n",
    "for f in filelist:\n",
    "    input_tif = 'input/rastry/tiffs/' + f\n",
    "    output_tif = 'input/rastry/clipped/clipped_' + f\n",
    "    subprocess.call(['gdalwarp', '-cutline', VECTOR, '-crop_to_cutline', '-dstalpha', input_tif, output_tif])"
   ]
  },
  {
   "cell_type": "code",
   "execution_count": 17,
   "metadata": {},
   "outputs": [],
   "source": [
    "# Zonal statistics"
   ]
  },
  {
   "cell_type": "code",
   "execution_count": 18,
   "metadata": {},
   "outputs": [],
   "source": [
    "FILE_ENDING = '.tif'\n",
    "FOLDER = 'input/rastry/clipped/'\n",
    "\n",
    "filelist = os.listdir(FOLDER)\n",
    "\n",
    "def get_clipped_files(bag_of_files):\n",
    "    f_list = []\n",
    "    for f in bag_of_files:\n",
    "        if f.endswith(FILE_ENDING):\n",
    "            f_list.append(f)\n",
    "    return f_list"
   ]
  },
  {
   "cell_type": "code",
   "execution_count": 19,
   "metadata": {},
   "outputs": [],
   "source": [
    "filelist = get_clipped_files(filelist)"
   ]
  },
  {
   "cell_type": "code",
   "execution_count": 20,
   "metadata": {},
   "outputs": [],
   "source": [
    "def detect_day_or_night(name_str):\n",
    "    if 'day' in name_str:\n",
    "        return 'day'\n",
    "    elif 'night' in name_str:\n",
    "        return 'night'\n",
    "    else:\n",
    "        return None\n",
    "\n",
    "def leap_or_regular(year):\n",
    "    if ((year % 4) == 0 and (year % 100) != 0) or ((year % 400) == 0):\n",
    "        return True\n",
    "    else:\n",
    "        return False\n",
    "    \n",
    "def julian_date_to_month(name_str):\n",
    "    \"\"\"Function for MODIS file name processing\"\"\"\n",
    "    \n",
    "    LOOK_UP_TABLE_BASE = 'input/lut/julian_day_calendar_'\n",
    "    \n",
    "    # Get the day or night\n",
    "    day_or_night = detect_day_or_night(name_str)\n",
    "    \n",
    "    # Get year and Julian day from filename\n",
    "    position = name_str.find('.')\n",
    "    position = position + 2\n",
    "    position_end = position + 7\n",
    "    date = name_str[position:position_end]\n",
    "    m_year = date[:4]\n",
    "    m_year = int(m_year)\n",
    "    julian_day = date[4:]\n",
    "    julian_day = int(julian_day)\n",
    "    \n",
    "    # Check if year is leap or not\n",
    "    is_leap = leap_or_regular(m_year)\n",
    "    \n",
    "    # Find month of measurements\n",
    "    lut_address = ''\n",
    "    if is_leap:\n",
    "        lut_address = LOOK_UP_TABLE_BASE + 'leap.csv'\n",
    "    else:\n",
    "        lut_address = LOOK_UP_TABLE_BASE + 'regular.csv'\n",
    "    \n",
    "    lut_df = pd.read_csv(lut_address, index_col=0)\n",
    "    \n",
    "    if lut_df.isin([julian_day]).iloc[0].any():\n",
    "        str_month = lut_df.columns[(lut_df == julian_day).iloc[0]]\n",
    "        nb_month = lut_df.columns.get_loc(str_month[0]) + 1\n",
    "        # Set the date\n",
    "        acquisition_time = datetime.date(year = m_year,\n",
    "                                        month = nb_month,\n",
    "                                        day = 1)\n",
    "    \n",
    "        return [name_str, acquisition_time, day_or_night]\n",
    "    else:\n",
    "        return ['-1', '-1', '-1']"
   ]
  },
  {
   "cell_type": "code",
   "execution_count": 23,
   "metadata": {},
   "outputs": [],
   "source": [
    "COLS = ['FILENAME',\n",
    "        'ACQUISITION TIME',\n",
    "        'DAY OR NIGHT',\n",
    "        'MIN TEMPERATURE',\n",
    "        'MAX TEMPERATURE',\n",
    "        'MEAN TEMPERATURE',\n",
    "        'STD OF TEMPERATURE']"
   ]
  },
  {
   "cell_type": "code",
   "execution_count": 24,
   "metadata": {},
   "outputs": [],
   "source": [
    "def zonal_stats(numpy_array, count_zeros = None):\n",
    "    if count_zeros == None:\n",
    "        mean_value = np.mean(numpy_array[numpy_array > 0])\n",
    "        std_value = np.std(numpy_array[numpy_array > 0])\n",
    "    else:\n",
    "        mean_value = np.mean(numpy_array)\n",
    "        std_value = np.std(numpy_array)\n",
    "        \n",
    "    max_value = np.max(numpy_array)\n",
    "    min_value = np.min(numpy_array[numpy_array > 0])\n",
    "    \n",
    "    return [min_value, max_value, mean_value, std_value]"
   ]
  },
  {
   "cell_type": "code",
   "execution_count": 25,
   "metadata": {},
   "outputs": [],
   "source": [
    "df = pd.DataFrame(columns = COLS)\n",
    "for f in filelist:\n",
    "    # Read file\n",
    "    modis_data = gdal.Open((FOLDER + f))\n",
    "    data_description = julian_date_to_month(f)\n",
    "    \n",
    "    # Show raster as array\n",
    "    array_modis = (modis_data.ReadAsArray().astype(np.float32))\n",
    "    temperature_matrix = array_modis[0] * 0.02\n",
    "    \n",
    "    # Count number of 'good' pixels\n",
    "    pixel_counter = (temperature_matrix > 0).sum()\n",
    "    \n",
    "    # Decide to process data or not - if not save filename in log file\n",
    "    threshold = 4\n",
    "    stats = [-1, -1, -1, -1]\n",
    "    if pixel_counter < threshold:\n",
    "        with open(\"corrupted.log\", \"a\") as log_file:\n",
    "            log_file.write(data_description[0])\n",
    "            log_file.write('\\n')\n",
    "    else:\n",
    "        stats = zonal_stats(temperature_matrix)\n",
    "        \n",
    "    # Prepare data frame with all data\n",
    "    cols = ['FILENAME', 'ACQUISITION TIME', 'DAY OR NIGHT', 'MIN TEMPERATURE', 'MAX TEMPERATURE', 'MEAN TEMPERATURE', 'STD OF TEMPERATURE']\n",
    "\n",
    "    information_frame = pd.DataFrame(data = [data_description + stats], columns = cols)\n",
    "    frames = [df, information_frame]\n",
    "    df = pd.concat(frames)\n",
    "    \n",
    "    del modis_data"
   ]
  },
  {
   "cell_type": "code",
   "execution_count": 26,
   "metadata": {},
   "outputs": [
    {
     "data": {
      "text/html": [
       "<div>\n",
       "<style scoped>\n",
       "    .dataframe tbody tr th:only-of-type {\n",
       "        vertical-align: middle;\n",
       "    }\n",
       "\n",
       "    .dataframe tbody tr th {\n",
       "        vertical-align: top;\n",
       "    }\n",
       "\n",
       "    .dataframe thead th {\n",
       "        text-align: right;\n",
       "    }\n",
       "</style>\n",
       "<table border=\"1\" class=\"dataframe\">\n",
       "  <thead>\n",
       "    <tr style=\"text-align: right;\">\n",
       "      <th></th>\n",
       "      <th>FILENAME</th>\n",
       "      <th>ACQUISITION TIME</th>\n",
       "      <th>DAY OR NIGHT</th>\n",
       "      <th>MIN TEMPERATURE</th>\n",
       "      <th>MAX TEMPERATURE</th>\n",
       "      <th>MEAN TEMPERATURE</th>\n",
       "      <th>STD OF TEMPERATURE</th>\n",
       "    </tr>\n",
       "  </thead>\n",
       "  <tbody>\n",
       "    <tr>\n",
       "      <th>0</th>\n",
       "      <td>clipped_day_MOD11B3.A2000032.h19v03.006.201516...</td>\n",
       "      <td>2000-02-01</td>\n",
       "      <td>day</td>\n",
       "      <td>280.239990</td>\n",
       "      <td>283.239990</td>\n",
       "      <td>282.307983</td>\n",
       "      <td>0.839964</td>\n",
       "    </tr>\n",
       "    <tr>\n",
       "      <th>0</th>\n",
       "      <td>-1</td>\n",
       "      <td>-1</td>\n",
       "      <td>-1</td>\n",
       "      <td>280.239990</td>\n",
       "      <td>283.239990</td>\n",
       "      <td>282.307983</td>\n",
       "      <td>0.839964</td>\n",
       "    </tr>\n",
       "    <tr>\n",
       "      <th>0</th>\n",
       "      <td>clipped_day_MOD11B3.A2000061.h19v03.006.201516...</td>\n",
       "      <td>2000-03-01</td>\n",
       "      <td>day</td>\n",
       "      <td>277.019989</td>\n",
       "      <td>281.779999</td>\n",
       "      <td>279.126648</td>\n",
       "      <td>1.201174</td>\n",
       "    </tr>\n",
       "    <tr>\n",
       "      <th>0</th>\n",
       "      <td>clipped_day_MOD11B3.A2000092.h19v03.006.201516...</td>\n",
       "      <td>2000-04-01</td>\n",
       "      <td>day</td>\n",
       "      <td>296.059998</td>\n",
       "      <td>299.279999</td>\n",
       "      <td>297.433319</td>\n",
       "      <td>0.933201</td>\n",
       "    </tr>\n",
       "    <tr>\n",
       "      <th>0</th>\n",
       "      <td>clipped_day_MOD11B3.A2000122.h19v03.006.201516...</td>\n",
       "      <td>2000-05-01</td>\n",
       "      <td>day</td>\n",
       "      <td>298.019989</td>\n",
       "      <td>302.579987</td>\n",
       "      <td>300.953308</td>\n",
       "      <td>1.216894</td>\n",
       "    </tr>\n",
       "  </tbody>\n",
       "</table>\n",
       "</div>"
      ],
      "text/plain": [
       "                                            FILENAME ACQUISITION TIME  \\\n",
       "0  clipped_day_MOD11B3.A2000032.h19v03.006.201516...       2000-02-01   \n",
       "0                                                 -1               -1   \n",
       "0  clipped_day_MOD11B3.A2000061.h19v03.006.201516...       2000-03-01   \n",
       "0  clipped_day_MOD11B3.A2000092.h19v03.006.201516...       2000-04-01   \n",
       "0  clipped_day_MOD11B3.A2000122.h19v03.006.201516...       2000-05-01   \n",
       "\n",
       "  DAY OR NIGHT  MIN TEMPERATURE  MAX TEMPERATURE  MEAN TEMPERATURE  \\\n",
       "0          day       280.239990       283.239990        282.307983   \n",
       "0           -1       280.239990       283.239990        282.307983   \n",
       "0          day       277.019989       281.779999        279.126648   \n",
       "0          day       296.059998       299.279999        297.433319   \n",
       "0          day       298.019989       302.579987        300.953308   \n",
       "\n",
       "   STD OF TEMPERATURE  \n",
       "0            0.839964  \n",
       "0            0.839964  \n",
       "0            1.201174  \n",
       "0            0.933201  \n",
       "0            1.216894  "
      ]
     },
     "execution_count": 26,
     "metadata": {},
     "output_type": "execute_result"
    }
   ],
   "source": [
    "df.head()"
   ]
  },
  {
   "cell_type": "code",
   "execution_count": 27,
   "metadata": {},
   "outputs": [],
   "source": [
    "df.to_csv('output/monthly_lst_measurements_warszawa.csv', index=False)"
   ]
  },
  {
   "cell_type": "code",
   "execution_count": null,
   "metadata": {},
   "outputs": [],
   "source": []
  }
 ],
 "metadata": {
  "kernelspec": {
   "display_name": "Python 3",
   "language": "python",
   "name": "python3"
  },
  "language_info": {
   "codemirror_mode": {
    "name": "ipython",
    "version": 3
   },
   "file_extension": ".py",
   "mimetype": "text/x-python",
   "name": "python",
   "nbconvert_exporter": "python",
   "pygments_lexer": "ipython3",
   "version": "3.6.4"
  }
 },
 "nbformat": 4,
 "nbformat_minor": 2
}
